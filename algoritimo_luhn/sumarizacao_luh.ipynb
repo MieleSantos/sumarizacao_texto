{
 "cells": [
  {
   "cell_type": "markdown",
   "metadata": {},
   "source": [
    "# Sumarização com algoritimo LUHN"
   ]
  },
  {
   "cell_type": "markdown",
   "metadata": {},
   "source": [
    "O algoritmo de LUHN\n",
    "- Seleciona palavras de amiro importancia baseado na frequencia\n",
    "- Pesos maiores são associados á palavras no inicio do documento\n",
    "- Para calcular a nota de uma sentença: 4 elevado 2/6=2,7"
   ]
  },
  {
   "cell_type": "markdown",
   "metadata": {},
   "source": [
    "#### Função para calcular a nota das sentenças"
   ]
  },
  {
   "cell_type": "code",
   "execution_count": 1,
   "metadata": {},
   "outputs": [
    {
     "name": "stderr",
     "output_type": "stream",
     "text": [
      "[nltk_data] Downloading package punkt to /home/derpy/nltk_data...\n",
      "[nltk_data]   Package punkt is already up-to-date!\n",
      "[nltk_data] Downloading package stopwords to /home/derpy/nltk_data...\n",
      "[nltk_data]   Package stopwords is already up-to-date!\n"
     ]
    }
   ],
   "source": [
    "from utils_algoritmo_luhn import calcular_nota_sentenca"
   ]
  },
  {
   "cell_type": "markdown",
   "metadata": {},
   "source": [
    "#### Função pra sumarizar os textos"
   ]
  },
  {
   "cell_type": "code",
   "execution_count": 2,
   "metadata": {},
   "outputs": [],
   "source": [
    "from utils_algoritmo_luhn import preprocessamento\n",
    "from utils_algoritmo_luhn import sumarizar"
   ]
  },
  {
   "cell_type": "code",
   "execution_count": 3,
   "metadata": {},
   "outputs": [],
   "source": [
    "texto_original = \"\"\"A inteligência artificial é a inteligência similar à humana. Definem como\n",
    "o estudo de agente artificial com inteligência. Ciência e engenharia de\n",
    "produzir máquinas com inteligência. Resolver problemas e possuir\n",
    "inteligência. Relacionada ao comportamento inteligente. Construção de\n",
    "máquinas para raciocinar. Aprender com os erros e acertos. Inteligência\n",
    "artificial é raciocinar nas situações do cotidiano.\"\"\"\n"
   ]
  },
  {
   "cell_type": "code",
   "execution_count": 4,
   "metadata": {},
   "outputs": [],
   "source": [
    "sentencas_originais, melhores_sentencas, notas_sentencas =  sumarizar(texto_original,5, 3, 3)"
   ]
  },
  {
   "cell_type": "code",
   "execution_count": 5,
   "metadata": {},
   "outputs": [
    {
     "data": {
      "text/plain": [
       "['A inteligência artificial é a inteligência similar à humana.',\n",
       " 'Definem como\\no estudo de agente artificial com inteligência.',\n",
       " 'Ciência e engenharia de\\nproduzir máquinas com inteligência.',\n",
       " 'Resolver problemas e possuir\\ninteligência.',\n",
       " 'Relacionada ao comportamento inteligente.',\n",
       " 'Construção de\\nmáquinas para raciocinar.',\n",
       " 'Aprender com os erros e acertos.',\n",
       " 'Inteligência\\nartificial é raciocinar nas situações do cotidiano.']"
      ]
     },
     "execution_count": 5,
     "metadata": {},
     "output_type": "execute_result"
    }
   ],
   "source": [
    "sentencas_originais"
   ]
  },
  {
   "cell_type": "code",
   "execution_count": 6,
   "metadata": {},
   "outputs": [
    {
     "data": {
      "text/plain": [
       "['Aprender com os erros e acertos.',\n",
       " 'Definem como\\no estudo de agente artificial com inteligência.',\n",
       " 'Construção de\\nmáquinas para raciocinar.']"
      ]
     },
     "execution_count": 6,
     "metadata": {},
     "output_type": "execute_result"
    }
   ],
   "source": [
    "melhores_sentencas"
   ]
  },
  {
   "cell_type": "code",
   "execution_count": 7,
   "metadata": {},
   "outputs": [
    {
     "data": {
      "text/plain": [
       "[(2.0, 0), (2.25, 1), (2.0, 2), (2.0, 3), (2.0, 4), (2.0, 5), (3.0, 6)]"
      ]
     },
     "execution_count": 7,
     "metadata": {},
     "output_type": "execute_result"
    }
   ],
   "source": [
    "notas_sentencas"
   ]
  },
  {
   "cell_type": "markdown",
   "metadata": {},
   "source": [
    "# Visualização do Resumo"
   ]
  },
  {
   "cell_type": "code",
   "execution_count": 8,
   "metadata": {},
   "outputs": [],
   "source": [
    "from IPython.core.display import HTML\n",
    "def visualiza_resumo(titulo, lista_sentencas, melhores_sentencas):\n",
    "    \"\"\"\n",
    "        Função para visualizar o texto com html\n",
    "    \"\"\"\n",
    "    texto = \"\"\n",
    "\n",
    "    display(HTML(\"<h1>Resumo do texto</h1>\"))\n",
    "\n",
    "    for sentenca in lista_sentencas:\n",
    "        if sentenca in melhores_sentencas:\n",
    "            texto += str(sentenca).replace(\n",
    "                sentenca, f\"<mark>{sentenca}</mark>\"\n",
    "            )\n",
    "        else:\n",
    "            texto += sentenca\n",
    "    display(HTML(f\"\"\"{texto}\"\"\"))"
   ]
  },
  {
   "cell_type": "code",
   "execution_count": 9,
   "metadata": {},
   "outputs": [
    {
     "data": {
      "text/html": [
       "<h1>Resumo do texto</h1>"
      ],
      "text/plain": [
       "<IPython.core.display.HTML object>"
      ]
     },
     "metadata": {},
     "output_type": "display_data"
    },
    {
     "data": {
      "text/html": [
       "A inteligência artificial é a inteligência similar à humana.<mark>Definem como\n",
       "o estudo de agente artificial com inteligência.</mark>Ciência e engenharia de\n",
       "produzir máquinas com inteligência.Resolver problemas e possuir\n",
       "inteligência.Relacionada ao comportamento inteligente.<mark>Construção de\n",
       "máquinas para raciocinar.</mark><mark>Aprender com os erros e acertos.</mark>Inteligência\n",
       "artificial é raciocinar nas situações do cotidiano."
      ],
      "text/plain": [
       "<IPython.core.display.HTML object>"
      ]
     },
     "metadata": {},
     "output_type": "display_data"
    }
   ],
   "source": [
    "visualiza_resumo(\"teste\", sentencas_originais, melhores_sentencas)"
   ]
  },
  {
   "cell_type": "markdown",
   "metadata": {},
   "source": [
    "# Extraindo texto da internet"
   ]
  },
  {
   "cell_type": "code",
   "execution_count": 10,
   "metadata": {},
   "outputs": [],
   "source": [
    "from goose3 import Goose"
   ]
  },
  {
   "cell_type": "code",
   "execution_count": 11,
   "metadata": {},
   "outputs": [],
   "source": [
    "g = Goose()\n",
    "artigo = g.extract(url=\"https://iaexpert.academy/2021/10/25/ia-atinge-novo-patamar-geracao-imagens-corpo-inteiro-a-partir-uma-unica-foto/\")"
   ]
  },
  {
   "cell_type": "code",
   "execution_count": 12,
   "metadata": {},
   "outputs": [
    {
     "data": {
      "text/plain": [
       "'A geração de imagens humanas fotorrealistas tem aplicações que incluem a criação de avatares virtuais, provadores virtuais, transferência de movimentos e a chamada síntese de posicionamento, onde várias imagens são usadas para gerar uma imagem de um novo ponto de vista. No caso de pessoas, esta tarefa é particularmente complicada para as abordagens tradicionais de processamento gráfico porque ela envolve a geometria tridimensional do corpo e das roupas; o controle das poses que é limitado pela estrutura física dos corpos e que causa deformações na forma; e a síntese de padrões de dobra que ocorrem, por exemplo, com roupas largas. Recentemente, métodos baseados em inteligência artificial mostraram resultados promissores utilizando redes generativas adversariais, mas para aplicações muito particulares, não atingindo o grau de generalização necessário para seu uso indiscriminado.\\n\\nPartindo destes métodos, pesquisadores da Virginia Tech, nos Estados Unidos, em parceria com a Adobe, apresentaram um sistema capaz de gerar renderizações humanas fotorrealistas em novas posições, mantendo os detalhes, a partir de uma única imagem original. O modelo usa a rede generativa chamada de StyleGAN, para transferência de estilo, mas numa abordagem condicionada pela pose. Os detalhes da imagem original são mantidos modulando a rede geradora através técnicas computacionais baseadas em superfície, que garantem a correta transferência da informação de um pixel dadas as restrições impostas pela nova posição.\\n\\nO desempenho do modelo foi avaliado tanto na manutenção da identidade da pessoa representada na nova posição, quanto no detalhamento presente nas roupas. A figura abaixo demonstra, no primeiro caso, o reposicionamento corporal, e no segundo, a transferência de roupa.\\n\\nO sistema se mostrou superior às alternativas disponíveis atualmente, representando um avanço real na tarefa de mapear os atributos físicos de uma imagem original para uma nova pose.'"
      ]
     },
     "execution_count": 12,
     "metadata": {},
     "output_type": "execute_result"
    }
   ],
   "source": [
    "artigo.cleaned_text"
   ]
  },
  {
   "cell_type": "code",
   "execution_count": 13,
   "metadata": {},
   "outputs": [],
   "source": [
    "sentencas_originais, melhores_sentencas, notas_sentencas =  sumarizar(artigo.cleaned_text,10, 10, 3)"
   ]
  },
  {
   "cell_type": "code",
   "execution_count": 14,
   "metadata": {},
   "outputs": [
    {
     "data": {
      "text/plain": [
       "['A geração de imagens humanas fotorrealistas tem aplicações que incluem a criação de avatares virtuais, provadores virtuais, transferência de movimentos e a chamada síntese de posicionamento, onde várias imagens são usadas para gerar uma imagem de um novo ponto de vista.',\n",
       " 'No caso de pessoas, esta tarefa é particularmente complicada para as abordagens tradicionais de processamento gráfico porque ela envolve a geometria tridimensional do corpo e das roupas; o controle das poses que é limitado pela estrutura física dos corpos e que causa deformações na forma; e a síntese de padrões de dobra que ocorrem, por exemplo, com roupas largas.',\n",
       " 'Recentemente, métodos baseados em inteligência artificial mostraram resultados promissores utilizando redes generativas adversariais, mas para aplicações muito particulares, não atingindo o grau de generalização necessário para seu uso indiscriminado.',\n",
       " 'Partindo destes métodos, pesquisadores da Virginia Tech, nos Estados Unidos, em parceria com a Adobe, apresentaram um sistema capaz de gerar renderizações humanas fotorrealistas em novas posições, mantendo os detalhes, a partir de uma única imagem original.',\n",
       " 'O modelo usa a rede generativa chamada de StyleGAN, para transferência de estilo, mas numa abordagem condicionada pela pose.',\n",
       " 'Os detalhes da imagem original são mantidos modulando a rede geradora através técnicas computacionais baseadas em superfície, que garantem a correta transferência da informação de um pixel dadas as restrições impostas pela nova posição.',\n",
       " 'O desempenho do modelo foi avaliado tanto na manutenção da identidade da pessoa representada na nova posição, quanto no detalhamento presente nas roupas.',\n",
       " 'A figura abaixo demonstra, no primeiro caso, o reposicionamento corporal, e no segundo, a transferência de roupa.',\n",
       " 'O sistema se mostrou superior às alternativas disponíveis atualmente, representando um avanço real na tarefa de mapear os atributos físicos de uma imagem original para uma nova pose.']"
      ]
     },
     "execution_count": 14,
     "metadata": {},
     "output_type": "execute_result"
    }
   ],
   "source": [
    "sentencas_originais"
   ]
  },
  {
   "cell_type": "code",
   "execution_count": 15,
   "metadata": {},
   "outputs": [
    {
     "data": {
      "text/plain": [
       "['Recentemente, métodos baseados em inteligência artificial mostraram resultados promissores utilizando redes generativas adversariais, mas para aplicações muito particulares, não atingindo o grau de generalização necessário para seu uso indiscriminado.',\n",
       " 'Os detalhes da imagem original são mantidos modulando a rede geradora através técnicas computacionais baseadas em superfície, que garantem a correta transferência da informação de um pixel dadas as restrições impostas pela nova posição.',\n",
       " 'O modelo usa a rede generativa chamada de StyleGAN, para transferência de estilo, mas numa abordagem condicionada pela pose.']"
      ]
     },
     "execution_count": 15,
     "metadata": {},
     "output_type": "execute_result"
    }
   ],
   "source": [
    "melhores_sentencas"
   ]
  },
  {
   "cell_type": "code",
   "execution_count": 16,
   "metadata": {},
   "outputs": [
    {
     "data": {
      "text/plain": [
       "[(2.0, 0),\n",
       " (3.0, 1),\n",
       " (4.0, 2),\n",
       " (3.125, 3),\n",
       " (3.272727272727273, 4),\n",
       " (3.272727272727273, 5),\n",
       " (2.0, 6),\n",
       " (1.0, 7),\n",
       " (1.6, 8),\n",
       " (2.0, 9),\n",
       " (2.0, 10),\n",
       " (2.0, 11),\n",
       " (0.6666666666666666, 12),\n",
       " (2.0, 13),\n",
       " (3.0, 14)]"
      ]
     },
     "execution_count": 16,
     "metadata": {},
     "output_type": "execute_result"
    }
   ],
   "source": [
    "notas_sentencas"
   ]
  },
  {
   "cell_type": "code",
   "execution_count": 17,
   "metadata": {},
   "outputs": [
    {
     "data": {
      "text/html": [
       "<h1>Resumo do texto</h1>"
      ],
      "text/plain": [
       "<IPython.core.display.HTML object>"
      ]
     },
     "metadata": {},
     "output_type": "display_data"
    },
    {
     "data": {
      "text/html": [
       "A geração de imagens humanas fotorrealistas tem aplicações que incluem a criação de avatares virtuais, provadores virtuais, transferência de movimentos e a chamada síntese de posicionamento, onde várias imagens são usadas para gerar uma imagem de um novo ponto de vista.No caso de pessoas, esta tarefa é particularmente complicada para as abordagens tradicionais de processamento gráfico porque ela envolve a geometria tridimensional do corpo e das roupas; o controle das poses que é limitado pela estrutura física dos corpos e que causa deformações na forma; e a síntese de padrões de dobra que ocorrem, por exemplo, com roupas largas.<mark>Recentemente, métodos baseados em inteligência artificial mostraram resultados promissores utilizando redes generativas adversariais, mas para aplicações muito particulares, não atingindo o grau de generalização necessário para seu uso indiscriminado.</mark>Partindo destes métodos, pesquisadores da Virginia Tech, nos Estados Unidos, em parceria com a Adobe, apresentaram um sistema capaz de gerar renderizações humanas fotorrealistas em novas posições, mantendo os detalhes, a partir de uma única imagem original.<mark>O modelo usa a rede generativa chamada de StyleGAN, para transferência de estilo, mas numa abordagem condicionada pela pose.</mark><mark>Os detalhes da imagem original são mantidos modulando a rede geradora através técnicas computacionais baseadas em superfície, que garantem a correta transferência da informação de um pixel dadas as restrições impostas pela nova posição.</mark>O desempenho do modelo foi avaliado tanto na manutenção da identidade da pessoa representada na nova posição, quanto no detalhamento presente nas roupas.A figura abaixo demonstra, no primeiro caso, o reposicionamento corporal, e no segundo, a transferência de roupa.O sistema se mostrou superior às alternativas disponíveis atualmente, representando um avanço real na tarefa de mapear os atributos físicos de uma imagem original para uma nova pose."
      ],
      "text/plain": [
       "<IPython.core.display.HTML object>"
      ]
     },
     "metadata": {},
     "output_type": "display_data"
    }
   ],
   "source": [
    "visualiza_resumo(\"teste\", sentencas_originais, melhores_sentencas)"
   ]
  },
  {
   "cell_type": "markdown",
   "metadata": {},
   "source": [
    "# Leitura de artigos de feed de noticias(RSS)"
   ]
  },
  {
   "cell_type": "code",
   "execution_count": 18,
   "metadata": {
    "tags": []
   },
   "outputs": [
    {
     "name": "stdout",
     "output_type": "stream",
     "text": [
      "Requirement already satisfied: feedparser in /home/derpy/.cache/pypoetry/virtualenvs/classificacao-de-dados-pln-ri4D_3JE-py3.8/lib/python3.8/site-packages (6.0.8)\n",
      "Requirement already satisfied: sgmllib3k in /home/derpy/.cache/pypoetry/virtualenvs/classificacao-de-dados-pln-ri4D_3JE-py3.8/lib/python3.8/site-packages (from feedparser) (1.0.0)\n",
      "\u001b[33mWARNING: You are using pip version 21.2.4; however, version 21.3.1 is available.\n",
      "You should consider upgrading via the '/home/derpy/.cache/pypoetry/virtualenvs/classificacao-de-dados-pln-ri4D_3JE-py3.8/bin/python -m pip install --upgrade pip' command.\u001b[0m\n"
     ]
    }
   ],
   "source": [
    "# instalando feedparser\n",
    "!pip install feedparser"
   ]
  },
  {
   "cell_type": "code",
   "execution_count": 19,
   "metadata": {},
   "outputs": [],
   "source": [
    "import feedparser\n",
    "import os\n",
    "import json\n",
    "from bs4 import BeautifulSoup\n"
   ]
  },
  {
   "cell_type": "code",
   "execution_count": 20,
   "metadata": {},
   "outputs": [],
   "source": [
    "url = \"https://iaexpert.academy/feed/\"\n",
    "feed = feedparser.parse(url)"
   ]
  },
  {
   "cell_type": "code",
   "execution_count": 21,
   "metadata": {
    "tags": []
   },
   "outputs": [
    {
     "data": {
      "text/plain": [
       "[{'title': 'IA revela fatores que levam a baixo índice de notificação de erros médicos',\n",
       "  'title_detail': {'type': 'text/plain',\n",
       "   'language': None,\n",
       "   'base': 'https://iaexpert.academy/feed/',\n",
       "   'value': 'IA revela fatores que levam a baixo índice de notificação de erros médicos'},\n",
       "  'links': [{'rel': 'alternate',\n",
       "    'type': 'text/html',\n",
       "    'href': 'https://iaexpert.academy/2022/01/24/ia-revela-fatores-que-levam-a-baixo-indice-de-notificacao-de-erros-medicos/?utm_source=rss&utm_medium=rss&utm_campaign=ia-revela-fatores-que-levam-a-baixo-indice-de-notificacao-de-erros-medicos'}],\n",
       "  'link': 'https://iaexpert.academy/2022/01/24/ia-revela-fatores-que-levam-a-baixo-indice-de-notificacao-de-erros-medicos/?utm_source=rss&utm_medium=rss&utm_campaign=ia-revela-fatores-que-levam-a-baixo-indice-de-notificacao-de-erros-medicos',\n",
       "  'comments': 'https://iaexpert.academy/2022/01/24/ia-revela-fatores-que-levam-a-baixo-indice-de-notificacao-de-erros-medicos/#respond',\n",
       "  'authors': [{'name': 'Denny Ceccon'}],\n",
       "  'author': 'Denny Ceccon',\n",
       "  'author_detail': {'name': 'Denny Ceccon'},\n",
       "  'published': 'Mon, 24 Jan 2022 08:00:00 +0000',\n",
       "  'published_parsed': time.struct_time(tm_year=2022, tm_mon=1, tm_mday=24, tm_hour=8, tm_min=0, tm_sec=0, tm_wday=0, tm_yday=24, tm_isdst=0),\n",
       "  'tags': [{'term': 'Notícias', 'scheme': None, 'label': None},\n",
       "   {'term': 'inteligência artificial', 'scheme': None, 'label': None},\n",
       "   {'term': 'medicina', 'scheme': None, 'label': None},\n",
       "   {'term': 'saúde', 'scheme': None, 'label': None}],\n",
       "  'id': 'https://iaexpert.academy/?p=32970',\n",
       "  'guidislink': False,\n",
       "  'summary': 'Os pesquisadores utilizaram ferramentas de machine learning para desvendar quais são os fatores demográficos, profissionais e ambientais que estimulam enfermeiros a não reportar erros de medicação, o que atrapalha a elaboração de planos preventivos eficazes.',\n",
       "  'summary_detail': {'type': 'text/html',\n",
       "   'language': None,\n",
       "   'base': 'https://iaexpert.academy/feed/',\n",
       "   'value': 'Os pesquisadores utilizaram ferramentas de machine learning para desvendar quais são os fatores demográficos, profissionais e ambientais que estimulam enfermeiros a não reportar erros de medicação, o que atrapalha a elaboração de planos preventivos eficazes.'},\n",
       "  'content': [{'type': 'text/html',\n",
       "    'language': None,\n",
       "    'base': 'https://iaexpert.academy/feed/',\n",
       "    'value': '<p>Os erros médicos são uma das principais causas de morte em ambiente hospitalar. Nos Estados Unidos, as mortes causadas por erro médico superam aquelas causadas por câncer de mama, AIDS e acidentes de carro juntos. O erro médico mais comum é aquele de medicação, sendo os enfermeiros os principais responsáveis por administrar remédios. Enquanto que os erros de medicação que causam prejuízo aos pacientes são geralmente reportados, há um forte incentivo para não reportar os erros &#8220;benignos&#8221;, sendo as principais razões o medo de atribuição de culpa, de punição e de retaliações. Com isto, as causas dos erros acabam não sendo investigadas adequadamente, e eles continuam acontecendo.</p>\\n\\n\\n\\n<p>Um <a href=\"https://www.sciencedirect.com/science/article/pii/S2590005620300345?via%3Dihub\">trabalho</a> de pesquisadores da Universidade de Iowa, nos Estados Unidos, aplicou inteligência artificial para entender melhor as principais razões pelas quais estes erros benignos não são reportados. Eles escolheram algoritmos de machine learning por sua habilidade de tratar dados inter-relacionados de maneira não-linear, como é o caso dos comportamentos humanos envolvidos no processo. Primeiro, as variáveis de maior impacto no fenômeno foram selecionadas por um método chamado de <em>extreme learning machines </em>(ELMs), que usa modelos de predição extremamente rápidos para investigar um número grande de variáveis potenciais. As variáveis selecionadas foram então visualizadas na forma de mapas auto-organizáveis (SOMs), que realizam redução não-linear de dimensionalidade para permitir a visualização e interpretação dos resultados.</p>\\n\\n\\n\\n<p>Os dados utilizados no estudo envolviam três pesquisas realizadas com enfermeiros, incluindo dados demográficos, relacionados à carga de trabalho, experiência e hierarquia, e como eles avaliam o ambiente e suas inter-relações profissionais. Três cenários foram avaliados: quando o erro é identificado e corrigido antes de afetar o paciente, quando o erro só é identificado depois da administração do medicamento mas o efeito é neutro, e finalmente quando havia risco de prejuízo mas isto não ocorreu. No primeiro caso, as variáveis de maior impacto foram aquelas relacionadas ao tempo de trabalho na unidade de saúde atual e à confiança e dedicação dos colegas. No segundo, teve relevância o turno de trabalho, a habilidade de procurar soluções alternativas para problemas, e o entusiasmo para realizar as tarefas que lhe foram confiadas. No terceiro, foram importantes os anos de experiência do profissional, sua visão otimista sobre o futuro, e sua percepção de um bom trabalho de seus administradores. Os mapas auto-organizáveis correspondentes podem ser visualizados na <a href=\"https://www.sciencedirect.com/science/article/pii/S2590005620300345?via%3Dihub\">publicação</a>, que está com acesso aberto.</p>\\n\\n\\n\\n<p>Estes resultados podem ajudar os gestores a promover um ambiente organizacional onde os enfermeiros se sintam mais à vontade para reportar os erros de medicação que porventura ocorram, e assim estabelecer políticas para evitar que eles ocorram, melhorando os índices de qualidade de atendimento.</p>'}],\n",
       "  'wfw_commentrss': 'https://iaexpert.academy/2022/01/24/ia-revela-fatores-que-levam-a-baixo-indice-de-notificacao-de-erros-medicos/feed/',\n",
       "  'slash_comments': '0'},\n",
       " {'title': 'IA auxilia a produzir melhores diagnósticos de fratura óssea',\n",
       "  'title_detail': {'type': 'text/plain',\n",
       "   'language': None,\n",
       "   'base': 'https://iaexpert.academy/feed/',\n",
       "   'value': 'IA auxilia a produzir melhores diagnósticos de fratura óssea'},\n",
       "  'links': [{'rel': 'alternate',\n",
       "    'type': 'text/html',\n",
       "    'href': 'https://iaexpert.academy/2022/01/21/ia-auxilia-a-produzir-melhores-diagnosticos-de-fratura-ossea/?utm_source=rss&utm_medium=rss&utm_campaign=ia-auxilia-a-produzir-melhores-diagnosticos-de-fratura-ossea'}],\n",
       "  'link': 'https://iaexpert.academy/2022/01/21/ia-auxilia-a-produzir-melhores-diagnosticos-de-fratura-ossea/?utm_source=rss&utm_medium=rss&utm_campaign=ia-auxilia-a-produzir-melhores-diagnosticos-de-fratura-ossea',\n",
       "  'comments': 'https://iaexpert.academy/2022/01/21/ia-auxilia-a-produzir-melhores-diagnosticos-de-fratura-ossea/#respond',\n",
       "  'authors': [{'name': 'Denny Ceccon'}],\n",
       "  'author': 'Denny Ceccon',\n",
       "  'author_detail': {'name': 'Denny Ceccon'},\n",
       "  'published': 'Fri, 21 Jan 2022 08:00:00 +0000',\n",
       "  'published_parsed': time.struct_time(tm_year=2022, tm_mon=1, tm_mday=21, tm_hour=8, tm_min=0, tm_sec=0, tm_wday=4, tm_yday=21, tm_isdst=0),\n",
       "  'tags': [{'term': 'Notícias', 'scheme': None, 'label': None},\n",
       "   {'term': 'fratura óssea', 'scheme': None, 'label': None},\n",
       "   {'term': 'inteligência artificial', 'scheme': None, 'label': None},\n",
       "   {'term': 'raios X', 'scheme': None, 'label': None}],\n",
       "  'id': 'https://iaexpert.academy/?p=32965',\n",
       "  'guidislink': False,\n",
       "  'summary': 'O sistema foi treinado para identificar regiões de interesse em imagens de raios-X, ajudando os técnicos a identificar fraturas, o que melhorou a qualidade dos exames sem comprometer o tempo de análise.',\n",
       "  'summary_detail': {'type': 'text/html',\n",
       "   'language': None,\n",
       "   'base': 'https://iaexpert.academy/feed/',\n",
       "   'value': 'O sistema foi treinado para identificar regiões de interesse em imagens de raios-X, ajudando os técnicos a identificar fraturas, o que melhorou a qualidade dos exames sem comprometer o tempo de análise.'},\n",
       "  'content': [{'type': 'text/html',\n",
       "    'language': None,\n",
       "    'base': 'https://iaexpert.academy/feed/',\n",
       "    'value': '<p>Um <a href=\"https://pubs.rsna.org/doi/10.1148/radiol.210937\">trabalho</a> publicado por pesquisadores da Universidade de Boston, nos Estados Unidos levantou que 24% dos erros de diagnóstico que ocorrem em atendimentos de pronto-socorro se devem a interpretações erradas de raios-X na identificação de fraturas. Algumas causas para isso podem ser atribuídas à urgência com que o diagnóstico é solicitado, e ao fato de que os técnicos trabalham em horários incomuns, o que supostamente atrapalha sua capacidade de interpretação.</p>\\n\\n\\n\\n<p>Para ajudar a melhorar este paradigma, os pesquisadores treinaram uma inteligência artificial na tarefa de identificar fraturas em imagens de raios-X. O sistema fez uso de uma biblioteca publicada pelo grupo de pesquisas do Facebook, chamada de <a href=\"https://github.com/facebookresearch/detectron2\">Detectron2</a>, que foi desenvolvida para comportar algoritmos de detecção e segmentação de imagens. No trabalho de Boston, foi utilizado um banco de dados contendo pelo menos 60 imagens de cada uma de 8 regiões do corpo, coletadas entre julho de 2020 e janeiro de 2021. Metade das imagens continham fraturas. Este banco de dados foi rotulado por dois radiologistas, sendo as discrepâncias resolvidas por um terceiro. O algoritmo foi treinado para identificar as imagens contendo fraturas e desenhar bounding boxes ao redor delas, para posterior análise de um especialista.</p>\\n\\n\\n\\n<p>Na fase de avaliação do sistema, 24 leitores humanos, incluindo radiologistas, ortopedistas, médicos de emergência, assistentes médicos e reumatologistas, avaliaram um banco de dados de validação, com e sem a assistência da inteligência artificial. Nos cenários com o auxílio, o número de fraturas não reportadas diminuiu em 29%, a sensibilidade foi 10% maior, e a especificidade foi 5% melhor. A análise também foi cerca de 6 segundos mais rápida.</p>\\n\\n\\n\\n<p>Os pesquisadores concluem que seu sistema apresenta uma melhora nas métricas de qualidade avaliadas, ao mesmo tempo que não impacta negativamente no tempo necessário para a produção do diagnóstico. Estes resultados devem ajudar a diminuir o desgaste de radiologistas e não-radiologistas atendendo emergências, principalmente quando em situações estressantes, ao mesmo tempo que melhora a experiência de atendimento dos pacientes.</p>'}],\n",
       "  'wfw_commentrss': 'https://iaexpert.academy/2022/01/21/ia-auxilia-a-produzir-melhores-diagnosticos-de-fratura-ossea/feed/',\n",
       "  'slash_comments': '0'},\n",
       " {'title': 'Primeiro programa em Python',\n",
       "  'title_detail': {'type': 'text/plain',\n",
       "   'language': None,\n",
       "   'base': 'https://iaexpert.academy/feed/',\n",
       "   'value': 'Primeiro programa em Python'},\n",
       "  'links': [{'rel': 'alternate',\n",
       "    'type': 'text/html',\n",
       "    'href': 'https://iaexpert.academy/2022/01/20/primeiro-programa-em-python/?utm_source=rss&utm_medium=rss&utm_campaign=primeiro-programa-em-python'}],\n",
       "  'link': 'https://iaexpert.academy/2022/01/20/primeiro-programa-em-python/?utm_source=rss&utm_medium=rss&utm_campaign=primeiro-programa-em-python',\n",
       "  'comments': 'https://iaexpert.academy/2022/01/20/primeiro-programa-em-python/#respond',\n",
       "  'authors': [{'name': 'Jones Granatyr'}],\n",
       "  'author': 'Jones Granatyr',\n",
       "  'author_detail': {'name': 'Jones Granatyr'},\n",
       "  'published': 'Thu, 20 Jan 2022 10:00:00 +0000',\n",
       "  'published_parsed': time.struct_time(tm_year=2022, tm_mon=1, tm_mday=20, tm_hour=10, tm_min=0, tm_sec=0, tm_wday=3, tm_yday=20, tm_isdst=0),\n",
       "  'tags': [{'term': 'Programação', 'scheme': None, 'label': None},\n",
       "   {'term': 'programação', 'scheme': None, 'label': None},\n",
       "   {'term': 'Python', 'scheme': None, 'label': None}],\n",
       "  'id': 'https://iaexpert.academy/?p=32927',\n",
       "  'guidislink': False,\n",
       "  'summary': 'Veja nesta aula noções sobre o primeiro programa em Python. A aula faz parte do curso &#8220;Lógica de Programação: O Guia Completo&#8221;. O curso está disponível para assinantes IA Expert Academy. Curso na Udemy.',\n",
       "  'summary_detail': {'type': 'text/html',\n",
       "   'language': None,\n",
       "   'base': 'https://iaexpert.academy/feed/',\n",
       "   'value': 'Veja nesta aula noções sobre o primeiro programa em Python. A aula faz parte do curso &#8220;Lógica de Programação: O Guia Completo&#8221;. O curso está disponível para assinantes IA Expert Academy. Curso na Udemy.'},\n",
       "  'content': [{'type': 'text/html',\n",
       "    'language': None,\n",
       "    'base': 'https://iaexpert.academy/feed/',\n",
       "    'value': '<p>Veja nesta aula noções sobre o primeiro programa em Python. A aula faz parte do curso &#8220;Lógica de Programação: O Guia Completo&#8221;.</p>\\n\\n\\n\\n<p>O curso está disponível para <a href=\"https://iaexpert.academy/assinatura\" rel=\"noreferrer noopener\" target=\"_blank\">assinantes</a> IA Expert Academy.</p>\\n\\n\\n\\n<p>Curso na <a href=\"https://www.udemy.com/course/logica-de-programacao-o-guia-completo/?referralCode=E6843B382B93845B6CBE\" rel=\"noreferrer noopener\" target=\"_blank\">Udemy.</a></p>\\n\\n\\n\\n<figure class=\"wp-block-embed\"><div class=\"wp-block-embed__wrapper\">\\n<div class=\"ast-oembed-container\"></div>\\n</div></figure>'}],\n",
       "  'wfw_commentrss': 'https://iaexpert.academy/2022/01/20/primeiro-programa-em-python/feed/',\n",
       "  'slash_comments': '0'},\n",
       " {'title': 'IA aumenta a resolução e a sensibilidade de microscópios eletrônicos',\n",
       "  'title_detail': {'type': 'text/plain',\n",
       "   'language': None,\n",
       "   'base': 'https://iaexpert.academy/feed/',\n",
       "   'value': 'IA aumenta a resolução e a sensibilidade de microscópios eletrônicos'},\n",
       "  'links': [{'rel': 'alternate',\n",
       "    'type': 'text/html',\n",
       "    'href': 'https://iaexpert.academy/2022/01/19/ia-aumenta-resolucao-sensibilidade-microscopios-eletronicos/?utm_source=rss&utm_medium=rss&utm_campaign=ia-aumenta-resolucao-sensibilidade-microscopios-eletronicos'}],\n",
       "  'link': 'https://iaexpert.academy/2022/01/19/ia-aumenta-resolucao-sensibilidade-microscopios-eletronicos/?utm_source=rss&utm_medium=rss&utm_campaign=ia-aumenta-resolucao-sensibilidade-microscopios-eletronicos',\n",
       "  'comments': 'https://iaexpert.academy/2022/01/19/ia-aumenta-resolucao-sensibilidade-microscopios-eletronicos/#respond',\n",
       "  'authors': [{'name': 'Denny Ceccon'}],\n",
       "  'author': 'Denny Ceccon',\n",
       "  'author_detail': {'name': 'Denny Ceccon'},\n",
       "  'published': 'Wed, 19 Jan 2022 08:00:00 +0000',\n",
       "  'published_parsed': time.struct_time(tm_year=2022, tm_mon=1, tm_mday=19, tm_hour=8, tm_min=0, tm_sec=0, tm_wday=2, tm_yday=19, tm_isdst=0),\n",
       "  'tags': [{'term': 'Notícias', 'scheme': None, 'label': None},\n",
       "   {'term': 'inteligência artificial', 'scheme': None, 'label': None},\n",
       "   {'term': 'microscopia', 'scheme': None, 'label': None}],\n",
       "  'id': 'https://iaexpert.academy/?p=32954',\n",
       "  'guidislink': False,\n",
       "  'summary': 'O algoritmo utiliza os dados capturados pelo equipamento para reconstruir informações adicionais sobre o material analisado, permitindo gerar imagens com ainda maior detalhamento.',\n",
       "  'summary_detail': {'type': 'text/html',\n",
       "   'language': None,\n",
       "   'base': 'https://iaexpert.academy/feed/',\n",
       "   'value': 'O algoritmo utiliza os dados capturados pelo equipamento para reconstruir informações adicionais sobre o material analisado, permitindo gerar imagens com ainda maior detalhamento.'},\n",
       "  'content': [{'type': 'text/html',\n",
       "    'language': None,\n",
       "    'base': 'https://iaexpert.academy/feed/',\n",
       "    'value': '<p>O microscópio tradicional funciona utilizando uma série de lentes que exploram propriedades da luz, de forma a tornar visíveis pequenas estruturas. Entretanto, ele possui limitações, de forma que não é possível aumentar as imagens indefinidamente. Para contornar este problema, cientistas criaram os microscópios eletrônicos, que ao invés da luz, exploram propriedades do elétron. Quando um feixe de elétrons atravessa um material de interesse, seus parâmetros físicos são modificados ligeiramente, e esta modificação pode ser capturada por sensores para gerar uma imagem do material original. Com isso, os microscópios eletrônicos alcançam resoluções cerca de 1000 vezes maiores que as versões óticas.</p>\\n\\n\\n\\n<p>De tempos em tempos, avanços na tecnologia tornam disponíveis microscópios eletrônicos ainda mais potentes, mas cientistas que os utilizam como ferramenta de trabalho não costumam fazer atualizações frequentes, pois os equipamentos são muito caros. Isto motivou pesquisadores do Laboratório Nacional de Argonne, nos Estados Unidos, a desenvolver uma atualização de software que fosse capaz de aumentar a capacidade de um microscópio já instalado, sem qualquer custo material. Esta atualização veio na forma de uma inteligência artificial.</p>\\n\\n\\n\\n<p>O <a href=\"https://www.nature.com/articles/s41524-021-00600-x\">trabalho</a> envolveu o conhecimento prévio de que, junto com as informações dos parâmetros dos elétrons que já são capturadas atualmente, existem outras propriedades que são perdidas durante a operação tradicional dos equipamentos. Uma delas é a chamada fase, que carrega dados sobre o potencial eletrostático e de magnetização dos materiais analisados. Os pesquisadores desenvolveram um método de machine learning para reconstruir esta informação a partir dos demais dados disponíveis, e assim produzir ainda mais dados sobre o material de interesse.</p>\\n\\n\\n\\n<p>Além de ser do interesse de engenheiros pesquisando materiais para baterias e dispositivos eletrônicos, os dados de fase podem ser usados em conjunto com as demais propriedades capturadas pelos microscópios para aumentar ainda mais a resolução e a sensibilidade dos equipamentos, expandindo seu potencial de investigação sem investimento adicional.</p>\\n\\n\\n\\n<p>A recuperação dos dados de fase já é um problema antigo da área de microscopia, e esta é a primeira solução que não depende do conhecimento prévio dos parâmetros do equipamento, o que só foi possível graças ao envolvimento da inteligência artificial no trabalho.</p>'}],\n",
       "  'wfw_commentrss': 'https://iaexpert.academy/2022/01/19/ia-aumenta-resolucao-sensibilidade-microscopios-eletronicos/feed/',\n",
       "  'slash_comments': '0'},\n",
       " {'title': 'Estruturas condicionais em Python',\n",
       "  'title_detail': {'type': 'text/plain',\n",
       "   'language': None,\n",
       "   'base': 'https://iaexpert.academy/feed/',\n",
       "   'value': 'Estruturas condicionais em Python'},\n",
       "  'links': [{'rel': 'alternate',\n",
       "    'type': 'text/html',\n",
       "    'href': 'https://iaexpert.academy/2022/01/18/estruturas-condicionais-em-python/?utm_source=rss&utm_medium=rss&utm_campaign=estruturas-condicionais-em-python'}],\n",
       "  'link': 'https://iaexpert.academy/2022/01/18/estruturas-condicionais-em-python/?utm_source=rss&utm_medium=rss&utm_campaign=estruturas-condicionais-em-python',\n",
       "  'comments': 'https://iaexpert.academy/2022/01/18/estruturas-condicionais-em-python/#respond',\n",
       "  'authors': [{'name': 'Jones Granatyr'}],\n",
       "  'author': 'Jones Granatyr',\n",
       "  'author_detail': {'name': 'Jones Granatyr'},\n",
       "  'published': 'Tue, 18 Jan 2022 10:00:00 +0000',\n",
       "  'published_parsed': time.struct_time(tm_year=2022, tm_mon=1, tm_mday=18, tm_hour=10, tm_min=0, tm_sec=0, tm_wday=1, tm_yday=18, tm_isdst=0),\n",
       "  'tags': [{'term': 'Programação', 'scheme': None, 'label': None},\n",
       "   {'term': 'programação', 'scheme': None, 'label': None},\n",
       "   {'term': 'Python', 'scheme': None, 'label': None}],\n",
       "  'id': 'https://iaexpert.academy/?p=32923',\n",
       "  'guidislink': False,\n",
       "  'summary': 'Veja nesta aula noções sobre estruturas condicionais em Python. A aula faz parte do curso &#8220;Lógica de Programação: O Guia Completo&#8221;. O curso está disponível para assinantes IA Expert Academy. Curso na Udemy.',\n",
       "  'summary_detail': {'type': 'text/html',\n",
       "   'language': None,\n",
       "   'base': 'https://iaexpert.academy/feed/',\n",
       "   'value': 'Veja nesta aula noções sobre estruturas condicionais em Python. A aula faz parte do curso &#8220;Lógica de Programação: O Guia Completo&#8221;. O curso está disponível para assinantes IA Expert Academy. Curso na Udemy.'},\n",
       "  'content': [{'type': 'text/html',\n",
       "    'language': None,\n",
       "    'base': 'https://iaexpert.academy/feed/',\n",
       "    'value': '<p>Veja nesta aula noções sobre estruturas condicionais em Python. A aula faz parte do curso &#8220;Lógica de Programação: O Guia Completo&#8221;.</p>\\n\\n\\n\\n<p>O curso está disponível para <a href=\"https://iaexpert.academy/assinatura\" rel=\"noreferrer noopener\" target=\"_blank\">assinantes</a> IA Expert Academy.</p>\\n\\n\\n\\n<p>Curso na <a href=\"https://www.udemy.com/course/logica-de-programacao-o-guia-completo/?referralCode=E6843B382B93845B6CBE\" rel=\"noreferrer noopener\" target=\"_blank\">Udemy.</a></p>\\n\\n\\n\\n<figure class=\"wp-block-embed\"><div class=\"wp-block-embed__wrapper\">\\n<div class=\"ast-oembed-container\"></div>\\n</div></figure>'}],\n",
       "  'wfw_commentrss': 'https://iaexpert.academy/2022/01/18/estruturas-condicionais-em-python/feed/',\n",
       "  'slash_comments': '0'},\n",
       " {'title': 'IA possibilita primeiro diagnóstico precoce para a sepse',\n",
       "  'title_detail': {'type': 'text/plain',\n",
       "   'language': None,\n",
       "   'base': 'https://iaexpert.academy/feed/',\n",
       "   'value': 'IA possibilita primeiro diagnóstico precoce para a sepse'},\n",
       "  'links': [{'rel': 'alternate',\n",
       "    'type': 'text/html',\n",
       "    'href': 'https://iaexpert.academy/2022/01/17/ia-possibilita-primeiro-diagnostico-precoce-sepse/?utm_source=rss&utm_medium=rss&utm_campaign=ia-possibilita-primeiro-diagnostico-precoce-sepse'}],\n",
       "  'link': 'https://iaexpert.academy/2022/01/17/ia-possibilita-primeiro-diagnostico-precoce-sepse/?utm_source=rss&utm_medium=rss&utm_campaign=ia-possibilita-primeiro-diagnostico-precoce-sepse',\n",
       "  'comments': 'https://iaexpert.academy/2022/01/17/ia-possibilita-primeiro-diagnostico-precoce-sepse/#respond',\n",
       "  'authors': [{'name': 'Denny Ceccon'}],\n",
       "  'author': 'Denny Ceccon',\n",
       "  'author_detail': {'name': 'Denny Ceccon'},\n",
       "  'published': 'Mon, 17 Jan 2022 08:00:00 +0000',\n",
       "  'published_parsed': time.struct_time(tm_year=2022, tm_mon=1, tm_mday=17, tm_hour=8, tm_min=0, tm_sec=0, tm_wday=0, tm_yday=17, tm_isdst=0),\n",
       "  'tags': [{'term': 'Notícias', 'scheme': None, 'label': None},\n",
       "   {'term': 'diagnóstico', 'scheme': None, 'label': None},\n",
       "   {'term': 'inteligência artificial', 'scheme': None, 'label': None},\n",
       "   {'term': 'saúde', 'scheme': None, 'label': None},\n",
       "   {'term': 'sepse', 'scheme': None, 'label': None}],\n",
       "  'id': 'https://iaexpert.academy/?p=32917',\n",
       "  'guidislink': False,\n",
       "  'summary': 'O algoritmo usa dados de atividade celular, que são produzidos em cerca de duas horas, para identificar precocemente um quadro inicial de sepse, o que antes demorava até 2 dias e ocasionava alta taxa de mortalidade.',\n",
       "  'summary_detail': {'type': 'text/html',\n",
       "   'language': None,\n",
       "   'base': 'https://iaexpert.academy/feed/',\n",
       "   'value': 'O algoritmo usa dados de atividade celular, que são produzidos em cerca de duas horas, para identificar precocemente um quadro inicial de sepse, o que antes demorava até 2 dias e ocasionava alta taxa de mortalidade.'},\n",
       "  'content': [{'type': 'text/html',\n",
       "    'language': None,\n",
       "    'base': 'https://iaexpert.academy/feed/',\n",
       "    'value': '<p>A sepse é uma doença causa pela resposta disfuncional do organismo a uma infecção, levando a uma inflamação generalizada que pode causar a morte. No ano passado, o aumento da mortalidade causado pela COVID-19 fez com que a sepse fosse responsável por uma de cada cinco fatalidades mundialmente. A doença é caracterizada por uma série de sintomas genéricos como febre, fatiga, hiperventilação e batimento cardíaco acelerado, que são facilmente confundidos com outras condições. Por isso, o diagnóstico só é confirmado após 24 ou até 48 horas, quando o quadro se torna evidente e o uso de antibióticos mais potentes começa a ser justificado. Entretanto, cada hora a mais sem tratamento representa um aumento de cerca de 7,5% no risco de morte, o que torna urgente um método de diagnóstico precoce.</p>\\n\\n\\n\\n<p>Para solucionar este problema, pesquisadores da Universidade da Columbia Britânica, no Canadá, se valeram de um método moderno de detecção de atividade celular, junto com um sistema de inteligência artificial, para diagnosticar a sepse tão logo um paciente seja admitido em um hospital. Em um <a href=\"http://news.ubc.ca/wp-content/uploads/2022/01/Baghela-eBiom-2022.pdf\">estudo publicado em janeiro</a>, eles descrevem que o perfil metabólico dos pacientes foi determinado através da quantificação de RNA em seu sangue; o RNA é uma molécula intermediária entre o DNA e seu produto final, as enzimas, as quais são fundamentalmente responsáveis por toda atividade biológica. Por isso, o RNA costuma ser usado como indicador de quais funções celulares estão sendo solicitadas pelo organismo em dado momento. Como a quantidade de informação obtida é grande, algoritmos de machine learning foram aplicados para tentar identificar o quadro de sepse e, inclusive, categorizar seus subtipos.</p>\\n\\n\\n\\n<p>O treinamento do modelo utilizou dados coletados de 348 pacientes originários de quatro continentes, o que incluiu o maior estudo clínico genômico de pacientes atendidos em emergência. O modelo se mostrou capaz de identificar os biomarcadores que representam o primeiro sinal de cinco tipos diferentes de sepse, utilizando as amostras coletadas dos pacientes assim que eles chegam ao pronto-socorro, com 97% de acurácia. Os resultados foram validados com dados de outros 1062 pacientes participantes de outros dois estudos.</p>\\n\\n\\n\\n<p>Os pesquisadores consideram importante a alta acurácia na identificação de cinco diferentes subtipos da doença, já que algumas têm risco muito maior. Os mesmos biomarcadores foram aprovados também em um cenário de UTI, onde um dos subtipos de sepse apresenta taxa de mortalidade de 46%.</p>\\n\\n\\n\\n<p>A técnica de medir a expressão dos genes já está disponível em muitos hospitais, podendo entregar resultados em duas horas após a coleta das amostras. A inteligência artificial desenvolvida neste estudo vai permitir o diagnóstico precoce da sepse e assim ajudar os médicos a escolher pelo tratamento adequado.</p>'}],\n",
       "  'wfw_commentrss': 'https://iaexpert.academy/2022/01/17/ia-possibilita-primeiro-diagnostico-precoce-sepse/feed/',\n",
       "  'slash_comments': '0'},\n",
       " {'title': 'IA auxilia procuradores na montagem de processos de acusação',\n",
       "  'title_detail': {'type': 'text/plain',\n",
       "   'language': None,\n",
       "   'base': 'https://iaexpert.academy/feed/',\n",
       "   'value': 'IA auxilia procuradores na montagem de processos de acusação'},\n",
       "  'links': [{'rel': 'alternate',\n",
       "    'type': 'text/html',\n",
       "    'href': 'https://iaexpert.academy/2022/01/14/ia-auxilia-procuradores-montagem-processos-acusacao/?utm_source=rss&utm_medium=rss&utm_campaign=ia-auxilia-procuradores-montagem-processos-acusacao'}],\n",
       "  'link': 'https://iaexpert.academy/2022/01/14/ia-auxilia-procuradores-montagem-processos-acusacao/?utm_source=rss&utm_medium=rss&utm_campaign=ia-auxilia-procuradores-montagem-processos-acusacao',\n",
       "  'comments': 'https://iaexpert.academy/2022/01/14/ia-auxilia-procuradores-montagem-processos-acusacao/#respond',\n",
       "  'authors': [{'name': 'Denny Ceccon'}],\n",
       "  'author': 'Denny Ceccon',\n",
       "  'author_detail': {'name': 'Denny Ceccon'},\n",
       "  'published': 'Fri, 14 Jan 2022 08:00:00 +0000',\n",
       "  'published_parsed': time.struct_time(tm_year=2022, tm_mon=1, tm_mday=14, tm_hour=8, tm_min=0, tm_sec=0, tm_wday=4, tm_yday=14, tm_isdst=0),\n",
       "  'tags': [{'term': 'Notícias', 'scheme': None, 'label': None},\n",
       "   {'term': 'direito', 'scheme': None, 'label': None},\n",
       "   {'term': 'inteligência artificial', 'scheme': None, 'label': None},\n",
       "   {'term': 'justiça', 'scheme': None, 'label': None}],\n",
       "  'id': 'https://iaexpert.academy/?p=32899',\n",
       "  'guidislink': False,\n",
       "  'summary': 'O sistema foi treinado com base em mais de 17 mil casos para reconhecer os oito crimes mais comuns de uma província da China, classificando o crime correspondente a partir da descrição do caso apresentada à procuradoria.',\n",
       "  'summary_detail': {'type': 'text/html',\n",
       "   'language': None,\n",
       "   'base': 'https://iaexpert.academy/feed/',\n",
       "   'value': 'O sistema foi treinado com base em mais de 17 mil casos para reconhecer os oito crimes mais comuns de uma província da China, classificando o crime correspondente a partir da descrição do caso apresentada à procuradoria.'},\n",
       "  'content': [{'type': 'text/html',\n",
       "    'language': None,\n",
       "    'base': 'https://iaexpert.academy/feed/',\n",
       "    'value': '<p>Uma das áreas mais polêmicas para a aplicação de inteligência artificial é a do direito.  Mesmo assim, pesquisadores vêm buscado treinar algoritmos para ajudar nos procedimentos legais relacionados a crimes. É o caso de um sistema desenvolvido pela Procuradoria Popular de Shanghai Pudong, na China, o escritório de procuradoria com maior carga de trabalho no país. O trabalho dos procuradores é identificar e classificar infrações que se transformam em acusação, necessário para a abertura de um processo. O novo sistema foi desenvolvido justamente para fazer esta parte do trabalho, dando maior celeridade ao processo.</p>\\n\\n\\n\\n<p>O algoritmo foi treinado com base em mais de 17 mil casos reportados entre 2015 e 2020. Ele usa ferramentas de processamento de linguagem natural para identificar as partes relevantes da descrição dos casos, a partir das quais ele constrói um perfil com 1000 atributos abstratos que são utilizados para a classificação da ofensa. Até agora, os oito crimes mais comuns na área são contemplados, entre eles fraude de cartão de crédito, operação de jogos de azar, direção perigosa, danos físicos intencionais, obstrução de oficiais da justiça e roubo. O sistema tem uma acurácia de 97%.</p>\\n\\n\\n\\n<p>A intenção do desenvolvimento é reduzir a carga de trabalho dos procuradores para esta tarefa repetitiva e monótona, permitindo que eles possam realizar trabalhos mais complexos no lugar. Os pesquisadores garantem que o sistema não será empregado em sua atual versão no processo de decisão da culpa e eventual sentença, apenas na montagem do processo.</p>\\n\\n\\n\\n<p>Mesmo com críticas relevantes, a inteligência artificial tem sido cada vez mais utilizada no ambiente legal. A China mesmo utiliza o chamado Sistema 206 desde 2016, que é responsável por avaliar a qualidade de evidências, as condições para uma prisão e a periculosidade de um suspeito. Na Alemanha, procuradores têm aplicado reconhecimento de imagem e técnicas forenses digitais para aumentar a velocidade e a precisão dos processos.</p>\\n\\n\\n\\n<p>É importante manter a discussão aberta para garantir que os algoritmos atinjam o maior padrão de justiça possível, mas é inegável que eles oferecem a oportunidade de acelerar os processos que, ao cargo exclusivamente das pessoas, são lentos por natureza.</p>'}],\n",
       "  'wfw_commentrss': 'https://iaexpert.academy/2022/01/14/ia-auxilia-procuradores-montagem-processos-acusacao/feed/',\n",
       "  'slash_comments': '0'},\n",
       " {'title': 'Previsão de Vendas com Facebook Prophet',\n",
       "  'title_detail': {'type': 'text/plain',\n",
       "   'language': None,\n",
       "   'base': 'https://iaexpert.academy/feed/',\n",
       "   'value': 'Previsão de Vendas com Facebook Prophet'},\n",
       "  'links': [{'rel': 'alternate',\n",
       "    'type': 'text/html',\n",
       "    'href': 'https://iaexpert.academy/2022/01/13/previsao-de-vendas-com-facebook-prophet/?utm_source=rss&utm_medium=rss&utm_campaign=previsao-de-vendas-com-facebook-prophet'}],\n",
       "  'link': 'https://iaexpert.academy/2022/01/13/previsao-de-vendas-com-facebook-prophet/?utm_source=rss&utm_medium=rss&utm_campaign=previsao-de-vendas-com-facebook-prophet',\n",
       "  'comments': 'https://iaexpert.academy/2022/01/13/previsao-de-vendas-com-facebook-prophet/#respond',\n",
       "  'authors': [{'name': 'Jones Granatyr'}],\n",
       "  'author': 'Jones Granatyr',\n",
       "  'author_detail': {'name': 'Jones Granatyr'},\n",
       "  'published': 'Thu, 13 Jan 2022 10:00:00 +0000',\n",
       "  'published_parsed': time.struct_time(tm_year=2022, tm_mon=1, tm_mday=13, tm_hour=10, tm_min=0, tm_sec=0, tm_wday=3, tm_yday=13, tm_isdst=0),\n",
       "  'tags': [{'term': 'IA na prática', 'scheme': None, 'label': None},\n",
       "   {'term': 'ciencia de dados', 'scheme': None, 'label': None},\n",
       "   {'term': 'facebook', 'scheme': None, 'label': None}],\n",
       "  'id': 'https://iaexpert.academy/?p=32833',\n",
       "  'guidislink': False,\n",
       "  'summary': 'Veja nesta aula noções sobre previsão de vendas com Facebook Prophet. A aula faz parte do curso &#8220;Ciência de Dados para Empresas e Negócios&#8221;. O curso está disponível para assinantes IA Expert Academy. Curso na Udemy.',\n",
       "  'summary_detail': {'type': 'text/html',\n",
       "   'language': None,\n",
       "   'base': 'https://iaexpert.academy/feed/',\n",
       "   'value': 'Veja nesta aula noções sobre previsão de vendas com Facebook Prophet. A aula faz parte do curso &#8220;Ciência de Dados para Empresas e Negócios&#8221;. O curso está disponível para assinantes IA Expert Academy. Curso na Udemy.'},\n",
       "  'content': [{'type': 'text/html',\n",
       "    'language': None,\n",
       "    'base': 'https://iaexpert.academy/feed/',\n",
       "    'value': '<p>Veja nesta aula noções sobre previsão de vendas com Facebook Prophet. A aula faz parte do curso &#8220;Ciência de Dados para Empresas e Negócios&#8221;.</p>\\n\\n\\n\\n<p>O curso está disponível para <a href=\"https://iaexpert.academy/assinatura\" rel=\"noreferrer noopener\" target=\"_blank\">assinantes</a> IA Expert Academy.</p>\\n\\n\\n\\n<p>Curso na <a href=\"https://www.udemy.com/course/ciencia-de-dados-para-empresas-e-negocios/?referralCode=0B9EE94FE00E3CE3D793\" rel=\"noreferrer noopener\" target=\"_blank\">Udemy.</a></p>\\n\\n\\n\\n<figure class=\"wp-block-embed\"><div class=\"wp-block-embed__wrapper\">\\n<div class=\"ast-oembed-container\"></div>\\n</div></figure>'}],\n",
       "  'wfw_commentrss': 'https://iaexpert.academy/2022/01/13/previsao-de-vendas-com-facebook-prophet/feed/',\n",
       "  'slash_comments': '0'},\n",
       " {'title': 'IA cria versão vegana de carne de frango',\n",
       "  'title_detail': {'type': 'text/plain',\n",
       "   'language': None,\n",
       "   'base': 'https://iaexpert.academy/feed/',\n",
       "   'value': 'IA cria versão vegana de carne de frango'},\n",
       "  'links': [{'rel': 'alternate',\n",
       "    'type': 'text/html',\n",
       "    'href': 'https://iaexpert.academy/2022/01/12/ia-cria-versao-vegana-carne-frango/?utm_source=rss&utm_medium=rss&utm_campaign=ia-cria-versao-vegana-carne-frango'}],\n",
       "  'link': 'https://iaexpert.academy/2022/01/12/ia-cria-versao-vegana-carne-frango/?utm_source=rss&utm_medium=rss&utm_campaign=ia-cria-versao-vegana-carne-frango',\n",
       "  'comments': 'https://iaexpert.academy/2022/01/12/ia-cria-versao-vegana-carne-frango/#respond',\n",
       "  'authors': [{'name': 'Denny Ceccon'}],\n",
       "  'author': 'Denny Ceccon',\n",
       "  'author_detail': {'name': 'Denny Ceccon'},\n",
       "  'published': 'Wed, 12 Jan 2022 08:00:00 +0000',\n",
       "  'published_parsed': time.struct_time(tm_year=2022, tm_mon=1, tm_mday=12, tm_hour=8, tm_min=0, tm_sec=0, tm_wday=2, tm_yday=12, tm_isdst=0),\n",
       "  'tags': [{'term': 'Notícias', 'scheme': None, 'label': None},\n",
       "   {'term': 'inteligência artificial', 'scheme': None, 'label': None},\n",
       "   {'term': 'veganismo', 'scheme': None, 'label': None}],\n",
       "  'id': 'https://iaexpert.academy/?p=32838',\n",
       "  'guidislink': False,\n",
       "  'summary': 'A empresa The Not Company criou o Giuseppe, uma inteligência artificial que analisa ingrediente vegetais inusitados para propor novos produtos substitutos da carne.',\n",
       "  'summary_detail': {'type': 'text/html',\n",
       "   'language': None,\n",
       "   'base': 'https://iaexpert.academy/feed/',\n",
       "   'value': 'A empresa The Not Company criou o Giuseppe, uma inteligência artificial que analisa ingrediente vegetais inusitados para propor novos produtos substitutos da carne.'},\n",
       "  'content': [{'type': 'text/html',\n",
       "    'language': None,\n",
       "    'base': 'https://iaexpert.academy/feed/',\n",
       "    'value': '<p>O mercado vegetariano e vegano anda em pleno crescimento. Uma das tendências neste nicho são produtos que simulam suas versões de carne, mantendo a consistência e o sabor de hambúrgueres e petiscos, por exemplo. A empresa chilena The Not Company está investindo nesta área, e acaba de lançar uma nova versão de frango vegano cujo desenvolvimento se deve à inteligência artificial.</p>\\n\\n\\n\\n<p>Reproduzir os atributos da carne não é fácil, e em muitos casos isto tem sido alcançado na base de tentativa e erro. Mas a empresa desenvolveu uma inteligência artificial capaz de auxiliar na combinação de ingredientes vegetais para criar produtos com um objetivo definido. Batizado de Giuseppe, o sistema usa um catálogo extenso de ingredientes para propor novos produtos. Foi assim que surgiu a nova linha que imita a carne de frango, apresentando versões de nugget, hambúrguer e filé da ave, sob o nome auto-explicativo de NotChicken.</p>\\n\\n\\n\\n<p>A base da nova linha é a ervilha, que já vem sendo utilizada por outras empresas da área, mas graças ao uso da inteligência artificial, a empresa se permitiu ser mais ousada, testando combinações que incluem, por exemplo, bambu, pêssego e grão-de-bico. Desta forma, os novos produtos representam uma evolução frente às outras opções disponíveis.</p>\\n\\n\\n\\n<p>A empresa também utiliza outros ingredientes inesperados, como abacaxi, coco, repolho e beterraba, para produzir versões veganas de leite, sorvete e maionese, por exemplo. A linha NotChicken está programada para ser lançada inicialmente no Chile, na Argentina e no Brasil, depois se expandindo para os mercados americano e canadense, com alta demanda por esses produtos.</p>'}],\n",
       "  'wfw_commentrss': 'https://iaexpert.academy/2022/01/12/ia-cria-versao-vegana-carne-frango/feed/',\n",
       "  'slash_comments': '0'},\n",
       " {'title': 'Processamento de Linguagem Natural – Trilha de Aprendizagem',\n",
       "  'title_detail': {'type': 'text/plain',\n",
       "   'language': None,\n",
       "   'base': 'https://iaexpert.academy/feed/',\n",
       "   'value': 'Processamento de Linguagem Natural – Trilha de Aprendizagem'},\n",
       "  'links': [{'rel': 'alternate',\n",
       "    'type': 'text/html',\n",
       "    'href': 'https://iaexpert.academy/2022/01/11/processamento-de-linguagem-natural-trilha-de-aprendizagem/?utm_source=rss&utm_medium=rss&utm_campaign=processamento-de-linguagem-natural-trilha-de-aprendizagem'}],\n",
       "  'link': 'https://iaexpert.academy/2022/01/11/processamento-de-linguagem-natural-trilha-de-aprendizagem/?utm_source=rss&utm_medium=rss&utm_campaign=processamento-de-linguagem-natural-trilha-de-aprendizagem',\n",
       "  'comments': 'https://iaexpert.academy/2022/01/11/processamento-de-linguagem-natural-trilha-de-aprendizagem/#respond',\n",
       "  'authors': [{'name': 'Jones Granatyr'}],\n",
       "  'author': 'Jones Granatyr',\n",
       "  'author_detail': {'name': 'Jones Granatyr'},\n",
       "  'published': 'Tue, 11 Jan 2022 10:00:00 +0000',\n",
       "  'published_parsed': time.struct_time(tm_year=2022, tm_mon=1, tm_mday=11, tm_hour=10, tm_min=0, tm_sec=0, tm_wday=1, tm_yday=11, tm_isdst=0),\n",
       "  'tags': [{'term': 'Outros', 'scheme': None, 'label': None},\n",
       "   {'term': 'Processamento de Linguagem Natural',\n",
       "    'scheme': None,\n",
       "    'label': None}],\n",
       "  'id': 'https://iaexpert.academy/?p=32830',\n",
       "  'guidislink': False,\n",
       "  'summary': 'Saiba mais sobre a Trilha de Aprendizagem Processamento de Linguagem Natural. Esta trilha visa fornecer ao aluno os subsídios necessários para desenvolver aplicações reais e trabalhar na área de Processamento de Linguagem Natural. Ao final, o aluno será capaz de desenvolver seus próprios projetos utilizando textos em vários idiomas. Todos os cursos da trilha estão &#8230;<p class=\"read-more\"> <a class=\"ast-button\" href=\"https://iaexpert.academy/2022/01/11/processamento-de-linguagem-natural-trilha-de-aprendizagem/\"> <span class=\"screen-reader-text\">Processamento de Linguagem Natural &#8211; Trilha de Aprendizagem</span> Leia mais »</a></p>',\n",
       "  'summary_detail': {'type': 'text/html',\n",
       "   'language': None,\n",
       "   'base': 'https://iaexpert.academy/feed/',\n",
       "   'value': 'Saiba mais sobre a Trilha de Aprendizagem Processamento de Linguagem Natural. Esta trilha visa fornecer ao aluno os subsídios necessários para desenvolver aplicações reais e trabalhar na área de Processamento de Linguagem Natural. Ao final, o aluno será capaz de desenvolver seus próprios projetos utilizando textos em vários idiomas. Todos os cursos da trilha estão &#8230;<p class=\"read-more\"> <a class=\"ast-button\" href=\"https://iaexpert.academy/2022/01/11/processamento-de-linguagem-natural-trilha-de-aprendizagem/\"> <span class=\"screen-reader-text\">Processamento de Linguagem Natural &#8211; Trilha de Aprendizagem</span> Leia mais »</a></p>'},\n",
       "  'content': [{'type': 'text/html',\n",
       "    'language': None,\n",
       "    'base': 'https://iaexpert.academy/feed/',\n",
       "    'value': '<p>Saiba mais sobre a Trilha de Aprendizagem Processamento de Linguagem Natural.  </p>\\n\\n\\n\\n<p>Esta trilha visa fornecer ao aluno os subsídios necessários para desenvolver aplicações reais e trabalhar na área de Processamento de Linguagem Natural. Ao final, o aluno será capaz de desenvolver seus próprios projetos utilizando textos em vários idiomas.</p>\\n\\n\\n\\n<p>Todos os cursos da trilha estão disponíveis para <a href=\"https://iaexpert.academy/assinatura\" rel=\"noreferrer noopener\" target=\"_blank\">assinantes</a> IA Expert Academy.</p>\\n\\n\\n\\n<figure class=\"wp-block-embed\"><div class=\"wp-block-embed__wrapper\">\\n<div class=\"ast-oembed-container\"></div>\\n</div></figure>'}],\n",
       "  'wfw_commentrss': 'https://iaexpert.academy/2022/01/11/processamento-de-linguagem-natural-trilha-de-aprendizagem/feed/',\n",
       "  'slash_comments': '0'}]"
      ]
     },
     "execution_count": 21,
     "metadata": {},
     "output_type": "execute_result"
    }
   ],
   "source": [
    "feed.entries"
   ]
  },
  {
   "cell_type": "code",
   "execution_count": 22,
   "metadata": {
    "collapsed": true,
    "jupyter": {
     "outputs_hidden": true
    },
    "tags": []
   },
   "outputs": [
    {
     "name": "stdout",
     "output_type": "stream",
     "text": [
      "IA revela fatores que levam a baixo índice de notificação de erros médicos\n",
      "https://iaexpert.academy/2022/01/24/ia-revela-fatores-que-levam-a-baixo-indice-de-notificacao-de-erros-medicos/?utm_source=rss&utm_medium=rss&utm_campaign=ia-revela-fatores-que-levam-a-baixo-indice-de-notificacao-de-erros-medicos\n",
      "IA auxilia a produzir melhores diagnósticos de fratura óssea\n",
      "https://iaexpert.academy/2022/01/21/ia-auxilia-a-produzir-melhores-diagnosticos-de-fratura-ossea/?utm_source=rss&utm_medium=rss&utm_campaign=ia-auxilia-a-produzir-melhores-diagnosticos-de-fratura-ossea\n",
      "Primeiro programa em Python\n",
      "https://iaexpert.academy/2022/01/20/primeiro-programa-em-python/?utm_source=rss&utm_medium=rss&utm_campaign=primeiro-programa-em-python\n",
      "IA aumenta a resolução e a sensibilidade de microscópios eletrônicos\n",
      "https://iaexpert.academy/2022/01/19/ia-aumenta-resolucao-sensibilidade-microscopios-eletronicos/?utm_source=rss&utm_medium=rss&utm_campaign=ia-aumenta-resolucao-sensibilidade-microscopios-eletronicos\n",
      "Estruturas condicionais em Python\n",
      "https://iaexpert.academy/2022/01/18/estruturas-condicionais-em-python/?utm_source=rss&utm_medium=rss&utm_campaign=estruturas-condicionais-em-python\n",
      "IA possibilita primeiro diagnóstico precoce para a sepse\n",
      "https://iaexpert.academy/2022/01/17/ia-possibilita-primeiro-diagnostico-precoce-sepse/?utm_source=rss&utm_medium=rss&utm_campaign=ia-possibilita-primeiro-diagnostico-precoce-sepse\n",
      "IA auxilia procuradores na montagem de processos de acusação\n",
      "https://iaexpert.academy/2022/01/14/ia-auxilia-procuradores-montagem-processos-acusacao/?utm_source=rss&utm_medium=rss&utm_campaign=ia-auxilia-procuradores-montagem-processos-acusacao\n",
      "Previsão de Vendas com Facebook Prophet\n",
      "https://iaexpert.academy/2022/01/13/previsao-de-vendas-com-facebook-prophet/?utm_source=rss&utm_medium=rss&utm_campaign=previsao-de-vendas-com-facebook-prophet\n",
      "IA cria versão vegana de carne de frango\n",
      "https://iaexpert.academy/2022/01/12/ia-cria-versao-vegana-carne-frango/?utm_source=rss&utm_medium=rss&utm_campaign=ia-cria-versao-vegana-carne-frango\n",
      "Processamento de Linguagem Natural – Trilha de Aprendizagem\n",
      "https://iaexpert.academy/2022/01/11/processamento-de-linguagem-natural-trilha-de-aprendizagem/?utm_source=rss&utm_medium=rss&utm_campaign=processamento-de-linguagem-natural-trilha-de-aprendizagem\n"
     ]
    }
   ],
   "source": [
    "for e in feed.entries:\n",
    "    print(e.title)\n",
    "    print(e.links[0].href)"
   ]
  },
  {
   "cell_type": "code",
   "execution_count": 23,
   "metadata": {
    "collapsed": true,
    "jupyter": {
     "outputs_hidden": true
    },
    "tags": []
   },
   "outputs": [
    {
     "name": "stdout",
     "output_type": "stream",
     "text": [
      "IA revela fatores que levam a baixo índice de notificação de erros médicos\n",
      "https://iaexpert.academy/2022/01/24/ia-revela-fatores-que-levam-a-baixo-indice-de-notificacao-de-erros-medicos/?utm_source=rss&utm_medium=rss&utm_campaign=ia-revela-fatores-que-levam-a-baixo-indice-de-notificacao-de-erros-medicos\n",
      "<p>Os erros médicos são uma das principais causas de morte em ambiente hospitalar. Nos Estados Unidos, as mortes causadas por erro médico superam aquelas causadas por câncer de mama, AIDS e acidentes de carro juntos. O erro médico mais comum é aquele de medicação, sendo os enfermeiros os principais responsáveis por administrar remédios. Enquanto que os erros de medicação que causam prejuízo aos pacientes são geralmente reportados, há um forte incentivo para não reportar os erros &#8220;benignos&#8221;, sendo as principais razões o medo de atribuição de culpa, de punição e de retaliações. Com isto, as causas dos erros acabam não sendo investigadas adequadamente, e eles continuam acontecendo.</p>\n",
      "\n",
      "\n",
      "\n",
      "<p>Um <a href=\"https://www.sciencedirect.com/science/article/pii/S2590005620300345?via%3Dihub\">trabalho</a> de pesquisadores da Universidade de Iowa, nos Estados Unidos, aplicou inteligência artificial para entender melhor as principais razões pelas quais estes erros benignos não são reportados. Eles escolheram algoritmos de machine learning por sua habilidade de tratar dados inter-relacionados de maneira não-linear, como é o caso dos comportamentos humanos envolvidos no processo. Primeiro, as variáveis de maior impacto no fenômeno foram selecionadas por um método chamado de <em>extreme learning machines </em>(ELMs), que usa modelos de predição extremamente rápidos para investigar um número grande de variáveis potenciais. As variáveis selecionadas foram então visualizadas na forma de mapas auto-organizáveis (SOMs), que realizam redução não-linear de dimensionalidade para permitir a visualização e interpretação dos resultados.</p>\n",
      "\n",
      "\n",
      "\n",
      "<p>Os dados utilizados no estudo envolviam três pesquisas realizadas com enfermeiros, incluindo dados demográficos, relacionados à carga de trabalho, experiência e hierarquia, e como eles avaliam o ambiente e suas inter-relações profissionais. Três cenários foram avaliados: quando o erro é identificado e corrigido antes de afetar o paciente, quando o erro só é identificado depois da administração do medicamento mas o efeito é neutro, e finalmente quando havia risco de prejuízo mas isto não ocorreu. No primeiro caso, as variáveis de maior impacto foram aquelas relacionadas ao tempo de trabalho na unidade de saúde atual e à confiança e dedicação dos colegas. No segundo, teve relevância o turno de trabalho, a habilidade de procurar soluções alternativas para problemas, e o entusiasmo para realizar as tarefas que lhe foram confiadas. No terceiro, foram importantes os anos de experiência do profissional, sua visão otimista sobre o futuro, e sua percepção de um bom trabalho de seus administradores. Os mapas auto-organizáveis correspondentes podem ser visualizados na <a href=\"https://www.sciencedirect.com/science/article/pii/S2590005620300345?via%3Dihub\">publicação</a>, que está com acesso aberto.</p>\n",
      "\n",
      "\n",
      "\n",
      "<p>Estes resultados podem ajudar os gestores a promover um ambiente organizacional onde os enfermeiros se sintam mais à vontade para reportar os erros de medicação que porventura ocorram, e assim estabelecer políticas para evitar que eles ocorram, melhorando os índices de qualidade de atendimento.</p>\n",
      "IA auxilia a produzir melhores diagnósticos de fratura óssea\n",
      "https://iaexpert.academy/2022/01/21/ia-auxilia-a-produzir-melhores-diagnosticos-de-fratura-ossea/?utm_source=rss&utm_medium=rss&utm_campaign=ia-auxilia-a-produzir-melhores-diagnosticos-de-fratura-ossea\n",
      "<p>Um <a href=\"https://pubs.rsna.org/doi/10.1148/radiol.210937\">trabalho</a> publicado por pesquisadores da Universidade de Boston, nos Estados Unidos levantou que 24% dos erros de diagnóstico que ocorrem em atendimentos de pronto-socorro se devem a interpretações erradas de raios-X na identificação de fraturas. Algumas causas para isso podem ser atribuídas à urgência com que o diagnóstico é solicitado, e ao fato de que os técnicos trabalham em horários incomuns, o que supostamente atrapalha sua capacidade de interpretação.</p>\n",
      "\n",
      "\n",
      "\n",
      "<p>Para ajudar a melhorar este paradigma, os pesquisadores treinaram uma inteligência artificial na tarefa de identificar fraturas em imagens de raios-X. O sistema fez uso de uma biblioteca publicada pelo grupo de pesquisas do Facebook, chamada de <a href=\"https://github.com/facebookresearch/detectron2\">Detectron2</a>, que foi desenvolvida para comportar algoritmos de detecção e segmentação de imagens. No trabalho de Boston, foi utilizado um banco de dados contendo pelo menos 60 imagens de cada uma de 8 regiões do corpo, coletadas entre julho de 2020 e janeiro de 2021. Metade das imagens continham fraturas. Este banco de dados foi rotulado por dois radiologistas, sendo as discrepâncias resolvidas por um terceiro. O algoritmo foi treinado para identificar as imagens contendo fraturas e desenhar bounding boxes ao redor delas, para posterior análise de um especialista.</p>\n",
      "\n",
      "\n",
      "\n",
      "<p>Na fase de avaliação do sistema, 24 leitores humanos, incluindo radiologistas, ortopedistas, médicos de emergência, assistentes médicos e reumatologistas, avaliaram um banco de dados de validação, com e sem a assistência da inteligência artificial. Nos cenários com o auxílio, o número de fraturas não reportadas diminuiu em 29%, a sensibilidade foi 10% maior, e a especificidade foi 5% melhor. A análise também foi cerca de 6 segundos mais rápida.</p>\n",
      "\n",
      "\n",
      "\n",
      "<p>Os pesquisadores concluem que seu sistema apresenta uma melhora nas métricas de qualidade avaliadas, ao mesmo tempo que não impacta negativamente no tempo necessário para a produção do diagnóstico. Estes resultados devem ajudar a diminuir o desgaste de radiologistas e não-radiologistas atendendo emergências, principalmente quando em situações estressantes, ao mesmo tempo que melhora a experiência de atendimento dos pacientes.</p>\n",
      "Primeiro programa em Python\n",
      "https://iaexpert.academy/2022/01/20/primeiro-programa-em-python/?utm_source=rss&utm_medium=rss&utm_campaign=primeiro-programa-em-python\n",
      "<p>Veja nesta aula noções sobre o primeiro programa em Python. A aula faz parte do curso &#8220;Lógica de Programação: O Guia Completo&#8221;.</p>\n",
      "\n",
      "\n",
      "\n",
      "<p>O curso está disponível para <a href=\"https://iaexpert.academy/assinatura\" rel=\"noreferrer noopener\" target=\"_blank\">assinantes</a> IA Expert Academy.</p>\n",
      "\n",
      "\n",
      "\n",
      "<p>Curso na <a href=\"https://www.udemy.com/course/logica-de-programacao-o-guia-completo/?referralCode=E6843B382B93845B6CBE\" rel=\"noreferrer noopener\" target=\"_blank\">Udemy.</a></p>\n",
      "\n",
      "\n",
      "\n",
      "<figure class=\"wp-block-embed\"><div class=\"wp-block-embed__wrapper\">\n",
      "<div class=\"ast-oembed-container\"></div>\n",
      "</div></figure>\n",
      "IA aumenta a resolução e a sensibilidade de microscópios eletrônicos\n",
      "https://iaexpert.academy/2022/01/19/ia-aumenta-resolucao-sensibilidade-microscopios-eletronicos/?utm_source=rss&utm_medium=rss&utm_campaign=ia-aumenta-resolucao-sensibilidade-microscopios-eletronicos\n",
      "<p>O microscópio tradicional funciona utilizando uma série de lentes que exploram propriedades da luz, de forma a tornar visíveis pequenas estruturas. Entretanto, ele possui limitações, de forma que não é possível aumentar as imagens indefinidamente. Para contornar este problema, cientistas criaram os microscópios eletrônicos, que ao invés da luz, exploram propriedades do elétron. Quando um feixe de elétrons atravessa um material de interesse, seus parâmetros físicos são modificados ligeiramente, e esta modificação pode ser capturada por sensores para gerar uma imagem do material original. Com isso, os microscópios eletrônicos alcançam resoluções cerca de 1000 vezes maiores que as versões óticas.</p>\n",
      "\n",
      "\n",
      "\n",
      "<p>De tempos em tempos, avanços na tecnologia tornam disponíveis microscópios eletrônicos ainda mais potentes, mas cientistas que os utilizam como ferramenta de trabalho não costumam fazer atualizações frequentes, pois os equipamentos são muito caros. Isto motivou pesquisadores do Laboratório Nacional de Argonne, nos Estados Unidos, a desenvolver uma atualização de software que fosse capaz de aumentar a capacidade de um microscópio já instalado, sem qualquer custo material. Esta atualização veio na forma de uma inteligência artificial.</p>\n",
      "\n",
      "\n",
      "\n",
      "<p>O <a href=\"https://www.nature.com/articles/s41524-021-00600-x\">trabalho</a> envolveu o conhecimento prévio de que, junto com as informações dos parâmetros dos elétrons que já são capturadas atualmente, existem outras propriedades que são perdidas durante a operação tradicional dos equipamentos. Uma delas é a chamada fase, que carrega dados sobre o potencial eletrostático e de magnetização dos materiais analisados. Os pesquisadores desenvolveram um método de machine learning para reconstruir esta informação a partir dos demais dados disponíveis, e assim produzir ainda mais dados sobre o material de interesse.</p>\n",
      "\n",
      "\n",
      "\n",
      "<p>Além de ser do interesse de engenheiros pesquisando materiais para baterias e dispositivos eletrônicos, os dados de fase podem ser usados em conjunto com as demais propriedades capturadas pelos microscópios para aumentar ainda mais a resolução e a sensibilidade dos equipamentos, expandindo seu potencial de investigação sem investimento adicional.</p>\n",
      "\n",
      "\n",
      "\n",
      "<p>A recuperação dos dados de fase já é um problema antigo da área de microscopia, e esta é a primeira solução que não depende do conhecimento prévio dos parâmetros do equipamento, o que só foi possível graças ao envolvimento da inteligência artificial no trabalho.</p>\n",
      "Estruturas condicionais em Python\n",
      "https://iaexpert.academy/2022/01/18/estruturas-condicionais-em-python/?utm_source=rss&utm_medium=rss&utm_campaign=estruturas-condicionais-em-python\n",
      "<p>Veja nesta aula noções sobre estruturas condicionais em Python. A aula faz parte do curso &#8220;Lógica de Programação: O Guia Completo&#8221;.</p>\n",
      "\n",
      "\n",
      "\n",
      "<p>O curso está disponível para <a href=\"https://iaexpert.academy/assinatura\" rel=\"noreferrer noopener\" target=\"_blank\">assinantes</a> IA Expert Academy.</p>\n",
      "\n",
      "\n",
      "\n",
      "<p>Curso na <a href=\"https://www.udemy.com/course/logica-de-programacao-o-guia-completo/?referralCode=E6843B382B93845B6CBE\" rel=\"noreferrer noopener\" target=\"_blank\">Udemy.</a></p>\n",
      "\n",
      "\n",
      "\n",
      "<figure class=\"wp-block-embed\"><div class=\"wp-block-embed__wrapper\">\n",
      "<div class=\"ast-oembed-container\"></div>\n",
      "</div></figure>\n",
      "IA possibilita primeiro diagnóstico precoce para a sepse\n",
      "https://iaexpert.academy/2022/01/17/ia-possibilita-primeiro-diagnostico-precoce-sepse/?utm_source=rss&utm_medium=rss&utm_campaign=ia-possibilita-primeiro-diagnostico-precoce-sepse\n",
      "<p>A sepse é uma doença causa pela resposta disfuncional do organismo a uma infecção, levando a uma inflamação generalizada que pode causar a morte. No ano passado, o aumento da mortalidade causado pela COVID-19 fez com que a sepse fosse responsável por uma de cada cinco fatalidades mundialmente. A doença é caracterizada por uma série de sintomas genéricos como febre, fatiga, hiperventilação e batimento cardíaco acelerado, que são facilmente confundidos com outras condições. Por isso, o diagnóstico só é confirmado após 24 ou até 48 horas, quando o quadro se torna evidente e o uso de antibióticos mais potentes começa a ser justificado. Entretanto, cada hora a mais sem tratamento representa um aumento de cerca de 7,5% no risco de morte, o que torna urgente um método de diagnóstico precoce.</p>\n",
      "\n",
      "\n",
      "\n",
      "<p>Para solucionar este problema, pesquisadores da Universidade da Columbia Britânica, no Canadá, se valeram de um método moderno de detecção de atividade celular, junto com um sistema de inteligência artificial, para diagnosticar a sepse tão logo um paciente seja admitido em um hospital. Em um <a href=\"http://news.ubc.ca/wp-content/uploads/2022/01/Baghela-eBiom-2022.pdf\">estudo publicado em janeiro</a>, eles descrevem que o perfil metabólico dos pacientes foi determinado através da quantificação de RNA em seu sangue; o RNA é uma molécula intermediária entre o DNA e seu produto final, as enzimas, as quais são fundamentalmente responsáveis por toda atividade biológica. Por isso, o RNA costuma ser usado como indicador de quais funções celulares estão sendo solicitadas pelo organismo em dado momento. Como a quantidade de informação obtida é grande, algoritmos de machine learning foram aplicados para tentar identificar o quadro de sepse e, inclusive, categorizar seus subtipos.</p>\n",
      "\n",
      "\n",
      "\n",
      "<p>O treinamento do modelo utilizou dados coletados de 348 pacientes originários de quatro continentes, o que incluiu o maior estudo clínico genômico de pacientes atendidos em emergência. O modelo se mostrou capaz de identificar os biomarcadores que representam o primeiro sinal de cinco tipos diferentes de sepse, utilizando as amostras coletadas dos pacientes assim que eles chegam ao pronto-socorro, com 97% de acurácia. Os resultados foram validados com dados de outros 1062 pacientes participantes de outros dois estudos.</p>\n",
      "\n",
      "\n",
      "\n",
      "<p>Os pesquisadores consideram importante a alta acurácia na identificação de cinco diferentes subtipos da doença, já que algumas têm risco muito maior. Os mesmos biomarcadores foram aprovados também em um cenário de UTI, onde um dos subtipos de sepse apresenta taxa de mortalidade de 46%.</p>\n",
      "\n",
      "\n",
      "\n",
      "<p>A técnica de medir a expressão dos genes já está disponível em muitos hospitais, podendo entregar resultados em duas horas após a coleta das amostras. A inteligência artificial desenvolvida neste estudo vai permitir o diagnóstico precoce da sepse e assim ajudar os médicos a escolher pelo tratamento adequado.</p>\n",
      "IA auxilia procuradores na montagem de processos de acusação\n",
      "https://iaexpert.academy/2022/01/14/ia-auxilia-procuradores-montagem-processos-acusacao/?utm_source=rss&utm_medium=rss&utm_campaign=ia-auxilia-procuradores-montagem-processos-acusacao\n",
      "<p>Uma das áreas mais polêmicas para a aplicação de inteligência artificial é a do direito.  Mesmo assim, pesquisadores vêm buscado treinar algoritmos para ajudar nos procedimentos legais relacionados a crimes. É o caso de um sistema desenvolvido pela Procuradoria Popular de Shanghai Pudong, na China, o escritório de procuradoria com maior carga de trabalho no país. O trabalho dos procuradores é identificar e classificar infrações que se transformam em acusação, necessário para a abertura de um processo. O novo sistema foi desenvolvido justamente para fazer esta parte do trabalho, dando maior celeridade ao processo.</p>\n",
      "\n",
      "\n",
      "\n",
      "<p>O algoritmo foi treinado com base em mais de 17 mil casos reportados entre 2015 e 2020. Ele usa ferramentas de processamento de linguagem natural para identificar as partes relevantes da descrição dos casos, a partir das quais ele constrói um perfil com 1000 atributos abstratos que são utilizados para a classificação da ofensa. Até agora, os oito crimes mais comuns na área são contemplados, entre eles fraude de cartão de crédito, operação de jogos de azar, direção perigosa, danos físicos intencionais, obstrução de oficiais da justiça e roubo. O sistema tem uma acurácia de 97%.</p>\n",
      "\n",
      "\n",
      "\n",
      "<p>A intenção do desenvolvimento é reduzir a carga de trabalho dos procuradores para esta tarefa repetitiva e monótona, permitindo que eles possam realizar trabalhos mais complexos no lugar. Os pesquisadores garantem que o sistema não será empregado em sua atual versão no processo de decisão da culpa e eventual sentença, apenas na montagem do processo.</p>\n",
      "\n",
      "\n",
      "\n",
      "<p>Mesmo com críticas relevantes, a inteligência artificial tem sido cada vez mais utilizada no ambiente legal. A China mesmo utiliza o chamado Sistema 206 desde 2016, que é responsável por avaliar a qualidade de evidências, as condições para uma prisão e a periculosidade de um suspeito. Na Alemanha, procuradores têm aplicado reconhecimento de imagem e técnicas forenses digitais para aumentar a velocidade e a precisão dos processos.</p>\n",
      "\n",
      "\n",
      "\n",
      "<p>É importante manter a discussão aberta para garantir que os algoritmos atinjam o maior padrão de justiça possível, mas é inegável que eles oferecem a oportunidade de acelerar os processos que, ao cargo exclusivamente das pessoas, são lentos por natureza.</p>\n",
      "Previsão de Vendas com Facebook Prophet\n",
      "https://iaexpert.academy/2022/01/13/previsao-de-vendas-com-facebook-prophet/?utm_source=rss&utm_medium=rss&utm_campaign=previsao-de-vendas-com-facebook-prophet\n",
      "<p>Veja nesta aula noções sobre previsão de vendas com Facebook Prophet. A aula faz parte do curso &#8220;Ciência de Dados para Empresas e Negócios&#8221;.</p>\n",
      "\n",
      "\n",
      "\n",
      "<p>O curso está disponível para <a href=\"https://iaexpert.academy/assinatura\" rel=\"noreferrer noopener\" target=\"_blank\">assinantes</a> IA Expert Academy.</p>\n",
      "\n",
      "\n",
      "\n",
      "<p>Curso na <a href=\"https://www.udemy.com/course/ciencia-de-dados-para-empresas-e-negocios/?referralCode=0B9EE94FE00E3CE3D793\" rel=\"noreferrer noopener\" target=\"_blank\">Udemy.</a></p>\n",
      "\n",
      "\n",
      "\n",
      "<figure class=\"wp-block-embed\"><div class=\"wp-block-embed__wrapper\">\n",
      "<div class=\"ast-oembed-container\"></div>\n",
      "</div></figure>\n",
      "IA cria versão vegana de carne de frango\n",
      "https://iaexpert.academy/2022/01/12/ia-cria-versao-vegana-carne-frango/?utm_source=rss&utm_medium=rss&utm_campaign=ia-cria-versao-vegana-carne-frango\n",
      "<p>O mercado vegetariano e vegano anda em pleno crescimento. Uma das tendências neste nicho são produtos que simulam suas versões de carne, mantendo a consistência e o sabor de hambúrgueres e petiscos, por exemplo. A empresa chilena The Not Company está investindo nesta área, e acaba de lançar uma nova versão de frango vegano cujo desenvolvimento se deve à inteligência artificial.</p>\n",
      "\n",
      "\n",
      "\n",
      "<p>Reproduzir os atributos da carne não é fácil, e em muitos casos isto tem sido alcançado na base de tentativa e erro. Mas a empresa desenvolveu uma inteligência artificial capaz de auxiliar na combinação de ingredientes vegetais para criar produtos com um objetivo definido. Batizado de Giuseppe, o sistema usa um catálogo extenso de ingredientes para propor novos produtos. Foi assim que surgiu a nova linha que imita a carne de frango, apresentando versões de nugget, hambúrguer e filé da ave, sob o nome auto-explicativo de NotChicken.</p>\n",
      "\n",
      "\n",
      "\n",
      "<p>A base da nova linha é a ervilha, que já vem sendo utilizada por outras empresas da área, mas graças ao uso da inteligência artificial, a empresa se permitiu ser mais ousada, testando combinações que incluem, por exemplo, bambu, pêssego e grão-de-bico. Desta forma, os novos produtos representam uma evolução frente às outras opções disponíveis.</p>\n",
      "\n",
      "\n",
      "\n",
      "<p>A empresa também utiliza outros ingredientes inesperados, como abacaxi, coco, repolho e beterraba, para produzir versões veganas de leite, sorvete e maionese, por exemplo. A linha NotChicken está programada para ser lançada inicialmente no Chile, na Argentina e no Brasil, depois se expandindo para os mercados americano e canadense, com alta demanda por esses produtos.</p>\n",
      "Processamento de Linguagem Natural – Trilha de Aprendizagem\n",
      "https://iaexpert.academy/2022/01/11/processamento-de-linguagem-natural-trilha-de-aprendizagem/?utm_source=rss&utm_medium=rss&utm_campaign=processamento-de-linguagem-natural-trilha-de-aprendizagem\n",
      "<p>Saiba mais sobre a Trilha de Aprendizagem Processamento de Linguagem Natural.  </p>\n",
      "\n",
      "\n",
      "\n",
      "<p>Esta trilha visa fornecer ao aluno os subsídios necessários para desenvolver aplicações reais e trabalhar na área de Processamento de Linguagem Natural. Ao final, o aluno será capaz de desenvolver seus próprios projetos utilizando textos em vários idiomas.</p>\n",
      "\n",
      "\n",
      "\n",
      "<p>Todos os cursos da trilha estão disponíveis para <a href=\"https://iaexpert.academy/assinatura\" rel=\"noreferrer noopener\" target=\"_blank\">assinantes</a> IA Expert Academy.</p>\n",
      "\n",
      "\n",
      "\n",
      "<figure class=\"wp-block-embed\"><div class=\"wp-block-embed__wrapper\">\n",
      "<div class=\"ast-oembed-container\"></div>\n",
      "</div></figure>\n"
     ]
    }
   ],
   "source": [
    "for e in feed.entries:\n",
    "    print(e.title)\n",
    "    print(e.links[0].href)\n",
    "    print(e.content[0].value)"
   ]
  },
  {
   "cell_type": "code",
   "execution_count": 24,
   "metadata": {},
   "outputs": [
    {
     "data": {
      "text/plain": [
       "{'type': 'text/html',\n",
       " 'language': None,\n",
       " 'base': 'https://iaexpert.academy/feed/',\n",
       " 'value': '<p>Saiba mais sobre a Trilha de Aprendizagem Processamento de Linguagem Natural.  </p>\\n\\n\\n\\n<p>Esta trilha visa fornecer ao aluno os subsídios necessários para desenvolver aplicações reais e trabalhar na área de Processamento de Linguagem Natural. Ao final, o aluno será capaz de desenvolver seus próprios projetos utilizando textos em vários idiomas.</p>\\n\\n\\n\\n<p>Todos os cursos da trilha estão disponíveis para <a href=\"https://iaexpert.academy/assinatura\" rel=\"noreferrer noopener\" target=\"_blank\">assinantes</a> IA Expert Academy.</p>\\n\\n\\n\\n<figure class=\"wp-block-embed\"><div class=\"wp-block-embed__wrapper\">\\n<div class=\"ast-oembed-container\"></div>\\n</div></figure>'}"
      ]
     },
     "execution_count": 24,
     "metadata": {},
     "output_type": "execute_result"
    }
   ],
   "source": [
    "e.content[0]"
   ]
  },
  {
   "cell_type": "code",
   "execution_count": 25,
   "metadata": {},
   "outputs": [],
   "source": [
    "def limpar_html(texto):\n",
    "    if texto == \"\":\n",
    "        return \"\"\n",
    "    return BeautifulSoup(texto, \"html5lib\").get_text()"
   ]
  },
  {
   "cell_type": "code",
   "execution_count": 26,
   "metadata": {},
   "outputs": [
    {
     "data": {
      "text/plain": [
       "'Saiba mais sobre a Trilha de Aprendizagem Processamento de Linguagem Natural.  \\n\\n\\n\\nEsta trilha visa fornecer ao aluno os subsídios necessários para desenvolver aplicações reais e trabalhar na área de Processamento de Linguagem Natural. Ao final, o aluno será capaz de desenvolver seus próprios projetos utilizando textos em vários idiomas.\\n\\n\\n\\nTodos os cursos da trilha estão disponíveis para assinantes IA Expert Academy.\\n\\n\\n\\n\\n\\n'"
      ]
     },
     "execution_count": 26,
     "metadata": {},
     "output_type": "execute_result"
    }
   ],
   "source": [
    "limpar_html(e.content[0].value)"
   ]
  },
  {
   "cell_type": "code",
   "execution_count": 27,
   "metadata": {},
   "outputs": [],
   "source": [
    "artigos = []\n",
    "for e in feed.entries:\n",
    "    artigos.append({\"titulo\": e.title, \"conteudo\": limpar_html(e.content[0].value)})"
   ]
  },
  {
   "cell_type": "code",
   "execution_count": 28,
   "metadata": {
    "collapsed": true,
    "jupyter": {
     "outputs_hidden": true
    },
    "tags": []
   },
   "outputs": [
    {
     "data": {
      "text/plain": [
       "[{'titulo': 'IA revela fatores que levam a baixo índice de notificação de erros médicos',\n",
       "  'conteudo': 'Os erros médicos são uma das principais causas de morte em ambiente hospitalar. Nos Estados Unidos, as mortes causadas por erro médico superam aquelas causadas por câncer de mama, AIDS e acidentes de carro juntos. O erro médico mais comum é aquele de medicação, sendo os enfermeiros os principais responsáveis por administrar remédios. Enquanto que os erros de medicação que causam prejuízo aos pacientes são geralmente reportados, há um forte incentivo para não reportar os erros “benignos”, sendo as principais razões o medo de atribuição de culpa, de punição e de retaliações. Com isto, as causas dos erros acabam não sendo investigadas adequadamente, e eles continuam acontecendo.\\n\\n\\n\\nUm trabalho de pesquisadores da Universidade de Iowa, nos Estados Unidos, aplicou inteligência artificial para entender melhor as principais razões pelas quais estes erros benignos não são reportados. Eles escolheram algoritmos de machine learning por sua habilidade de tratar dados inter-relacionados de maneira não-linear, como é o caso dos comportamentos humanos envolvidos no processo. Primeiro, as variáveis de maior impacto no fenômeno foram selecionadas por um método chamado de extreme learning machines (ELMs), que usa modelos de predição extremamente rápidos para investigar um número grande de variáveis potenciais. As variáveis selecionadas foram então visualizadas na forma de mapas auto-organizáveis (SOMs), que realizam redução não-linear de dimensionalidade para permitir a visualização e interpretação dos resultados.\\n\\n\\n\\nOs dados utilizados no estudo envolviam três pesquisas realizadas com enfermeiros, incluindo dados demográficos, relacionados à carga de trabalho, experiência e hierarquia, e como eles avaliam o ambiente e suas inter-relações profissionais. Três cenários foram avaliados: quando o erro é identificado e corrigido antes de afetar o paciente, quando o erro só é identificado depois da administração do medicamento mas o efeito é neutro, e finalmente quando havia risco de prejuízo mas isto não ocorreu. No primeiro caso, as variáveis de maior impacto foram aquelas relacionadas ao tempo de trabalho na unidade de saúde atual e à confiança e dedicação dos colegas. No segundo, teve relevância o turno de trabalho, a habilidade de procurar soluções alternativas para problemas, e o entusiasmo para realizar as tarefas que lhe foram confiadas. No terceiro, foram importantes os anos de experiência do profissional, sua visão otimista sobre o futuro, e sua percepção de um bom trabalho de seus administradores. Os mapas auto-organizáveis correspondentes podem ser visualizados na publicação, que está com acesso aberto.\\n\\n\\n\\nEstes resultados podem ajudar os gestores a promover um ambiente organizacional onde os enfermeiros se sintam mais à vontade para reportar os erros de medicação que porventura ocorram, e assim estabelecer políticas para evitar que eles ocorram, melhorando os índices de qualidade de atendimento.'},\n",
       " {'titulo': 'IA auxilia a produzir melhores diagnósticos de fratura óssea',\n",
       "  'conteudo': 'Um trabalho publicado por pesquisadores da Universidade de Boston, nos Estados Unidos levantou que 24% dos erros de diagnóstico que ocorrem em atendimentos de pronto-socorro se devem a interpretações erradas de raios-X na identificação de fraturas. Algumas causas para isso podem ser atribuídas à urgência com que o diagnóstico é solicitado, e ao fato de que os técnicos trabalham em horários incomuns, o que supostamente atrapalha sua capacidade de interpretação.\\n\\n\\n\\nPara ajudar a melhorar este paradigma, os pesquisadores treinaram uma inteligência artificial na tarefa de identificar fraturas em imagens de raios-X. O sistema fez uso de uma biblioteca publicada pelo grupo de pesquisas do Facebook, chamada de Detectron2, que foi desenvolvida para comportar algoritmos de detecção e segmentação de imagens. No trabalho de Boston, foi utilizado um banco de dados contendo pelo menos 60 imagens de cada uma de 8 regiões do corpo, coletadas entre julho de 2020 e janeiro de 2021. Metade das imagens continham fraturas. Este banco de dados foi rotulado por dois radiologistas, sendo as discrepâncias resolvidas por um terceiro. O algoritmo foi treinado para identificar as imagens contendo fraturas e desenhar bounding boxes ao redor delas, para posterior análise de um especialista.\\n\\n\\n\\nNa fase de avaliação do sistema, 24 leitores humanos, incluindo radiologistas, ortopedistas, médicos de emergência, assistentes médicos e reumatologistas, avaliaram um banco de dados de validação, com e sem a assistência da inteligência artificial. Nos cenários com o auxílio, o número de fraturas não reportadas diminuiu em 29%, a sensibilidade foi 10% maior, e a especificidade foi 5% melhor. A análise também foi cerca de 6 segundos mais rápida.\\n\\n\\n\\nOs pesquisadores concluem que seu sistema apresenta uma melhora nas métricas de qualidade avaliadas, ao mesmo tempo que não impacta negativamente no tempo necessário para a produção do diagnóstico. Estes resultados devem ajudar a diminuir o desgaste de radiologistas e não-radiologistas atendendo emergências, principalmente quando em situações estressantes, ao mesmo tempo que melhora a experiência de atendimento dos pacientes.'},\n",
       " {'titulo': 'Primeiro programa em Python',\n",
       "  'conteudo': 'Veja nesta aula noções sobre o primeiro programa em Python. A aula faz parte do curso “Lógica de Programação: O Guia Completo”.\\n\\n\\n\\nO curso está disponível para assinantes IA Expert Academy.\\n\\n\\n\\nCurso na Udemy.\\n\\n\\n\\n\\n\\n'},\n",
       " {'titulo': 'IA aumenta a resolução e a sensibilidade de microscópios eletrônicos',\n",
       "  'conteudo': 'O microscópio tradicional funciona utilizando uma série de lentes que exploram propriedades da luz, de forma a tornar visíveis pequenas estruturas. Entretanto, ele possui limitações, de forma que não é possível aumentar as imagens indefinidamente. Para contornar este problema, cientistas criaram os microscópios eletrônicos, que ao invés da luz, exploram propriedades do elétron. Quando um feixe de elétrons atravessa um material de interesse, seus parâmetros físicos são modificados ligeiramente, e esta modificação pode ser capturada por sensores para gerar uma imagem do material original. Com isso, os microscópios eletrônicos alcançam resoluções cerca de 1000 vezes maiores que as versões óticas.\\n\\n\\n\\nDe tempos em tempos, avanços na tecnologia tornam disponíveis microscópios eletrônicos ainda mais potentes, mas cientistas que os utilizam como ferramenta de trabalho não costumam fazer atualizações frequentes, pois os equipamentos são muito caros. Isto motivou pesquisadores do Laboratório Nacional de Argonne, nos Estados Unidos, a desenvolver uma atualização de software que fosse capaz de aumentar a capacidade de um microscópio já instalado, sem qualquer custo material. Esta atualização veio na forma de uma inteligência artificial.\\n\\n\\n\\nO trabalho envolveu o conhecimento prévio de que, junto com as informações dos parâmetros dos elétrons que já são capturadas atualmente, existem outras propriedades que são perdidas durante a operação tradicional dos equipamentos. Uma delas é a chamada fase, que carrega dados sobre o potencial eletrostático e de magnetização dos materiais analisados. Os pesquisadores desenvolveram um método de machine learning para reconstruir esta informação a partir dos demais dados disponíveis, e assim produzir ainda mais dados sobre o material de interesse.\\n\\n\\n\\nAlém de ser do interesse de engenheiros pesquisando materiais para baterias e dispositivos eletrônicos, os dados de fase podem ser usados em conjunto com as demais propriedades capturadas pelos microscópios para aumentar ainda mais a resolução e a sensibilidade dos equipamentos, expandindo seu potencial de investigação sem investimento adicional.\\n\\n\\n\\nA recuperação dos dados de fase já é um problema antigo da área de microscopia, e esta é a primeira solução que não depende do conhecimento prévio dos parâmetros do equipamento, o que só foi possível graças ao envolvimento da inteligência artificial no trabalho.'},\n",
       " {'titulo': 'Estruturas condicionais em Python',\n",
       "  'conteudo': 'Veja nesta aula noções sobre estruturas condicionais em Python. A aula faz parte do curso “Lógica de Programação: O Guia Completo”.\\n\\n\\n\\nO curso está disponível para assinantes IA Expert Academy.\\n\\n\\n\\nCurso na Udemy.\\n\\n\\n\\n\\n\\n'},\n",
       " {'titulo': 'IA possibilita primeiro diagnóstico precoce para a sepse',\n",
       "  'conteudo': 'A sepse é uma doença causa pela resposta disfuncional do organismo a uma infecção, levando a uma inflamação generalizada que pode causar a morte. No ano passado, o aumento da mortalidade causado pela COVID-19 fez com que a sepse fosse responsável por uma de cada cinco fatalidades mundialmente. A doença é caracterizada por uma série de sintomas genéricos como febre, fatiga, hiperventilação e batimento cardíaco acelerado, que são facilmente confundidos com outras condições. Por isso, o diagnóstico só é confirmado após 24 ou até 48 horas, quando o quadro se torna evidente e o uso de antibióticos mais potentes começa a ser justificado. Entretanto, cada hora a mais sem tratamento representa um aumento de cerca de 7,5% no risco de morte, o que torna urgente um método de diagnóstico precoce.\\n\\n\\n\\nPara solucionar este problema, pesquisadores da Universidade da Columbia Britânica, no Canadá, se valeram de um método moderno de detecção de atividade celular, junto com um sistema de inteligência artificial, para diagnosticar a sepse tão logo um paciente seja admitido em um hospital. Em um estudo publicado em janeiro, eles descrevem que o perfil metabólico dos pacientes foi determinado através da quantificação de RNA em seu sangue; o RNA é uma molécula intermediária entre o DNA e seu produto final, as enzimas, as quais são fundamentalmente responsáveis por toda atividade biológica. Por isso, o RNA costuma ser usado como indicador de quais funções celulares estão sendo solicitadas pelo organismo em dado momento. Como a quantidade de informação obtida é grande, algoritmos de machine learning foram aplicados para tentar identificar o quadro de sepse e, inclusive, categorizar seus subtipos.\\n\\n\\n\\nO treinamento do modelo utilizou dados coletados de 348 pacientes originários de quatro continentes, o que incluiu o maior estudo clínico genômico de pacientes atendidos em emergência. O modelo se mostrou capaz de identificar os biomarcadores que representam o primeiro sinal de cinco tipos diferentes de sepse, utilizando as amostras coletadas dos pacientes assim que eles chegam ao pronto-socorro, com 97% de acurácia. Os resultados foram validados com dados de outros 1062 pacientes participantes de outros dois estudos.\\n\\n\\n\\nOs pesquisadores consideram importante a alta acurácia na identificação de cinco diferentes subtipos da doença, já que algumas têm risco muito maior. Os mesmos biomarcadores foram aprovados também em um cenário de UTI, onde um dos subtipos de sepse apresenta taxa de mortalidade de 46%.\\n\\n\\n\\nA técnica de medir a expressão dos genes já está disponível em muitos hospitais, podendo entregar resultados em duas horas após a coleta das amostras. A inteligência artificial desenvolvida neste estudo vai permitir o diagnóstico precoce da sepse e assim ajudar os médicos a escolher pelo tratamento adequado.'},\n",
       " {'titulo': 'IA auxilia procuradores na montagem de processos de acusação',\n",
       "  'conteudo': 'Uma das áreas mais polêmicas para a aplicação de inteligência artificial é a do direito.  Mesmo assim, pesquisadores vêm buscado treinar algoritmos para ajudar nos procedimentos legais relacionados a crimes. É o caso de um sistema desenvolvido pela Procuradoria Popular de Shanghai Pudong, na China, o escritório de procuradoria com maior carga de trabalho no país. O trabalho dos procuradores é identificar e classificar infrações que se transformam em acusação, necessário para a abertura de um processo. O novo sistema foi desenvolvido justamente para fazer esta parte do trabalho, dando maior celeridade ao processo.\\n\\n\\n\\nO algoritmo foi treinado com base em mais de 17 mil casos reportados entre 2015 e 2020. Ele usa ferramentas de processamento de linguagem natural para identificar as partes relevantes da descrição dos casos, a partir das quais ele constrói um perfil com 1000 atributos abstratos que são utilizados para a classificação da ofensa. Até agora, os oito crimes mais comuns na área são contemplados, entre eles fraude de cartão de crédito, operação de jogos de azar, direção perigosa, danos físicos intencionais, obstrução de oficiais da justiça e roubo. O sistema tem uma acurácia de 97%.\\n\\n\\n\\nA intenção do desenvolvimento é reduzir a carga de trabalho dos procuradores para esta tarefa repetitiva e monótona, permitindo que eles possam realizar trabalhos mais complexos no lugar. Os pesquisadores garantem que o sistema não será empregado em sua atual versão no processo de decisão da culpa e eventual sentença, apenas na montagem do processo.\\n\\n\\n\\nMesmo com críticas relevantes, a inteligência artificial tem sido cada vez mais utilizada no ambiente legal. A China mesmo utiliza o chamado Sistema 206 desde 2016, que é responsável por avaliar a qualidade de evidências, as condições para uma prisão e a periculosidade de um suspeito. Na Alemanha, procuradores têm aplicado reconhecimento de imagem e técnicas forenses digitais para aumentar a velocidade e a precisão dos processos.\\n\\n\\n\\nÉ importante manter a discussão aberta para garantir que os algoritmos atinjam o maior padrão de justiça possível, mas é inegável que eles oferecem a oportunidade de acelerar os processos que, ao cargo exclusivamente das pessoas, são lentos por natureza.'},\n",
       " {'titulo': 'Previsão de Vendas com Facebook Prophet',\n",
       "  'conteudo': 'Veja nesta aula noções sobre previsão de vendas com Facebook Prophet. A aula faz parte do curso “Ciência de Dados para Empresas e Negócios”.\\n\\n\\n\\nO curso está disponível para assinantes IA Expert Academy.\\n\\n\\n\\nCurso na Udemy.\\n\\n\\n\\n\\n\\n'},\n",
       " {'titulo': 'IA cria versão vegana de carne de frango',\n",
       "  'conteudo': 'O mercado vegetariano e vegano anda em pleno crescimento. Uma das tendências neste nicho são produtos que simulam suas versões de carne, mantendo a consistência e o sabor de hambúrgueres e petiscos, por exemplo. A empresa chilena The Not Company está investindo nesta área, e acaba de lançar uma nova versão de frango vegano cujo desenvolvimento se deve à inteligência artificial.\\n\\n\\n\\nReproduzir os atributos da carne não é fácil, e em muitos casos isto tem sido alcançado na base de tentativa e erro. Mas a empresa desenvolveu uma inteligência artificial capaz de auxiliar na combinação de ingredientes vegetais para criar produtos com um objetivo definido. Batizado de Giuseppe, o sistema usa um catálogo extenso de ingredientes para propor novos produtos. Foi assim que surgiu a nova linha que imita a carne de frango, apresentando versões de nugget, hambúrguer e filé da ave, sob o nome auto-explicativo de NotChicken.\\n\\n\\n\\nA base da nova linha é a ervilha, que já vem sendo utilizada por outras empresas da área, mas graças ao uso da inteligência artificial, a empresa se permitiu ser mais ousada, testando combinações que incluem, por exemplo, bambu, pêssego e grão-de-bico. Desta forma, os novos produtos representam uma evolução frente às outras opções disponíveis.\\n\\n\\n\\nA empresa também utiliza outros ingredientes inesperados, como abacaxi, coco, repolho e beterraba, para produzir versões veganas de leite, sorvete e maionese, por exemplo. A linha NotChicken está programada para ser lançada inicialmente no Chile, na Argentina e no Brasil, depois se expandindo para os mercados americano e canadense, com alta demanda por esses produtos.'},\n",
       " {'titulo': 'Processamento de Linguagem Natural – Trilha de Aprendizagem',\n",
       "  'conteudo': 'Saiba mais sobre a Trilha de Aprendizagem Processamento de Linguagem Natural.  \\n\\n\\n\\nEsta trilha visa fornecer ao aluno os subsídios necessários para desenvolver aplicações reais e trabalhar na área de Processamento de Linguagem Natural. Ao final, o aluno será capaz de desenvolver seus próprios projetos utilizando textos em vários idiomas.\\n\\n\\n\\nTodos os cursos da trilha estão disponíveis para assinantes IA Expert Academy.\\n\\n\\n\\n\\n\\n'}]"
      ]
     },
     "execution_count": 28,
     "metadata": {},
     "output_type": "execute_result"
    }
   ],
   "source": [
    "artigos"
   ]
  },
  {
   "cell_type": "code",
   "execution_count": 29,
   "metadata": {},
   "outputs": [],
   "source": [
    "# salvando artigos em arquivos json\n",
    "arquivo_gravar = os.path.join(\"feed_iaexpert.json\")\n",
    "arquivo = open(arquivo_gravar, \"w+\")\n",
    "arquivo.write(json.dumps(artigos, indent=1))\n",
    "arquivo.close()"
   ]
  },
  {
   "cell_type": "code",
   "execution_count": 35,
   "metadata": {
    "collapsed": true,
    "jupyter": {
     "outputs_hidden": true
    },
    "tags": []
   },
   "outputs": [
    {
     "data": {
      "text/plain": [
       "[{'titulo': 'IA revela fatores que levam a baixo índice de notificação de erros médicos',\n",
       "  'conteudo': 'Os erros médicos são uma das principais causas de morte em ambiente hospitalar. Nos Estados Unidos, as mortes causadas por erro médico superam aquelas causadas por câncer de mama, AIDS e acidentes de carro juntos. O erro médico mais comum é aquele de medicação, sendo os enfermeiros os principais responsáveis por administrar remédios. Enquanto que os erros de medicação que causam prejuízo aos pacientes são geralmente reportados, há um forte incentivo para não reportar os erros “benignos”, sendo as principais razões o medo de atribuição de culpa, de punição e de retaliações. Com isto, as causas dos erros acabam não sendo investigadas adequadamente, e eles continuam acontecendo.\\n\\n\\n\\nUm trabalho de pesquisadores da Universidade de Iowa, nos Estados Unidos, aplicou inteligência artificial para entender melhor as principais razões pelas quais estes erros benignos não são reportados. Eles escolheram algoritmos de machine learning por sua habilidade de tratar dados inter-relacionados de maneira não-linear, como é o caso dos comportamentos humanos envolvidos no processo. Primeiro, as variáveis de maior impacto no fenômeno foram selecionadas por um método chamado de extreme learning machines (ELMs), que usa modelos de predição extremamente rápidos para investigar um número grande de variáveis potenciais. As variáveis selecionadas foram então visualizadas na forma de mapas auto-organizáveis (SOMs), que realizam redução não-linear de dimensionalidade para permitir a visualização e interpretação dos resultados.\\n\\n\\n\\nOs dados utilizados no estudo envolviam três pesquisas realizadas com enfermeiros, incluindo dados demográficos, relacionados à carga de trabalho, experiência e hierarquia, e como eles avaliam o ambiente e suas inter-relações profissionais. Três cenários foram avaliados: quando o erro é identificado e corrigido antes de afetar o paciente, quando o erro só é identificado depois da administração do medicamento mas o efeito é neutro, e finalmente quando havia risco de prejuízo mas isto não ocorreu. No primeiro caso, as variáveis de maior impacto foram aquelas relacionadas ao tempo de trabalho na unidade de saúde atual e à confiança e dedicação dos colegas. No segundo, teve relevância o turno de trabalho, a habilidade de procurar soluções alternativas para problemas, e o entusiasmo para realizar as tarefas que lhe foram confiadas. No terceiro, foram importantes os anos de experiência do profissional, sua visão otimista sobre o futuro, e sua percepção de um bom trabalho de seus administradores. Os mapas auto-organizáveis correspondentes podem ser visualizados na publicação, que está com acesso aberto.\\n\\n\\n\\nEstes resultados podem ajudar os gestores a promover um ambiente organizacional onde os enfermeiros se sintam mais à vontade para reportar os erros de medicação que porventura ocorram, e assim estabelecer políticas para evitar que eles ocorram, melhorando os índices de qualidade de atendimento.'},\n",
       " {'titulo': 'IA auxilia a produzir melhores diagnósticos de fratura óssea',\n",
       "  'conteudo': 'Um trabalho publicado por pesquisadores da Universidade de Boston, nos Estados Unidos levantou que 24% dos erros de diagnóstico que ocorrem em atendimentos de pronto-socorro se devem a interpretações erradas de raios-X na identificação de fraturas. Algumas causas para isso podem ser atribuídas à urgência com que o diagnóstico é solicitado, e ao fato de que os técnicos trabalham em horários incomuns, o que supostamente atrapalha sua capacidade de interpretação.\\n\\n\\n\\nPara ajudar a melhorar este paradigma, os pesquisadores treinaram uma inteligência artificial na tarefa de identificar fraturas em imagens de raios-X. O sistema fez uso de uma biblioteca publicada pelo grupo de pesquisas do Facebook, chamada de Detectron2, que foi desenvolvida para comportar algoritmos de detecção e segmentação de imagens. No trabalho de Boston, foi utilizado um banco de dados contendo pelo menos 60 imagens de cada uma de 8 regiões do corpo, coletadas entre julho de 2020 e janeiro de 2021. Metade das imagens continham fraturas. Este banco de dados foi rotulado por dois radiologistas, sendo as discrepâncias resolvidas por um terceiro. O algoritmo foi treinado para identificar as imagens contendo fraturas e desenhar bounding boxes ao redor delas, para posterior análise de um especialista.\\n\\n\\n\\nNa fase de avaliação do sistema, 24 leitores humanos, incluindo radiologistas, ortopedistas, médicos de emergência, assistentes médicos e reumatologistas, avaliaram um banco de dados de validação, com e sem a assistência da inteligência artificial. Nos cenários com o auxílio, o número de fraturas não reportadas diminuiu em 29%, a sensibilidade foi 10% maior, e a especificidade foi 5% melhor. A análise também foi cerca de 6 segundos mais rápida.\\n\\n\\n\\nOs pesquisadores concluem que seu sistema apresenta uma melhora nas métricas de qualidade avaliadas, ao mesmo tempo que não impacta negativamente no tempo necessário para a produção do diagnóstico. Estes resultados devem ajudar a diminuir o desgaste de radiologistas e não-radiologistas atendendo emergências, principalmente quando em situações estressantes, ao mesmo tempo que melhora a experiência de atendimento dos pacientes.'},\n",
       " {'titulo': 'Primeiro programa em Python',\n",
       "  'conteudo': 'Veja nesta aula noções sobre o primeiro programa em Python. A aula faz parte do curso “Lógica de Programação: O Guia Completo”.\\n\\n\\n\\nO curso está disponível para assinantes IA Expert Academy.\\n\\n\\n\\nCurso na Udemy.\\n\\n\\n\\n\\n\\n'},\n",
       " {'titulo': 'IA aumenta a resolução e a sensibilidade de microscópios eletrônicos',\n",
       "  'conteudo': 'O microscópio tradicional funciona utilizando uma série de lentes que exploram propriedades da luz, de forma a tornar visíveis pequenas estruturas. Entretanto, ele possui limitações, de forma que não é possível aumentar as imagens indefinidamente. Para contornar este problema, cientistas criaram os microscópios eletrônicos, que ao invés da luz, exploram propriedades do elétron. Quando um feixe de elétrons atravessa um material de interesse, seus parâmetros físicos são modificados ligeiramente, e esta modificação pode ser capturada por sensores para gerar uma imagem do material original. Com isso, os microscópios eletrônicos alcançam resoluções cerca de 1000 vezes maiores que as versões óticas.\\n\\n\\n\\nDe tempos em tempos, avanços na tecnologia tornam disponíveis microscópios eletrônicos ainda mais potentes, mas cientistas que os utilizam como ferramenta de trabalho não costumam fazer atualizações frequentes, pois os equipamentos são muito caros. Isto motivou pesquisadores do Laboratório Nacional de Argonne, nos Estados Unidos, a desenvolver uma atualização de software que fosse capaz de aumentar a capacidade de um microscópio já instalado, sem qualquer custo material. Esta atualização veio na forma de uma inteligência artificial.\\n\\n\\n\\nO trabalho envolveu o conhecimento prévio de que, junto com as informações dos parâmetros dos elétrons que já são capturadas atualmente, existem outras propriedades que são perdidas durante a operação tradicional dos equipamentos. Uma delas é a chamada fase, que carrega dados sobre o potencial eletrostático e de magnetização dos materiais analisados. Os pesquisadores desenvolveram um método de machine learning para reconstruir esta informação a partir dos demais dados disponíveis, e assim produzir ainda mais dados sobre o material de interesse.\\n\\n\\n\\nAlém de ser do interesse de engenheiros pesquisando materiais para baterias e dispositivos eletrônicos, os dados de fase podem ser usados em conjunto com as demais propriedades capturadas pelos microscópios para aumentar ainda mais a resolução e a sensibilidade dos equipamentos, expandindo seu potencial de investigação sem investimento adicional.\\n\\n\\n\\nA recuperação dos dados de fase já é um problema antigo da área de microscopia, e esta é a primeira solução que não depende do conhecimento prévio dos parâmetros do equipamento, o que só foi possível graças ao envolvimento da inteligência artificial no trabalho.'},\n",
       " {'titulo': 'Estruturas condicionais em Python',\n",
       "  'conteudo': 'Veja nesta aula noções sobre estruturas condicionais em Python. A aula faz parte do curso “Lógica de Programação: O Guia Completo”.\\n\\n\\n\\nO curso está disponível para assinantes IA Expert Academy.\\n\\n\\n\\nCurso na Udemy.\\n\\n\\n\\n\\n\\n'},\n",
       " {'titulo': 'IA possibilita primeiro diagnóstico precoce para a sepse',\n",
       "  'conteudo': 'A sepse é uma doença causa pela resposta disfuncional do organismo a uma infecção, levando a uma inflamação generalizada que pode causar a morte. No ano passado, o aumento da mortalidade causado pela COVID-19 fez com que a sepse fosse responsável por uma de cada cinco fatalidades mundialmente. A doença é caracterizada por uma série de sintomas genéricos como febre, fatiga, hiperventilação e batimento cardíaco acelerado, que são facilmente confundidos com outras condições. Por isso, o diagnóstico só é confirmado após 24 ou até 48 horas, quando o quadro se torna evidente e o uso de antibióticos mais potentes começa a ser justificado. Entretanto, cada hora a mais sem tratamento representa um aumento de cerca de 7,5% no risco de morte, o que torna urgente um método de diagnóstico precoce.\\n\\n\\n\\nPara solucionar este problema, pesquisadores da Universidade da Columbia Britânica, no Canadá, se valeram de um método moderno de detecção de atividade celular, junto com um sistema de inteligência artificial, para diagnosticar a sepse tão logo um paciente seja admitido em um hospital. Em um estudo publicado em janeiro, eles descrevem que o perfil metabólico dos pacientes foi determinado através da quantificação de RNA em seu sangue; o RNA é uma molécula intermediária entre o DNA e seu produto final, as enzimas, as quais são fundamentalmente responsáveis por toda atividade biológica. Por isso, o RNA costuma ser usado como indicador de quais funções celulares estão sendo solicitadas pelo organismo em dado momento. Como a quantidade de informação obtida é grande, algoritmos de machine learning foram aplicados para tentar identificar o quadro de sepse e, inclusive, categorizar seus subtipos.\\n\\n\\n\\nO treinamento do modelo utilizou dados coletados de 348 pacientes originários de quatro continentes, o que incluiu o maior estudo clínico genômico de pacientes atendidos em emergência. O modelo se mostrou capaz de identificar os biomarcadores que representam o primeiro sinal de cinco tipos diferentes de sepse, utilizando as amostras coletadas dos pacientes assim que eles chegam ao pronto-socorro, com 97% de acurácia. Os resultados foram validados com dados de outros 1062 pacientes participantes de outros dois estudos.\\n\\n\\n\\nOs pesquisadores consideram importante a alta acurácia na identificação de cinco diferentes subtipos da doença, já que algumas têm risco muito maior. Os mesmos biomarcadores foram aprovados também em um cenário de UTI, onde um dos subtipos de sepse apresenta taxa de mortalidade de 46%.\\n\\n\\n\\nA técnica de medir a expressão dos genes já está disponível em muitos hospitais, podendo entregar resultados em duas horas após a coleta das amostras. A inteligência artificial desenvolvida neste estudo vai permitir o diagnóstico precoce da sepse e assim ajudar os médicos a escolher pelo tratamento adequado.'},\n",
       " {'titulo': 'IA auxilia procuradores na montagem de processos de acusação',\n",
       "  'conteudo': 'Uma das áreas mais polêmicas para a aplicação de inteligência artificial é a do direito.  Mesmo assim, pesquisadores vêm buscado treinar algoritmos para ajudar nos procedimentos legais relacionados a crimes. É o caso de um sistema desenvolvido pela Procuradoria Popular de Shanghai Pudong, na China, o escritório de procuradoria com maior carga de trabalho no país. O trabalho dos procuradores é identificar e classificar infrações que se transformam em acusação, necessário para a abertura de um processo. O novo sistema foi desenvolvido justamente para fazer esta parte do trabalho, dando maior celeridade ao processo.\\n\\n\\n\\nO algoritmo foi treinado com base em mais de 17 mil casos reportados entre 2015 e 2020. Ele usa ferramentas de processamento de linguagem natural para identificar as partes relevantes da descrição dos casos, a partir das quais ele constrói um perfil com 1000 atributos abstratos que são utilizados para a classificação da ofensa. Até agora, os oito crimes mais comuns na área são contemplados, entre eles fraude de cartão de crédito, operação de jogos de azar, direção perigosa, danos físicos intencionais, obstrução de oficiais da justiça e roubo. O sistema tem uma acurácia de 97%.\\n\\n\\n\\nA intenção do desenvolvimento é reduzir a carga de trabalho dos procuradores para esta tarefa repetitiva e monótona, permitindo que eles possam realizar trabalhos mais complexos no lugar. Os pesquisadores garantem que o sistema não será empregado em sua atual versão no processo de decisão da culpa e eventual sentença, apenas na montagem do processo.\\n\\n\\n\\nMesmo com críticas relevantes, a inteligência artificial tem sido cada vez mais utilizada no ambiente legal. A China mesmo utiliza o chamado Sistema 206 desde 2016, que é responsável por avaliar a qualidade de evidências, as condições para uma prisão e a periculosidade de um suspeito. Na Alemanha, procuradores têm aplicado reconhecimento de imagem e técnicas forenses digitais para aumentar a velocidade e a precisão dos processos.\\n\\n\\n\\nÉ importante manter a discussão aberta para garantir que os algoritmos atinjam o maior padrão de justiça possível, mas é inegável que eles oferecem a oportunidade de acelerar os processos que, ao cargo exclusivamente das pessoas, são lentos por natureza.'},\n",
       " {'titulo': 'Previsão de Vendas com Facebook Prophet',\n",
       "  'conteudo': 'Veja nesta aula noções sobre previsão de vendas com Facebook Prophet. A aula faz parte do curso “Ciência de Dados para Empresas e Negócios”.\\n\\n\\n\\nO curso está disponível para assinantes IA Expert Academy.\\n\\n\\n\\nCurso na Udemy.\\n\\n\\n\\n\\n\\n'},\n",
       " {'titulo': 'IA cria versão vegana de carne de frango',\n",
       "  'conteudo': 'O mercado vegetariano e vegano anda em pleno crescimento. Uma das tendências neste nicho são produtos que simulam suas versões de carne, mantendo a consistência e o sabor de hambúrgueres e petiscos, por exemplo. A empresa chilena The Not Company está investindo nesta área, e acaba de lançar uma nova versão de frango vegano cujo desenvolvimento se deve à inteligência artificial.\\n\\n\\n\\nReproduzir os atributos da carne não é fácil, e em muitos casos isto tem sido alcançado na base de tentativa e erro. Mas a empresa desenvolveu uma inteligência artificial capaz de auxiliar na combinação de ingredientes vegetais para criar produtos com um objetivo definido. Batizado de Giuseppe, o sistema usa um catálogo extenso de ingredientes para propor novos produtos. Foi assim que surgiu a nova linha que imita a carne de frango, apresentando versões de nugget, hambúrguer e filé da ave, sob o nome auto-explicativo de NotChicken.\\n\\n\\n\\nA base da nova linha é a ervilha, que já vem sendo utilizada por outras empresas da área, mas graças ao uso da inteligência artificial, a empresa se permitiu ser mais ousada, testando combinações que incluem, por exemplo, bambu, pêssego e grão-de-bico. Desta forma, os novos produtos representam uma evolução frente às outras opções disponíveis.\\n\\n\\n\\nA empresa também utiliza outros ingredientes inesperados, como abacaxi, coco, repolho e beterraba, para produzir versões veganas de leite, sorvete e maionese, por exemplo. A linha NotChicken está programada para ser lançada inicialmente no Chile, na Argentina e no Brasil, depois se expandindo para os mercados americano e canadense, com alta demanda por esses produtos.'},\n",
       " {'titulo': 'Processamento de Linguagem Natural – Trilha de Aprendizagem',\n",
       "  'conteudo': 'Saiba mais sobre a Trilha de Aprendizagem Processamento de Linguagem Natural.  \\n\\n\\n\\nEsta trilha visa fornecer ao aluno os subsídios necessários para desenvolver aplicações reais e trabalhar na área de Processamento de Linguagem Natural. Ao final, o aluno será capaz de desenvolver seus próprios projetos utilizando textos em vários idiomas.\\n\\n\\n\\nTodos os cursos da trilha estão disponíveis para assinantes IA Expert Academy.\\n\\n\\n\\n\\n\\n'}]"
      ]
     },
     "execution_count": 35,
     "metadata": {},
     "output_type": "execute_result"
    }
   ],
   "source": [
    "artigos_blog = json.loads(open(\"../algoritimo_luhn/feed_iaexpert.json\").read())\n",
    "artigos_blog"
   ]
  }
 ],
 "metadata": {
  "kernelspec": {
   "display_name": "Python 3.8.10 64-bit ('classificacao-de-dados-pln-ri4D_3JE-py3.8': poetry)",
   "language": "python",
   "name": "python3810jvsc74a57bd0d15d06e0b4f8c7339e03d8a52ec615cc5c2c11d6eff72b41b29fe9d431380b8d"
  },
  "language_info": {
   "codemirror_mode": {
    "name": "ipython",
    "version": 3
   },
   "file_extension": ".py",
   "mimetype": "text/x-python",
   "name": "python",
   "nbconvert_exporter": "python",
   "pygments_lexer": "ipython3",
   "version": "3.8.10"
  }
 },
 "nbformat": 4,
 "nbformat_minor": 4
}
