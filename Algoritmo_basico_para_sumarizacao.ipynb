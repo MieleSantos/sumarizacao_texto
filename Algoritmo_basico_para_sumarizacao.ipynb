{
 "cells": [
  {
   "cell_type": "markdown",
   "metadata": {},
   "source": [
    "## Sumarização de textos com Processamento de linguagem natural"
   ]
  },
  {
   "cell_type": "markdown",
   "metadata": {},
   "source": [
    "## Pré-processamento do texto"
   ]
  },
  {
   "cell_type": "code",
   "execution_count": 1,
   "metadata": {},
   "outputs": [],
   "source": [
    "import re\n",
    "import nltk\n",
    "import string"
   ]
  },
  {
   "cell_type": "markdown",
   "metadata": {},
   "source": [
    "#### Baixando os pacotes do nltk"
   ]
  },
  {
   "cell_type": "code",
   "execution_count": 24,
   "metadata": {},
   "outputs": [
    {
     "name": "stderr",
     "output_type": "stream",
     "text": [
      "[nltk_data] Downloading package punkt to /home/derpy/nltk_data...\n",
      "[nltk_data]   Package punkt is already up-to-date!\n",
      "[nltk_data] Downloading package stopwords to /home/derpy/nltk_data...\n",
      "[nltk_data]   Package stopwords is already up-to-date!\n"
     ]
    },
    {
     "data": {
      "text/plain": [
       "True"
      ]
     },
     "execution_count": 24,
     "metadata": {},
     "output_type": "execute_result"
    }
   ],
   "source": [
    "nltk.download(\"punkt\")\n",
    "nltk.download(\"stopwords\")\n"
   ]
  },
  {
   "cell_type": "code",
   "execution_count": 2,
   "metadata": {},
   "outputs": [],
   "source": [
    "texto_original = \"\"\"A inteligência artificial é a inteligência similar à humana. Definem como\n",
    "o estudo de agente artificial com inteligência. Ciência e engenharia de\n",
    "produzir máquinas com inteligência. Resolver problemas e possuir\n",
    "inteligência. Relacionada ao comportamento inteligente. Construção de\n",
    "máquinas para raciocinar. Aprender com os erros e acertos. Inteligência\n",
    "artificial é raciocinar nas situações do cotidiano.\"\"\""
   ]
  },
  {
   "cell_type": "code",
   "execution_count": 3,
   "metadata": {},
   "outputs": [
    {
     "data": {
      "text/plain": [
       "'A inteligência artificial é a inteligência similar à humana. Definem como\\no estudo de agente artificial com inteligência. Ciência e engenharia de\\nproduzir máquinas com inteligência. Resolver problemas e possuir\\ninteligência. Relacionada ao comportamento inteligente. Construção de\\nmáquinas para raciocinar. Aprender com os erros e acertos. Inteligência\\nartificial é raciocinar nas situações do cotidiano.'"
      ]
     },
     "execution_count": 3,
     "metadata": {},
     "output_type": "execute_result"
    }
   ],
   "source": [
    "texto_original"
   ]
  },
  {
   "cell_type": "code",
   "execution_count": 4,
   "metadata": {},
   "outputs": [
    {
     "data": {
      "text/plain": [
       "'A inteligência artificial é a inteligência similar à humana. Definem como o estudo de agente artificial com inteligência. Ciência e engenharia de produzir máquinas com inteligência. Resolver problemas e possuir inteligência. Relacionada ao comportamento inteligente. Construção de máquinas para raciocinar. Aprender com os erros e acertos. Inteligência artificial é raciocinar nas situações do cotidiano.'"
      ]
     },
     "execution_count": 4,
     "metadata": {},
     "output_type": "execute_result"
    }
   ],
   "source": [
    "# removendo espaços em branco\n",
    "texto_original = re.sub(r'\\s+', ' ', texto_original)\n",
    "texto_original"
   ]
  },
  {
   "cell_type": "markdown",
   "metadata": {},
   "source": [
    "#### Stopwords"
   ]
  },
  {
   "cell_type": "code",
   "execution_count": 5,
   "metadata": {
    "tags": []
   },
   "outputs": [
    {
     "name": "stdout",
     "output_type": "stream",
     "text": [
      "Qtd: 204\n",
      "\n",
      " ['de', 'a', 'o', 'que', 'e', 'é', 'do', 'da', 'em', 'um', 'para', 'com', 'não', 'uma', 'os', 'no', 'se', 'na', 'por', 'mais', 'as', 'dos', 'como', 'mas', 'ao', 'ele', 'das', 'à', 'seu', 'sua', 'ou', 'quando', 'muito', 'nos', 'já', 'eu', 'também', 'só', 'pelo', 'pela', 'até', 'isso', 'ela', 'entre', 'depois', 'sem', 'mesmo', 'aos', 'seus', 'quem', 'nas', 'me', 'esse', 'eles', 'você', 'essa', 'num', 'nem', 'suas', 'meu', 'às', 'minha', 'numa', 'pelos', 'elas', 'qual', 'nós', 'lhe', 'deles', 'essas', 'esses', 'pelas', 'este', 'dele', 'tu', 'te', 'vocês', 'vos', 'lhes', 'meus', 'minhas', 'teu', 'tua', 'teus', 'tuas', 'nosso', 'nossa', 'nossos', 'nossas', 'dela', 'delas', 'esta', 'estes', 'estas', 'aquele', 'aquela', 'aqueles', 'aquelas', 'isto', 'aquilo', 'estou', 'está', 'estamos', 'estão', 'estive', 'esteve', 'estivemos', 'estiveram', 'estava', 'estávamos', 'estavam', 'estivera', 'estivéramos', 'esteja', 'estejamos', 'estejam', 'estivesse', 'estivéssemos', 'estivessem', 'estiver', 'estivermos', 'estiverem', 'hei', 'há', 'havemos', 'hão', 'houve', 'houvemos', 'houveram', 'houvera', 'houvéramos', 'haja', 'hajamos', 'hajam', 'houvesse', 'houvéssemos', 'houvessem', 'houver', 'houvermos', 'houverem', 'houverei', 'houverá', 'houveremos', 'houverão', 'houveria', 'houveríamos', 'houveriam', 'sou', 'somos', 'são', 'era', 'éramos', 'eram', 'fui', 'foi', 'fomos', 'foram', 'fora', 'fôramos', 'seja', 'sejamos', 'sejam', 'fosse', 'fôssemos', 'fossem', 'for', 'formos', 'forem', 'serei', 'será', 'seremos', 'serão', 'seria', 'seríamos', 'seriam', 'tenho', 'tem', 'temos', 'tém', 'tinha', 'tínhamos', 'tinham', 'tive', 'teve', 'tivemos', 'tiveram', 'tivera', 'tivéramos', 'tenha', 'tenhamos', 'tenham', 'tivesse', 'tivéssemos', 'tivessem', 'tiver', 'tivermos', 'tiverem', 'terei', 'terá', 'teremos', 'terão', 'teria', 'teríamos', 'teriam']\n"
     ]
    }
   ],
   "source": [
    "stopwords = nltk.corpus.stopwords.words(\"portuguese\")\n",
    "print(\"Qtd:\",len(stopwords))\n",
    "print(\"\\n\",stopwords)"
   ]
  },
  {
   "cell_type": "markdown",
   "metadata": {},
   "source": [
    "#### Função de pre-processamento"
   ]
  },
  {
   "cell_type": "code",
   "execution_count": 6,
   "metadata": {},
   "outputs": [],
   "source": [
    "\n",
    "def preprocessamento(texto):\n",
    "    # deixando o texto em minusculo\n",
    "    texto_formatado = texto.lower()\n",
    "    tokens = []\n",
    "    \n",
    "    # tokenizando o texto\n",
    "    for token in nltk.word_tokenize(texto_formatado):\n",
    "        tokens.append(token)\n",
    "    # removendo as stopwords\n",
    "    tokens = [palavra for palavra in tokens if palavra not in stopwords]\n",
    "    \n",
    "    # removendo a pontuação\n",
    "    tokens = [palavra for palavra in tokens if palavra not in string.punctuation]\n",
    "    \n",
    "    # formatando a lista em string\n",
    "    texto_formatado = \" \".join([str(elemento) for elemento in tokens])\n",
    "    \n",
    "    return texto_formatado"
   ]
  },
  {
   "cell_type": "code",
   "execution_count": 7,
   "metadata": {},
   "outputs": [
    {
     "data": {
      "text/plain": [
       "'inteligência artificial inteligência similar humana definem estudo agente artificial inteligência ciência engenharia produzir máquinas inteligência resolver problemas possuir inteligência relacionada comportamento inteligente construção máquinas raciocinar aprender erros acertos inteligência artificial raciocinar situações cotidiano'"
      ]
     },
     "execution_count": 7,
     "metadata": {},
     "output_type": "execute_result"
    }
   ],
   "source": [
    "texto_formatado = preprocessamento(texto_original)\n",
    "texto_formatado"
   ]
  },
  {
   "cell_type": "markdown",
   "metadata": {},
   "source": [
    "\n",
    "#### Frequência das palavras"
   ]
  },
  {
   "cell_type": "code",
   "execution_count": 11,
   "metadata": {},
   "outputs": [
    {
     "name": "stdout",
     "output_type": "stream",
     "text": [
      "{'acertos': 1,\n",
      " 'agente': 1,\n",
      " 'aprender': 1,\n",
      " 'artificial': 3,\n",
      " 'ciência': 1,\n",
      " 'comportamento': 1,\n",
      " 'construção': 1,\n",
      " 'cotidiano': 1,\n",
      " 'definem': 1,\n",
      " 'engenharia': 1,\n",
      " 'erros': 1,\n",
      " 'estudo': 1,\n",
      " 'humana': 1,\n",
      " 'inteligente': 1,\n",
      " 'inteligência': 6,\n",
      " 'máquinas': 2,\n",
      " 'possuir': 1,\n",
      " 'problemas': 1,\n",
      " 'produzir': 1,\n",
      " 'raciocinar': 2,\n",
      " 'relacionada': 1,\n",
      " 'resolver': 1,\n",
      " 'similar': 1,\n",
      " 'situações': 1}\n"
     ]
    }
   ],
   "source": [
    "from pprint import pprint\n",
    "frequencia_palavras = nltk.FreqDist(nltk.word_tokenize(texto_formatado))\n",
    "pprint(frequencia_palavras)"
   ]
  },
  {
   "cell_type": "markdown",
   "metadata": {},
   "source": [
    "#### Frequência proporcional"
   ]
  },
  {
   "cell_type": "code",
   "execution_count": 14,
   "metadata": {},
   "outputs": [
    {
     "data": {
      "text/plain": [
       "6"
      ]
     },
     "execution_count": 14,
     "metadata": {},
     "output_type": "execute_result"
    }
   ],
   "source": [
    "frequencia_maxima = max(frequencia_palavras.values())\n",
    "frequencia_maxima"
   ]
  },
  {
   "cell_type": "code",
   "execution_count": 16,
   "metadata": {},
   "outputs": [],
   "source": [
    "for palavra in frequencia_palavras.keys():\n",
    "    frequencia_palavras[palavra] = (frequencia_palavras[palavra]) / frequencia_maxima"
   ]
  },
  {
   "cell_type": "code",
   "execution_count": 19,
   "metadata": {},
   "outputs": [
    {
     "name": "stdout",
     "output_type": "stream",
     "text": [
      "{'acertos': 0.16666666666666666,\n",
      " 'agente': 0.16666666666666666,\n",
      " 'aprender': 0.16666666666666666,\n",
      " 'artificial': 0.5,\n",
      " 'ciência': 0.16666666666666666,\n",
      " 'comportamento': 0.16666666666666666,\n",
      " 'construção': 0.16666666666666666,\n",
      " 'cotidiano': 0.16666666666666666,\n",
      " 'definem': 0.16666666666666666,\n",
      " 'engenharia': 0.16666666666666666,\n",
      " 'erros': 0.16666666666666666,\n",
      " 'estudo': 0.16666666666666666,\n",
      " 'humana': 0.16666666666666666,\n",
      " 'inteligente': 0.16666666666666666,\n",
      " 'inteligência': 1.0,\n",
      " 'máquinas': 0.3333333333333333,\n",
      " 'possuir': 0.16666666666666666,\n",
      " 'problemas': 0.16666666666666666,\n",
      " 'produzir': 0.16666666666666666,\n",
      " 'raciocinar': 0.3333333333333333,\n",
      " 'relacionada': 0.16666666666666666,\n",
      " 'resolver': 0.16666666666666666,\n",
      " 'similar': 0.16666666666666666,\n",
      " 'situações': 0.16666666666666666}\n"
     ]
    }
   ],
   "source": [
    "pprint(frequencia_palavras)"
   ]
  },
  {
   "cell_type": "markdown",
   "metadata": {},
   "source": [
    "#### Tokenização das Sentenças"
   ]
  },
  {
   "cell_type": "code",
   "execution_count": 22,
   "metadata": {},
   "outputs": [
    {
     "data": {
      "text/plain": [
       "['o dr', ' joão foi para casa', ' Ele chegou cedo']"
      ]
     },
     "execution_count": 22,
     "metadata": {},
     "output_type": "execute_result"
    }
   ],
   "source": [
    "# Exemplo, abordagem errada\n",
    "frase = \"o dr. joão foi para casa. Ele chegou cedo\".split(\".\")\n",
    "frase"
   ]
  },
  {
   "cell_type": "code",
   "execution_count": 24,
   "metadata": {},
   "outputs": [
    {
     "data": {
      "text/plain": [
       "['o', 'dr.', 'joão', 'foi', 'para', 'casa', '.', 'Ele', 'chegou', 'cedo']"
      ]
     },
     "execution_count": 24,
     "metadata": {},
     "output_type": "execute_result"
    }
   ],
   "source": [
    "nltk.word_tokenize(\"o dr. joão foi para casa. Ele chegou cedo\")"
   ]
  },
  {
   "cell_type": "code",
   "execution_count": 25,
   "metadata": {},
   "outputs": [
    {
     "data": {
      "text/plain": [
       "['o dr. joão foi para casa.', 'Ele chegou cedo']"
      ]
     },
     "execution_count": 25,
     "metadata": {},
     "output_type": "execute_result"
    }
   ],
   "source": [
    "nltk.sent_tokenize(\"o dr. joão foi para casa. Ele chegou cedo\")"
   ]
  },
  {
   "cell_type": "code",
   "execution_count": 41,
   "metadata": {},
   "outputs": [
    {
     "data": {
      "text/plain": [
       "['A inteligência artificial é a inteligência similar à humana.',\n",
       " 'Definem como o estudo de agente artificial com inteligência.',\n",
       " 'Ciência e engenharia de produzir máquinas com inteligência.',\n",
       " 'Resolver problemas e possuir inteligência.',\n",
       " 'Relacionada ao comportamento inteligente.',\n",
       " 'Construção de máquinas para raciocinar.',\n",
       " 'Aprender com os erros e acertos.',\n",
       " 'Inteligência artificial é raciocinar nas situações do cotidiano.']"
      ]
     },
     "execution_count": 41,
     "metadata": {},
     "output_type": "execute_result"
    }
   ],
   "source": [
    "lista_sentenca = nltk.sent_tokenize(texto_original)\n",
    "lista_sentenca"
   ]
  },
  {
   "cell_type": "markdown",
   "metadata": {},
   "source": [
    "#### Geração do resumo(nota para as sentenças)"
   ]
  },
  {
   "cell_type": "code",
   "execution_count": 43,
   "metadata": {},
   "outputs": [
    {
     "data": {
      "text/plain": [
       "FreqDist({'inteligência': 1.0, 'artificial': 0.5, 'máquinas': 0.3333333333333333, 'raciocinar': 0.3333333333333333, 'similar': 0.16666666666666666, 'humana': 0.16666666666666666, 'definem': 0.16666666666666666, 'estudo': 0.16666666666666666, 'agente': 0.16666666666666666, 'ciência': 0.16666666666666666, ...})"
      ]
     },
     "execution_count": 43,
     "metadata": {},
     "output_type": "execute_result"
    }
   ],
   "source": [
    "frequencia_palavras"
   ]
  },
  {
   "cell_type": "code",
   "execution_count": 46,
   "metadata": {},
   "outputs": [
    {
     "data": {
      "text/plain": [
       "{'A inteligência artificial é a inteligência similar à humana.': 2.833333333333333,\n",
       " 'Definem como o estudo de agente artificial com inteligência.': 1.8333333333333333,\n",
       " 'Ciência e engenharia de produzir máquinas com inteligência.': 1.6666666666666665,\n",
       " 'Resolver problemas e possuir inteligência.': 1.3333333333333333,\n",
       " 'Relacionada ao comportamento inteligente.': 0.3333333333333333,\n",
       " 'Construção de máquinas para raciocinar.': 0.6666666666666666,\n",
       " 'Aprender com os erros e acertos.': 0.3333333333333333,\n",
       " 'Inteligência artificial é raciocinar nas situações do cotidiano.': 1.1666666666666665}"
      ]
     },
     "execution_count": 46,
     "metadata": {},
     "output_type": "execute_result"
    }
   ],
   "source": [
    "nota_sentencas = {}\n",
    "\n",
    "for sentenca in lista_sentenca:\n",
    "    for palavra in nltk.word_tokenize(sentenca):\n",
    "        if palavra in frequencia_palavras.keys():\n",
    "            if sentenca not in nota_sentencas.keys():\n",
    "                nota_sentencas[sentenca] = frequencia_palavras[palavra]\n",
    "            else:\n",
    "                nota_sentencas[sentenca] += frequencia_palavras[palavra]\n",
    "nota_sentencas"
   ]
  },
  {
   "cell_type": "markdown",
   "metadata": {},
   "source": [
    "#### As melhores sentenças"
   ]
  },
  {
   "cell_type": "code",
   "execution_count": 49,
   "metadata": {},
   "outputs": [
    {
     "data": {
      "text/plain": [
       "['A inteligência artificial é a inteligência similar à humana.',\n",
       " 'Definem como o estudo de agente artificial com inteligência.',\n",
       " 'Ciência e engenharia de produzir máquinas com inteligência.']"
      ]
     },
     "execution_count": 49,
     "metadata": {},
     "output_type": "execute_result"
    }
   ],
   "source": [
    "import heapq\n",
    "melhores_sentencas = heapq.nlargest(3,nota_sentencas, key=nota_sentencas.get)\n",
    "melhores_sentencas"
   ]
  },
  {
   "cell_type": "code",
   "execution_count": 50,
   "metadata": {},
   "outputs": [
    {
     "data": {
      "text/plain": [
       "'A inteligência artificial é a inteligência similar à humana. Definem como o estudo de agente artificial com inteligência. Ciência e engenharia de produzir máquinas com inteligência.'"
      ]
     },
     "execution_count": 50,
     "metadata": {},
     "output_type": "execute_result"
    }
   ],
   "source": [
    "resumo = \" \".join(melhores_sentencas)\n",
    "resumo"
   ]
  },
  {
   "cell_type": "markdown",
   "metadata": {},
   "source": [
    "#### Visualição do resumo"
   ]
  },
  {
   "cell_type": "code",
   "execution_count": 53,
   "metadata": {},
   "outputs": [
    {
     "data": {
      "text/html": [
       "<h1>Resumo do texto</h1>"
      ],
      "text/plain": [
       "<IPython.core.display.HTML object>"
      ]
     },
     "metadata": {},
     "output_type": "display_data"
    },
    {
     "data": {
      "text/html": [
       "<mark>A inteligência artificial é a inteligência similar à humana.</mark><mark>Definem como o estudo de agente artificial com inteligência.</mark><mark>Ciência e engenharia de produzir máquinas com inteligência.</mark>Resolver problemas e possuir inteligência.Relacionada ao comportamento inteligente.Construção de máquinas para raciocinar.Aprender com os erros e acertos.Inteligência artificial é raciocinar nas situações do cotidiano."
      ],
      "text/plain": [
       "<IPython.core.display.HTML object>"
      ]
     },
     "metadata": {},
     "output_type": "display_data"
    }
   ],
   "source": [
    "from IPython.core.display import HTML\n",
    "texto = \"\"\n",
    "\n",
    "display(HTML(f\"<h1>Resumo do texto</h1>\"))\n",
    "for sentenca in lista_sentenca:\n",
    "    if sentenca in melhores_sentencas:\n",
    "        texto += str(sentenca).replace(sentenca, f\"<mark>{sentenca}</mark>\")\n",
    "    else:\n",
    "        texto += sentenca\n",
    "display(HTML(f\"\"\"{texto}\"\"\"))"
   ]
  },
  {
   "cell_type": "markdown",
   "metadata": {},
   "source": [
    "#### Extração de texto de internet"
   ]
  },
  {
   "cell_type": "code",
   "execution_count": 54,
   "metadata": {
    "collapsed": true,
    "jupyter": {
     "outputs_hidden": true
    },
    "tags": []
   },
   "outputs": [
    {
     "name": "stdout",
     "output_type": "stream",
     "text": [
      "Defaulting to user installation because normal site-packages is not writeable\n",
      "Collecting goose3\n",
      "  Downloading goose3-3.1.10-py3-none-any.whl (86 kB)\n",
      "\u001b[K     |████████████████████████████████| 86 kB 432 kB/s eta 0:00:01\n",
      "\u001b[?25hRequirement already satisfied: beautifulsoup4 in /home/derpy/.local/lib/python3.7/site-packages (from goose3) (4.9.3)\n",
      "Requirement already satisfied: Pillow in /home/derpy/.local/lib/python3.7/site-packages (from goose3) (7.1.2)\n",
      "Requirement already satisfied: python-dateutil in /home/derpy/.local/lib/python3.7/site-packages (from goose3) (2.8.1)\n",
      "Collecting cssselect\n",
      "  Using cached cssselect-1.1.0-py2.py3-none-any.whl (16 kB)\n",
      "Collecting jieba\n",
      "  Downloading jieba-0.42.1.tar.gz (19.2 MB)\n",
      "\u001b[K     |████████████████████████████████| 19.2 MB 2.4 MB/s eta 0:00:01\n",
      "\u001b[?25hRequirement already satisfied: nltk in /home/derpy/.local/lib/python3.7/site-packages (from goose3) (3.5)\n",
      "Requirement already satisfied: lxml in /home/derpy/.local/lib/python3.7/site-packages (from goose3) (4.6.3)\n",
      "Requirement already satisfied: requests in /home/derpy/.local/lib/python3.7/site-packages (from goose3) (2.23.0)\n",
      "Requirement already satisfied: langdetect in /home/derpy/.local/lib/python3.7/site-packages (from goose3) (1.0.7)\n",
      "Requirement already satisfied: soupsieve>1.2; python_version >= \"3.0\" in /home/derpy/.local/lib/python3.7/site-packages (from beautifulsoup4->goose3) (2.2.1)\n",
      "Requirement already satisfied: six>=1.5 in /home/derpy/.local/lib/python3.7/site-packages (from python-dateutil->goose3) (1.14.0)\n",
      "Requirement already satisfied: click in /home/derpy/.local/lib/python3.7/site-packages (from nltk->goose3) (7.1.2)\n",
      "Requirement already satisfied: joblib in /home/derpy/.local/lib/python3.7/site-packages (from nltk->goose3) (0.14.1)\n",
      "Requirement already satisfied: regex in /home/derpy/.local/lib/python3.7/site-packages (from nltk->goose3) (2020.4.4)\n",
      "Requirement already satisfied: tqdm in /home/derpy/.local/lib/python3.7/site-packages (from nltk->goose3) (4.43.0)\n",
      "Requirement already satisfied: certifi>=2017.4.17 in /home/derpy/.local/lib/python3.7/site-packages (from requests->goose3) (2019.11.28)\n",
      "Requirement already satisfied: idna<3,>=2.5 in /home/derpy/.local/lib/python3.7/site-packages (from requests->goose3) (2.9)\n",
      "Requirement already satisfied: chardet<4,>=3.0.2 in /home/derpy/.local/lib/python3.7/site-packages (from requests->goose3) (3.0.4)\n",
      "Requirement already satisfied: urllib3!=1.25.0,!=1.25.1,<1.26,>=1.21.1 in /home/derpy/.local/lib/python3.7/site-packages (from requests->goose3) (1.25.9)\n",
      "Building wheels for collected packages: jieba\n",
      "  Building wheel for jieba (setup.py) ... \u001b[?25ldone\n",
      "\u001b[?25h  Created wheel for jieba: filename=jieba-0.42.1-py3-none-any.whl size=19314478 sha256=9b65258df9aa06a9511e1dcf0007d717bad82437b424c240b6eedd8f57166f05\n",
      "  Stored in directory: /home/derpy/.cache/pip/wheels/24/aa/17/5bc7c72e9a37990a9620cc3aad0acad1564dcff6dbc2359de3\n",
      "Successfully built jieba\n",
      "Installing collected packages: cssselect, jieba, goose3\n",
      "Successfully installed cssselect-1.1.0 goose3-3.1.10 jieba-0.42.1\n",
      "\u001b[33mWARNING: You are using pip version 20.1.1; however, version 21.3.1 is available.\n",
      "You should consider upgrading via the '/usr/local/bin/python3.7 -m pip install --upgrade pip' command.\u001b[0m\n"
     ]
    }
   ],
   "source": [
    "!pip install goose3"
   ]
  },
  {
   "cell_type": "code",
   "execution_count": 55,
   "metadata": {},
   "outputs": [
    {
     "ename": "ModuleNotFoundError",
     "evalue": "No module named 'goose3'",
     "output_type": "error",
     "traceback": [
      "\u001b[0;31m---------------------------------------------------------------------------\u001b[0m",
      "\u001b[0;31mModuleNotFoundError\u001b[0m                       Traceback (most recent call last)",
      "\u001b[0;32m<ipython-input-55-930f5d96860e>\u001b[0m in \u001b[0;36m<module>\u001b[0;34m\u001b[0m\n\u001b[0;32m----> 1\u001b[0;31m \u001b[0;32mfrom\u001b[0m \u001b[0mgoose3\u001b[0m \u001b[0;32mimport\u001b[0m \u001b[0mGoose\u001b[0m\u001b[0;34m\u001b[0m\u001b[0;34m\u001b[0m\u001b[0m\n\u001b[0m",
      "\u001b[0;31mModuleNotFoundError\u001b[0m: No module named 'goose3'"
     ]
    }
   ],
   "source": [
    "from goose3 import Goose"
   ]
  }
 ],
 "metadata": {
  "kernelspec": {
   "display_name": "classificacao-de-dados-pln-ri4D_3JE-py3.8",
   "language": "python",
   "name": "classificacao-de-dados-pln-ri4d_3je-py3.8"
  },
  "language_info": {
   "codemirror_mode": {
    "name": "ipython",
    "version": 3
   },
   "file_extension": ".py",
   "mimetype": "text/x-python",
   "name": "python",
   "nbconvert_exporter": "python",
   "pygments_lexer": "ipython3",
   "version": "3.8.10"
  }
 },
 "nbformat": 4,
 "nbformat_minor": 4
}
