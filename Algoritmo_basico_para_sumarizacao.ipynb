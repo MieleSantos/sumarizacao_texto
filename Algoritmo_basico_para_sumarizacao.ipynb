{
 "cells": [
  {
   "cell_type": "markdown",
   "metadata": {},
   "source": [
    "## Sumarização de textos com Processamento de linguagem natural"
   ]
  },
  {
   "cell_type": "markdown",
   "metadata": {},
   "source": [
    "## Pré-processamento do texto"
   ]
  },
  {
   "cell_type": "code",
   "execution_count": 1,
   "metadata": {},
   "outputs": [],
   "source": [
    "import re\n",
    "import nltk\n",
    "import string"
   ]
  },
  {
   "cell_type": "markdown",
   "metadata": {},
   "source": [
    "#### Baixando os pacotes do nltk"
   ]
  },
  {
   "cell_type": "code",
   "execution_count": 2,
   "metadata": {},
   "outputs": [
    {
     "name": "stderr",
     "output_type": "stream",
     "text": [
      "[nltk_data] Downloading package punkt to /home/derpy/nltk_data...\n",
      "[nltk_data]   Package punkt is already up-to-date!\n",
      "[nltk_data] Downloading package stopwords to /home/derpy/nltk_data...\n",
      "[nltk_data]   Package stopwords is already up-to-date!\n"
     ]
    },
    {
     "data": {
      "text/plain": [
       "True"
      ]
     },
     "execution_count": 2,
     "metadata": {},
     "output_type": "execute_result"
    }
   ],
   "source": [
    "nltk.download(\"punkt\")\n",
    "nltk.download(\"stopwords\")\n"
   ]
  },
  {
   "cell_type": "code",
   "execution_count": 3,
   "metadata": {},
   "outputs": [],
   "source": [
    "texto_original = \"\"\"A inteligência artificial é a inteligência similar à humana. Definem como\n",
    "o estudo de agente artificial com inteligência. Ciência e engenharia de\n",
    "produzir máquinas com inteligência. Resolver problemas e possuir\n",
    "inteligência. Relacionada ao comportamento inteligente. Construção de\n",
    "máquinas para raciocinar. Aprender com os erros e acertos. Inteligência\n",
    "artificial é raciocinar nas situações do cotidiano.\"\"\""
   ]
  },
  {
   "cell_type": "code",
   "execution_count": 4,
   "metadata": {},
   "outputs": [
    {
     "data": {
      "text/plain": [
       "'A inteligência artificial é a inteligência similar à humana. Definem como\\no estudo de agente artificial com inteligência. Ciência e engenharia de\\nproduzir máquinas com inteligência. Resolver problemas e possuir\\ninteligência. Relacionada ao comportamento inteligente. Construção de\\nmáquinas para raciocinar. Aprender com os erros e acertos. Inteligência\\nartificial é raciocinar nas situações do cotidiano.'"
      ]
     },
     "execution_count": 4,
     "metadata": {},
     "output_type": "execute_result"
    }
   ],
   "source": [
    "texto_original"
   ]
  },
  {
   "cell_type": "code",
   "execution_count": 5,
   "metadata": {},
   "outputs": [
    {
     "data": {
      "text/plain": [
       "'A inteligência artificial é a inteligência similar à humana. Definem como o estudo de agente artificial com inteligência. Ciência e engenharia de produzir máquinas com inteligência. Resolver problemas e possuir inteligência. Relacionada ao comportamento inteligente. Construção de máquinas para raciocinar. Aprender com os erros e acertos. Inteligência artificial é raciocinar nas situações do cotidiano.'"
      ]
     },
     "execution_count": 5,
     "metadata": {},
     "output_type": "execute_result"
    }
   ],
   "source": [
    "# removendo espaços em branco\n",
    "texto_original = re.sub(r'\\s+', ' ', texto_original)\n",
    "texto_original"
   ]
  },
  {
   "cell_type": "markdown",
   "metadata": {},
   "source": [
    "#### Stopwords"
   ]
  },
  {
   "cell_type": "code",
   "execution_count": 6,
   "metadata": {
    "tags": []
   },
   "outputs": [
    {
     "name": "stdout",
     "output_type": "stream",
     "text": [
      "Qtd: 204\n",
      "\n",
      " ['de', 'a', 'o', 'que', 'e', 'é', 'do', 'da', 'em', 'um', 'para', 'com', 'não', 'uma', 'os', 'no', 'se', 'na', 'por', 'mais', 'as', 'dos', 'como', 'mas', 'ao', 'ele', 'das', 'à', 'seu', 'sua', 'ou', 'quando', 'muito', 'nos', 'já', 'eu', 'também', 'só', 'pelo', 'pela', 'até', 'isso', 'ela', 'entre', 'depois', 'sem', 'mesmo', 'aos', 'seus', 'quem', 'nas', 'me', 'esse', 'eles', 'você', 'essa', 'num', 'nem', 'suas', 'meu', 'às', 'minha', 'numa', 'pelos', 'elas', 'qual', 'nós', 'lhe', 'deles', 'essas', 'esses', 'pelas', 'este', 'dele', 'tu', 'te', 'vocês', 'vos', 'lhes', 'meus', 'minhas', 'teu', 'tua', 'teus', 'tuas', 'nosso', 'nossa', 'nossos', 'nossas', 'dela', 'delas', 'esta', 'estes', 'estas', 'aquele', 'aquela', 'aqueles', 'aquelas', 'isto', 'aquilo', 'estou', 'está', 'estamos', 'estão', 'estive', 'esteve', 'estivemos', 'estiveram', 'estava', 'estávamos', 'estavam', 'estivera', 'estivéramos', 'esteja', 'estejamos', 'estejam', 'estivesse', 'estivéssemos', 'estivessem', 'estiver', 'estivermos', 'estiverem', 'hei', 'há', 'havemos', 'hão', 'houve', 'houvemos', 'houveram', 'houvera', 'houvéramos', 'haja', 'hajamos', 'hajam', 'houvesse', 'houvéssemos', 'houvessem', 'houver', 'houvermos', 'houverem', 'houverei', 'houverá', 'houveremos', 'houverão', 'houveria', 'houveríamos', 'houveriam', 'sou', 'somos', 'são', 'era', 'éramos', 'eram', 'fui', 'foi', 'fomos', 'foram', 'fora', 'fôramos', 'seja', 'sejamos', 'sejam', 'fosse', 'fôssemos', 'fossem', 'for', 'formos', 'forem', 'serei', 'será', 'seremos', 'serão', 'seria', 'seríamos', 'seriam', 'tenho', 'tem', 'temos', 'tém', 'tinha', 'tínhamos', 'tinham', 'tive', 'teve', 'tivemos', 'tiveram', 'tivera', 'tivéramos', 'tenha', 'tenhamos', 'tenham', 'tivesse', 'tivéssemos', 'tivessem', 'tiver', 'tivermos', 'tiverem', 'terei', 'terá', 'teremos', 'terão', 'teria', 'teríamos', 'teriam']\n"
     ]
    }
   ],
   "source": [
    "stopwords = nltk.corpus.stopwords.words(\"portuguese\")\n",
    "print(\"Qtd:\",len(stopwords))\n",
    "print(\"\\n\",stopwords)"
   ]
  },
  {
   "cell_type": "markdown",
   "metadata": {},
   "source": [
    "#### Função de pre-processamento"
   ]
  },
  {
   "cell_type": "code",
   "execution_count": 64,
   "metadata": {},
   "outputs": [],
   "source": [
    "\n",
    "def preprocessamento(texto):\n",
    "    # deixando o texto em minusculo\n",
    "    texto_formatado = texto.lower()\n",
    "    tokens = []\n",
    "    \n",
    "    # tokenizando o texto\n",
    "    for token in nltk.word_tokenize(texto_formatado):\n",
    "        tokens.append(token)\n",
    "    # removendo as stopwords\n",
    "    tokens = [palavra for palavra in tokens if palavra not in stopwords]\n",
    "    \n",
    "    # removendo a pontuação\n",
    "    tokens = [palavra for palavra in tokens if palavra not in string.punctuation]\n",
    "    \n",
    "    # formatando a lista em string\n",
    "    texto_formatado = \" \".join([str(elemento) for elemento in tokens if not elemento.isdigit()])\n",
    "    \n",
    "    return texto_formatado"
   ]
  },
  {
   "cell_type": "code",
   "execution_count": 8,
   "metadata": {},
   "outputs": [
    {
     "data": {
      "text/plain": [
       "'inteligência artificial inteligência similar humana definem estudo agente artificial inteligência ciência engenharia produzir máquinas inteligência resolver problemas possuir inteligência relacionada comportamento inteligente construção máquinas raciocinar aprender erros acertos inteligência artificial raciocinar situações cotidiano'"
      ]
     },
     "execution_count": 8,
     "metadata": {},
     "output_type": "execute_result"
    }
   ],
   "source": [
    "texto_formatado = preprocessamento(texto_original)\n",
    "texto_formatado"
   ]
  },
  {
   "cell_type": "markdown",
   "metadata": {},
   "source": [
    "\n",
    "#### Frequência das palavras"
   ]
  },
  {
   "cell_type": "code",
   "execution_count": 9,
   "metadata": {},
   "outputs": [
    {
     "name": "stdout",
     "output_type": "stream",
     "text": [
      "{'acertos': 1,\n",
      " 'agente': 1,\n",
      " 'aprender': 1,\n",
      " 'artificial': 3,\n",
      " 'ciência': 1,\n",
      " 'comportamento': 1,\n",
      " 'construção': 1,\n",
      " 'cotidiano': 1,\n",
      " 'definem': 1,\n",
      " 'engenharia': 1,\n",
      " 'erros': 1,\n",
      " 'estudo': 1,\n",
      " 'humana': 1,\n",
      " 'inteligente': 1,\n",
      " 'inteligência': 6,\n",
      " 'máquinas': 2,\n",
      " 'possuir': 1,\n",
      " 'problemas': 1,\n",
      " 'produzir': 1,\n",
      " 'raciocinar': 2,\n",
      " 'relacionada': 1,\n",
      " 'resolver': 1,\n",
      " 'similar': 1,\n",
      " 'situações': 1}\n"
     ]
    }
   ],
   "source": [
    "from pprint import pprint\n",
    "frequencia_palavras = nltk.FreqDist(nltk.word_tokenize(texto_formatado))\n",
    "pprint(frequencia_palavras)"
   ]
  },
  {
   "cell_type": "markdown",
   "metadata": {},
   "source": [
    "#### Frequência proporcional"
   ]
  },
  {
   "cell_type": "code",
   "execution_count": 10,
   "metadata": {},
   "outputs": [
    {
     "data": {
      "text/plain": [
       "6"
      ]
     },
     "execution_count": 10,
     "metadata": {},
     "output_type": "execute_result"
    }
   ],
   "source": [
    "frequencia_maxima = max(frequencia_palavras.values())\n",
    "frequencia_maxima"
   ]
  },
  {
   "cell_type": "code",
   "execution_count": 11,
   "metadata": {},
   "outputs": [],
   "source": [
    "for palavra in frequencia_palavras.keys():\n",
    "    frequencia_palavras[palavra] = (frequencia_palavras[palavra]) / frequencia_maxima"
   ]
  },
  {
   "cell_type": "code",
   "execution_count": 12,
   "metadata": {},
   "outputs": [
    {
     "name": "stdout",
     "output_type": "stream",
     "text": [
      "{'acertos': 0.16666666666666666,\n",
      " 'agente': 0.16666666666666666,\n",
      " 'aprender': 0.16666666666666666,\n",
      " 'artificial': 0.5,\n",
      " 'ciência': 0.16666666666666666,\n",
      " 'comportamento': 0.16666666666666666,\n",
      " 'construção': 0.16666666666666666,\n",
      " 'cotidiano': 0.16666666666666666,\n",
      " 'definem': 0.16666666666666666,\n",
      " 'engenharia': 0.16666666666666666,\n",
      " 'erros': 0.16666666666666666,\n",
      " 'estudo': 0.16666666666666666,\n",
      " 'humana': 0.16666666666666666,\n",
      " 'inteligente': 0.16666666666666666,\n",
      " 'inteligência': 1.0,\n",
      " 'máquinas': 0.3333333333333333,\n",
      " 'possuir': 0.16666666666666666,\n",
      " 'problemas': 0.16666666666666666,\n",
      " 'produzir': 0.16666666666666666,\n",
      " 'raciocinar': 0.3333333333333333,\n",
      " 'relacionada': 0.16666666666666666,\n",
      " 'resolver': 0.16666666666666666,\n",
      " 'similar': 0.16666666666666666,\n",
      " 'situações': 0.16666666666666666}\n"
     ]
    }
   ],
   "source": [
    "pprint(frequencia_palavras)"
   ]
  },
  {
   "cell_type": "markdown",
   "metadata": {},
   "source": [
    "#### Tokenização das Sentenças"
   ]
  },
  {
   "cell_type": "code",
   "execution_count": 13,
   "metadata": {},
   "outputs": [
    {
     "data": {
      "text/plain": [
       "['o dr', ' joão foi para casa', ' Ele chegou cedo']"
      ]
     },
     "execution_count": 13,
     "metadata": {},
     "output_type": "execute_result"
    }
   ],
   "source": [
    "# Exemplo, abordagem errada\n",
    "frase = \"o dr. joão foi para casa. Ele chegou cedo\".split(\".\")\n",
    "frase"
   ]
  },
  {
   "cell_type": "code",
   "execution_count": 14,
   "metadata": {},
   "outputs": [
    {
     "data": {
      "text/plain": [
       "['o', 'dr.', 'joão', 'foi', 'para', 'casa', '.', 'Ele', 'chegou', 'cedo']"
      ]
     },
     "execution_count": 14,
     "metadata": {},
     "output_type": "execute_result"
    }
   ],
   "source": [
    "nltk.word_tokenize(\"o dr. joão foi para casa. Ele chegou cedo\")"
   ]
  },
  {
   "cell_type": "code",
   "execution_count": 15,
   "metadata": {},
   "outputs": [
    {
     "data": {
      "text/plain": [
       "['o dr. joão foi para casa.', 'Ele chegou cedo']"
      ]
     },
     "execution_count": 15,
     "metadata": {},
     "output_type": "execute_result"
    }
   ],
   "source": [
    "nltk.sent_tokenize(\"o dr. joão foi para casa. Ele chegou cedo\")"
   ]
  },
  {
   "cell_type": "code",
   "execution_count": 16,
   "metadata": {},
   "outputs": [
    {
     "data": {
      "text/plain": [
       "['A inteligência artificial é a inteligência similar à humana.',\n",
       " 'Definem como o estudo de agente artificial com inteligência.',\n",
       " 'Ciência e engenharia de produzir máquinas com inteligência.',\n",
       " 'Resolver problemas e possuir inteligência.',\n",
       " 'Relacionada ao comportamento inteligente.',\n",
       " 'Construção de máquinas para raciocinar.',\n",
       " 'Aprender com os erros e acertos.',\n",
       " 'Inteligência artificial é raciocinar nas situações do cotidiano.']"
      ]
     },
     "execution_count": 16,
     "metadata": {},
     "output_type": "execute_result"
    }
   ],
   "source": [
    "lista_sentenca = nltk.sent_tokenize(texto_original)\n",
    "lista_sentenca"
   ]
  },
  {
   "cell_type": "markdown",
   "metadata": {},
   "source": [
    "#### Geração do resumo(nota para as sentenças)"
   ]
  },
  {
   "cell_type": "code",
   "execution_count": 17,
   "metadata": {},
   "outputs": [
    {
     "data": {
      "text/plain": [
       "FreqDist({'inteligência': 1.0, 'artificial': 0.5, 'máquinas': 0.3333333333333333, 'raciocinar': 0.3333333333333333, 'similar': 0.16666666666666666, 'humana': 0.16666666666666666, 'definem': 0.16666666666666666, 'estudo': 0.16666666666666666, 'agente': 0.16666666666666666, 'ciência': 0.16666666666666666, ...})"
      ]
     },
     "execution_count": 17,
     "metadata": {},
     "output_type": "execute_result"
    }
   ],
   "source": [
    "frequencia_palavras"
   ]
  },
  {
   "cell_type": "code",
   "execution_count": 18,
   "metadata": {},
   "outputs": [
    {
     "data": {
      "text/plain": [
       "{'A inteligência artificial é a inteligência similar à humana.': 2.833333333333333,\n",
       " 'Definem como o estudo de agente artificial com inteligência.': 1.8333333333333333,\n",
       " 'Ciência e engenharia de produzir máquinas com inteligência.': 1.6666666666666665,\n",
       " 'Resolver problemas e possuir inteligência.': 1.3333333333333333,\n",
       " 'Relacionada ao comportamento inteligente.': 0.3333333333333333,\n",
       " 'Construção de máquinas para raciocinar.': 0.6666666666666666,\n",
       " 'Aprender com os erros e acertos.': 0.3333333333333333,\n",
       " 'Inteligência artificial é raciocinar nas situações do cotidiano.': 1.1666666666666665}"
      ]
     },
     "execution_count": 18,
     "metadata": {},
     "output_type": "execute_result"
    }
   ],
   "source": [
    "nota_sentencas = {}\n",
    "\n",
    "for sentenca in lista_sentenca:\n",
    "    for palavra in nltk.word_tokenize(sentenca):\n",
    "        if palavra in frequencia_palavras.keys():\n",
    "            if sentenca not in nota_sentencas.keys():\n",
    "                nota_sentencas[sentenca] = frequencia_palavras[palavra]\n",
    "            else:\n",
    "                nota_sentencas[sentenca] += frequencia_palavras[palavra]\n",
    "nota_sentencas"
   ]
  },
  {
   "cell_type": "markdown",
   "metadata": {},
   "source": [
    "#### As melhores sentenças"
   ]
  },
  {
   "cell_type": "code",
   "execution_count": 19,
   "metadata": {},
   "outputs": [
    {
     "data": {
      "text/plain": [
       "['A inteligência artificial é a inteligência similar à humana.',\n",
       " 'Definem como o estudo de agente artificial com inteligência.',\n",
       " 'Ciência e engenharia de produzir máquinas com inteligência.']"
      ]
     },
     "execution_count": 19,
     "metadata": {},
     "output_type": "execute_result"
    }
   ],
   "source": [
    "import heapq\n",
    "melhores_sentencas = heapq.nlargest(3,nota_sentencas, key=nota_sentencas.get)\n",
    "melhores_sentencas"
   ]
  },
  {
   "cell_type": "code",
   "execution_count": 20,
   "metadata": {},
   "outputs": [
    {
     "data": {
      "text/plain": [
       "'A inteligência artificial é a inteligência similar à humana. Definem como o estudo de agente artificial com inteligência. Ciência e engenharia de produzir máquinas com inteligência.'"
      ]
     },
     "execution_count": 20,
     "metadata": {},
     "output_type": "execute_result"
    }
   ],
   "source": [
    "resumo = \" \".join(melhores_sentencas)\n",
    "resumo"
   ]
  },
  {
   "cell_type": "markdown",
   "metadata": {},
   "source": [
    "#### Visualição do resumo"
   ]
  },
  {
   "cell_type": "code",
   "execution_count": 21,
   "metadata": {},
   "outputs": [
    {
     "data": {
      "text/html": [
       "<h1>Resumo do texto</h1>"
      ],
      "text/plain": [
       "<IPython.core.display.HTML object>"
      ]
     },
     "metadata": {},
     "output_type": "display_data"
    },
    {
     "data": {
      "text/html": [
       "<mark>A inteligência artificial é a inteligência similar à humana.</mark><mark>Definem como o estudo de agente artificial com inteligência.</mark><mark>Ciência e engenharia de produzir máquinas com inteligência.</mark>Resolver problemas e possuir inteligência.Relacionada ao comportamento inteligente.Construção de máquinas para raciocinar.Aprender com os erros e acertos.Inteligência artificial é raciocinar nas situações do cotidiano."
      ],
      "text/plain": [
       "<IPython.core.display.HTML object>"
      ]
     },
     "metadata": {},
     "output_type": "display_data"
    }
   ],
   "source": [
    "from IPython.core.display import HTML\n",
    "texto = \"\"\n",
    "\n",
    "display(HTML(f\"<h1>Resumo do texto</h1>\"))\n",
    "for sentenca in lista_sentenca:\n",
    "    if sentenca in melhores_sentencas:\n",
    "        texto += str(sentenca).replace(sentenca, f\"<mark>{sentenca}</mark>\")\n",
    "    else:\n",
    "        texto += sentenca\n",
    "display(HTML(f\"\"\"{texto}\"\"\"))"
   ]
  },
  {
   "cell_type": "markdown",
   "metadata": {},
   "source": [
    "## Extração de texto de internet"
   ]
  },
  {
   "cell_type": "code",
   "execution_count": 22,
   "metadata": {
    "tags": []
   },
   "outputs": [],
   "source": [
    "#!pip install goose3"
   ]
  },
  {
   "cell_type": "code",
   "execution_count": 23,
   "metadata": {},
   "outputs": [],
   "source": [
    "from goose3 import Goose"
   ]
  },
  {
   "cell_type": "code",
   "execution_count": 24,
   "metadata": {},
   "outputs": [],
   "source": [
    "g = Goose()"
   ]
  },
  {
   "cell_type": "code",
   "execution_count": 38,
   "metadata": {},
   "outputs": [],
   "source": [
    "artigo =g.extract(url=\"https://iaexpert.academy/2021/10/25/ia-atinge-novo-patamar-geracao-imagens-corpo-inteiro-a-partir-uma-unica-foto/\")"
   ]
  },
  {
   "cell_type": "code",
   "execution_count": 39,
   "metadata": {},
   "outputs": [
    {
     "data": {
      "text/plain": [
       "{'meta': {'description': '',\n",
       "  'lang': 'pt',\n",
       "  'keywords': '',\n",
       "  'favicon': 'https://cdn.shortpixel.ai/spai/q_+ret_img/https://iaexpert.academy/wp-content/uploads/2020/06/cropped-favicon-1-32x32.png',\n",
       "  'canonical': 'https://iaexpert.academy/2021/10/25/ia-atinge-novo-patamar-geracao-imagens-corpo-inteiro-a-partir-uma-unica-foto/',\n",
       "  'encoding': 'UTF-8'},\n",
       " 'image': None,\n",
       " 'domain': 'iaexpert.academy',\n",
       " 'title': 'IA atinge novo patamar para geração de imagens de corpo inteiro a partir de uma única foto – IA Expert Academy',\n",
       " 'cleaned_text': 'A geração de imagens humanas fotorrealistas tem aplicações que incluem a criação de avatares virtuais, provadores virtuais, transferência de movimentos e a chamada síntese de posicionamento, onde várias imagens são usadas para gerar uma imagem de um novo ponto de vista. No caso de pessoas, esta tarefa é particularmente complicada para as abordagens tradicionais de processamento gráfico porque ela envolve a geometria tridimensional do corpo e das roupas; o controle das poses que é limitado pela estrutura física dos corpos e que causa deformações na forma; e a síntese de padrões de dobra que ocorrem, por exemplo, com roupas largas. Recentemente, métodos baseados em inteligência artificial mostraram resultados promissores utilizando redes generativas adversariais, mas para aplicações muito particulares, não atingindo o grau de generalização necessário para seu uso indiscriminado.\\n\\nPartindo destes métodos, pesquisadores da Virginia Tech, nos Estados Unidos, em parceria com a Adobe, apresentaram um sistema capaz de gerar renderizações humanas fotorrealistas em novas posições, mantendo os detalhes, a partir de uma única imagem original. O modelo usa a rede generativa chamada de StyleGAN, para transferência de estilo, mas numa abordagem condicionada pela pose. Os detalhes da imagem original são mantidos modulando a rede geradora através técnicas computacionais baseadas em superfície, que garantem a correta transferência da informação de um pixel dadas as restrições impostas pela nova posição.\\n\\nO desempenho do modelo foi avaliado tanto na manutenção da identidade da pessoa representada na nova posição, quanto no detalhamento presente nas roupas. A figura abaixo demonstra, no primeiro caso, o reposicionamento corporal, e no segundo, a transferência de roupa.\\n\\nO sistema se mostrou superior às alternativas disponíveis atualmente, representando um avanço real na tarefa de mapear os atributos físicos de uma imagem original para uma nova pose.',\n",
       " 'opengraph': {},\n",
       " 'tags': [],\n",
       " 'tweets': [],\n",
       " 'movies': [],\n",
       " 'links': ['https://arxiv.org/pdf/2109.06166.pdf'],\n",
       " 'authors': ['Denny Ceccon'],\n",
       " 'publish_date': None}"
      ]
     },
     "execution_count": 39,
     "metadata": {},
     "output_type": "execute_result"
    }
   ],
   "source": [
    "artigo.infos"
   ]
  },
  {
   "cell_type": "code",
   "execution_count": 40,
   "metadata": {},
   "outputs": [
    {
     "data": {
      "text/plain": [
       "'IA atinge novo patamar para geração de imagens de corpo inteiro a partir de uma única foto – IA Expert Academy'"
      ]
     },
     "execution_count": 40,
     "metadata": {},
     "output_type": "execute_result"
    }
   ],
   "source": [
    "artigo.title"
   ]
  },
  {
   "cell_type": "code",
   "execution_count": 41,
   "metadata": {},
   "outputs": [
    {
     "data": {
      "text/plain": [
       "['https://arxiv.org/pdf/2109.06166.pdf']"
      ]
     },
     "execution_count": 41,
     "metadata": {},
     "output_type": "execute_result"
    }
   ],
   "source": [
    "artigo.links"
   ]
  },
  {
   "cell_type": "code",
   "execution_count": 43,
   "metadata": {},
   "outputs": [
    {
     "data": {
      "text/plain": [
       "1963"
      ]
     },
     "execution_count": 43,
     "metadata": {},
     "output_type": "execute_result"
    }
   ],
   "source": [
    "len(artigo.cleaned_text)"
   ]
  },
  {
   "cell_type": "markdown",
   "metadata": {},
   "source": [
    "### Pre processamento do artigo"
   ]
  },
  {
   "cell_type": "code",
   "execution_count": 45,
   "metadata": {},
   "outputs": [],
   "source": [
    "# Add artigo em uma variavel\n",
    "artigo_original = artigo.cleaned_text"
   ]
  },
  {
   "cell_type": "code",
   "execution_count": 47,
   "metadata": {},
   "outputs": [
    {
     "data": {
      "text/plain": [
       "'geração imagens humanas fotorrealistas aplicações incluem criação avatares virtuais provadores virtuais transferência movimentos chamada síntese posicionamento onde várias imagens usadas gerar imagem novo ponto vista caso pessoas tarefa particularmente complicada abordagens tradicionais processamento gráfico porque envolve geometria tridimensional corpo roupas controle poses limitado estrutura física corpos causa deformações forma síntese padrões dobra ocorrem exemplo roupas largas recentemente métodos baseados inteligência artificial mostraram resultados promissores utilizando redes generativas adversariais aplicações particulares atingindo grau generalização necessário uso indiscriminado partindo destes métodos pesquisadores virginia tech estados unidos parceria adobe apresentaram sistema capaz gerar renderizações humanas fotorrealistas novas posições mantendo detalhes partir única imagem original modelo usa rede generativa chamada stylegan transferência estilo abordagem condicionada pose detalhes imagem original mantidos modulando rede geradora através técnicas computacionais baseadas superfície garantem correta transferência informação pixel dadas restrições impostas nova posição desempenho modelo avaliado tanto manutenção identidade pessoa representada nova posição quanto detalhamento presente roupas figura abaixo demonstra primeiro caso reposicionamento corporal segundo transferência roupa sistema mostrou superior alternativas disponíveis atualmente representando avanço real tarefa mapear atributos físicos imagem original nova pose'"
      ]
     },
     "execution_count": 47,
     "metadata": {},
     "output_type": "execute_result"
    }
   ],
   "source": [
    "# aplicando função preprocessamento\n",
    "artigo_formatado = preprocessamento(artigo_original)\n",
    "artigo_formatado"
   ]
  },
  {
   "cell_type": "code",
   "execution_count": 65,
   "metadata": {},
   "outputs": [],
   "source": [
    "def sumarilzar(texto, quantidade_sentenca):\n",
    "    texto_original = texto\n",
    "    texto_formatado = preprocessamento(texto_original)\n",
    "    \n",
    "    frequencia_palavras = nltk.FreqDist(nltk.word_tokenize(texto_formatado))\n",
    "    frequencia_maxima = max(frequencia_palavras.values())\n",
    "    \n",
    "    for palavra in frequencia_palavras.keys():\n",
    "        frequencia_palavras[palavra] = (frequencia_palavras[palavra] / frequencia_maxima)\n",
    "    lista_sentencas = nltk.sent_tokenize(texto_original)\n",
    "    \n",
    "    nota_sentencas = {}\n",
    "    for sentenca in lista_sentencas:\n",
    "        for palavra in nltk.word_tokenize(sentenca):\n",
    "            if palavra in frequencia_palavras.keys():\n",
    "                if sentenca not in nota_sentencas.keys():\n",
    "                    nota_sentencas[sentenca] = frequencia_palavras[palavra]\n",
    "                else:\n",
    "                    nota_sentencas[sentenca] += frequencia_palavras[palavra]\n",
    "    melhores_sentencas = heapq.nlargest(quantidade_sentenca, nota_sentencas, key=nota_sentencas.get)\n",
    "    \n",
    "    return lista_sentencas, melhores_sentencas, frequencia_palavras, nota_sentencas\n",
    "        "
   ]
  },
  {
   "cell_type": "code",
   "execution_count": 66,
   "metadata": {},
   "outputs": [],
   "source": [
    " lista_sentencas, melhores_sentencas, frequencia_palavras, nota_sentencas = sumarilzar(artigo_original,5)"
   ]
  },
  {
   "cell_type": "code",
   "execution_count": 67,
   "metadata": {},
   "outputs": [
    {
     "data": {
      "text/plain": [
       "['A geração de imagens humanas fotorrealistas tem aplicações que incluem a criação de avatares virtuais, provadores virtuais, transferência de movimentos e a chamada síntese de posicionamento, onde várias imagens são usadas para gerar uma imagem de um novo ponto de vista.',\n",
       " 'No caso de pessoas, esta tarefa é particularmente complicada para as abordagens tradicionais de processamento gráfico porque ela envolve a geometria tridimensional do corpo e das roupas; o controle das poses que é limitado pela estrutura física dos corpos e que causa deformações na forma; e a síntese de padrões de dobra que ocorrem, por exemplo, com roupas largas.',\n",
       " 'Recentemente, métodos baseados em inteligência artificial mostraram resultados promissores utilizando redes generativas adversariais, mas para aplicações muito particulares, não atingindo o grau de generalização necessário para seu uso indiscriminado.',\n",
       " 'Partindo destes métodos, pesquisadores da Virginia Tech, nos Estados Unidos, em parceria com a Adobe, apresentaram um sistema capaz de gerar renderizações humanas fotorrealistas em novas posições, mantendo os detalhes, a partir de uma única imagem original.',\n",
       " 'O modelo usa a rede generativa chamada de StyleGAN, para transferência de estilo, mas numa abordagem condicionada pela pose.',\n",
       " 'Os detalhes da imagem original são mantidos modulando a rede geradora através técnicas computacionais baseadas em superfície, que garantem a correta transferência da informação de um pixel dadas as restrições impostas pela nova posição.',\n",
       " 'O desempenho do modelo foi avaliado tanto na manutenção da identidade da pessoa representada na nova posição, quanto no detalhamento presente nas roupas.',\n",
       " 'A figura abaixo demonstra, no primeiro caso, o reposicionamento corporal, e no segundo, a transferência de roupa.',\n",
       " 'O sistema se mostrou superior às alternativas disponíveis atualmente, representando um avanço real na tarefa de mapear os atributos físicos de uma imagem original para uma nova pose.']"
      ]
     },
     "execution_count": 67,
     "metadata": {},
     "output_type": "execute_result"
    }
   ],
   "source": [
    "lista_sentencas"
   ]
  },
  {
   "cell_type": "code",
   "execution_count": 68,
   "metadata": {},
   "outputs": [
    {
     "data": {
      "text/plain": [
       "['A geração de imagens humanas fotorrealistas tem aplicações que incluem a criação de avatares virtuais, provadores virtuais, transferência de movimentos e a chamada síntese de posicionamento, onde várias imagens são usadas para gerar uma imagem de um novo ponto de vista.',\n",
       " 'No caso de pessoas, esta tarefa é particularmente complicada para as abordagens tradicionais de processamento gráfico porque ela envolve a geometria tridimensional do corpo e das roupas; o controle das poses que é limitado pela estrutura física dos corpos e que causa deformações na forma; e a síntese de padrões de dobra que ocorrem, por exemplo, com roupas largas.',\n",
       " 'Os detalhes da imagem original são mantidos modulando a rede geradora através técnicas computacionais baseadas em superfície, que garantem a correta transferência da informação de um pixel dadas as restrições impostas pela nova posição.',\n",
       " 'Partindo destes métodos, pesquisadores da Virginia Tech, nos Estados Unidos, em parceria com a Adobe, apresentaram um sistema capaz de gerar renderizações humanas fotorrealistas em novas posições, mantendo os detalhes, a partir de uma única imagem original.',\n",
       " 'O sistema se mostrou superior às alternativas disponíveis atualmente, representando um avanço real na tarefa de mapear os atributos físicos de uma imagem original para uma nova pose.']"
      ]
     },
     "execution_count": 68,
     "metadata": {},
     "output_type": "execute_result"
    }
   ],
   "source": [
    "melhores_sentencas"
   ]
  },
  {
   "cell_type": "code",
   "execution_count": 69,
   "metadata": {
    "tags": []
   },
   "outputs": [
    {
     "name": "stdout",
     "output_type": "stream",
     "text": [
      "{'abaixo': 0.25,\n",
      " 'abordagem': 0.25,\n",
      " 'abordagens': 0.25,\n",
      " 'adobe': 0.25,\n",
      " 'adversariais': 0.25,\n",
      " 'alternativas': 0.25,\n",
      " 'aplicações': 0.5,\n",
      " 'apresentaram': 0.25,\n",
      " 'artificial': 0.25,\n",
      " 'atingindo': 0.25,\n",
      " 'através': 0.25,\n",
      " 'atributos': 0.25,\n",
      " 'atualmente': 0.25,\n",
      " 'avaliado': 0.25,\n",
      " 'avanço': 0.25,\n",
      " 'avatares': 0.25,\n",
      " 'baseadas': 0.25,\n",
      " 'baseados': 0.25,\n",
      " 'capaz': 0.25,\n",
      " 'caso': 0.5,\n",
      " 'causa': 0.25,\n",
      " 'chamada': 0.5,\n",
      " 'complicada': 0.25,\n",
      " 'computacionais': 0.25,\n",
      " 'condicionada': 0.25,\n",
      " 'controle': 0.25,\n",
      " 'corpo': 0.25,\n",
      " 'corporal': 0.25,\n",
      " 'corpos': 0.25,\n",
      " 'correta': 0.25,\n",
      " 'criação': 0.25,\n",
      " 'dadas': 0.25,\n",
      " 'deformações': 0.25,\n",
      " 'demonstra': 0.25,\n",
      " 'desempenho': 0.25,\n",
      " 'destes': 0.25,\n",
      " 'detalhamento': 0.25,\n",
      " 'detalhes': 0.5,\n",
      " 'disponíveis': 0.25,\n",
      " 'dobra': 0.25,\n",
      " 'envolve': 0.25,\n",
      " 'estados': 0.25,\n",
      " 'estilo': 0.25,\n",
      " 'estrutura': 0.25,\n",
      " 'exemplo': 0.25,\n",
      " 'figura': 0.25,\n",
      " 'forma': 0.25,\n",
      " 'fotorrealistas': 0.5,\n",
      " 'física': 0.25,\n",
      " 'físicos': 0.25,\n",
      " 'garantem': 0.25,\n",
      " 'generalização': 0.25,\n",
      " 'generativa': 0.25,\n",
      " 'generativas': 0.25,\n",
      " 'geometria': 0.25,\n",
      " 'geradora': 0.25,\n",
      " 'gerar': 0.5,\n",
      " 'geração': 0.25,\n",
      " 'grau': 0.25,\n",
      " 'gráfico': 0.25,\n",
      " 'humanas': 0.5,\n",
      " 'identidade': 0.25,\n",
      " 'imagem': 1.0,\n",
      " 'imagens': 0.5,\n",
      " 'impostas': 0.25,\n",
      " 'incluem': 0.25,\n",
      " 'indiscriminado': 0.25,\n",
      " 'informação': 0.25,\n",
      " 'inteligência': 0.25,\n",
      " 'largas': 0.25,\n",
      " 'limitado': 0.25,\n",
      " 'mantendo': 0.25,\n",
      " 'mantidos': 0.25,\n",
      " 'manutenção': 0.25,\n",
      " 'mapear': 0.25,\n",
      " 'modelo': 0.5,\n",
      " 'modulando': 0.25,\n",
      " 'mostraram': 0.25,\n",
      " 'mostrou': 0.25,\n",
      " 'movimentos': 0.25,\n",
      " 'métodos': 0.5,\n",
      " 'necessário': 0.25,\n",
      " 'nova': 0.75,\n",
      " 'novas': 0.25,\n",
      " 'novo': 0.25,\n",
      " 'ocorrem': 0.25,\n",
      " 'onde': 0.25,\n",
      " 'original': 0.75,\n",
      " 'padrões': 0.25,\n",
      " 'parceria': 0.25,\n",
      " 'particulares': 0.25,\n",
      " 'particularmente': 0.25,\n",
      " 'partindo': 0.25,\n",
      " 'partir': 0.25,\n",
      " 'pesquisadores': 0.25,\n",
      " 'pessoa': 0.25,\n",
      " 'pessoas': 0.25,\n",
      " 'pixel': 0.25,\n",
      " 'ponto': 0.25,\n",
      " 'porque': 0.25,\n",
      " 'pose': 0.5,\n",
      " 'poses': 0.25,\n",
      " 'posicionamento': 0.25,\n",
      " 'posição': 0.5,\n",
      " 'posições': 0.25,\n",
      " 'presente': 0.25,\n",
      " 'primeiro': 0.25,\n",
      " 'processamento': 0.25,\n",
      " 'promissores': 0.25,\n",
      " 'provadores': 0.25,\n",
      " 'quanto': 0.25,\n",
      " 'real': 0.25,\n",
      " 'recentemente': 0.25,\n",
      " 'rede': 0.5,\n",
      " 'redes': 0.25,\n",
      " 'renderizações': 0.25,\n",
      " 'reposicionamento': 0.25,\n",
      " 'representada': 0.25,\n",
      " 'representando': 0.25,\n",
      " 'restrições': 0.25,\n",
      " 'resultados': 0.25,\n",
      " 'roupa': 0.25,\n",
      " 'roupas': 0.75,\n",
      " 'segundo': 0.25,\n",
      " 'sistema': 0.5,\n",
      " 'stylegan': 0.25,\n",
      " 'superfície': 0.25,\n",
      " 'superior': 0.25,\n",
      " 'síntese': 0.5,\n",
      " 'tanto': 0.25,\n",
      " 'tarefa': 0.5,\n",
      " 'tech': 0.25,\n",
      " 'tradicionais': 0.25,\n",
      " 'transferência': 1.0,\n",
      " 'tridimensional': 0.25,\n",
      " 'técnicas': 0.25,\n",
      " 'unidos': 0.25,\n",
      " 'usa': 0.25,\n",
      " 'usadas': 0.25,\n",
      " 'uso': 0.25,\n",
      " 'utilizando': 0.25,\n",
      " 'virginia': 0.25,\n",
      " 'virtuais': 0.5,\n",
      " 'vista': 0.25,\n",
      " 'várias': 0.25,\n",
      " 'única': 0.25}\n"
     ]
    }
   ],
   "source": [
    "from pprint import pprint\n",
    "pprint(frequencia_palavras)"
   ]
  },
  {
   "cell_type": "code",
   "execution_count": 70,
   "metadata": {},
   "outputs": [
    {
     "data": {
      "text/plain": [
       "{'A geração de imagens humanas fotorrealistas tem aplicações que incluem a criação de avatares virtuais, provadores virtuais, transferência de movimentos e a chamada síntese de posicionamento, onde várias imagens são usadas para gerar uma imagem de um novo ponto de vista.': 10.25,\n",
       " 'No caso de pessoas, esta tarefa é particularmente complicada para as abordagens tradicionais de processamento gráfico porque ela envolve a geometria tridimensional do corpo e das roupas; o controle das poses que é limitado pela estrutura física dos corpos e que causa deformações na forma; e a síntese de padrões de dobra que ocorrem, por exemplo, com roupas largas.': 9.5,\n",
       " 'Recentemente, métodos baseados em inteligência artificial mostraram resultados promissores utilizando redes generativas adversariais, mas para aplicações muito particulares, não atingindo o grau de generalização necessário para seu uso indiscriminado.': 5.25,\n",
       " 'Partindo destes métodos, pesquisadores da Virginia Tech, nos Estados Unidos, em parceria com a Adobe, apresentaram um sistema capaz de gerar renderizações humanas fotorrealistas em novas posições, mantendo os detalhes, a partir de uma única imagem original.': 7.5,\n",
       " 'O modelo usa a rede generativa chamada de StyleGAN, para transferência de estilo, mas numa abordagem condicionada pela pose.': 4.25,\n",
       " 'Os detalhes da imagem original são mantidos modulando a rede geradora através técnicas computacionais baseadas em superfície, que garantem a correta transferência da informação de um pixel dadas as restrições impostas pela nova posição.': 8.75,\n",
       " 'O desempenho do modelo foi avaliado tanto na manutenção da identidade da pessoa representada na nova posição, quanto no detalhamento presente nas roupas.': 5.0,\n",
       " 'A figura abaixo demonstra, no primeiro caso, o reposicionamento corporal, e no segundo, a transferência de roupa.': 3.5,\n",
       " 'O sistema se mostrou superior às alternativas disponíveis atualmente, representando um avanço real na tarefa de mapear os atributos físicos de uma imagem original para uma nova pose.': 6.75}"
      ]
     },
     "execution_count": 70,
     "metadata": {},
     "output_type": "execute_result"
    }
   ],
   "source": [
    "nota_sentencas"
   ]
  },
  {
   "cell_type": "code",
   "execution_count": 74,
   "metadata": {},
   "outputs": [],
   "source": [
    "def visualiza_resumo(titulo, lista_sentencas, melhores_sentencas):\n",
    "\n",
    "    from IPython.core.display import HTML\n",
    "    texto = \"\"\n",
    "\n",
    "    display(HTML(f\"<h1>Resumo do texto</h1>\"))\n",
    "    for sentenca in lista_sentencas:\n",
    "        if sentenca in melhores_sentencas:\n",
    "            texto += str(sentenca).replace(sentenca, f\"<mark>{sentenca}</mark>\")\n",
    "        else:\n",
    "            texto += sentenca\n",
    "    display(HTML(f\"\"\"{texto}\"\"\"))"
   ]
  },
  {
   "cell_type": "code",
   "execution_count": 75,
   "metadata": {},
   "outputs": [
    {
     "data": {
      "text/html": [
       "<h1>Resumo do texto</h1>"
      ],
      "text/plain": [
       "<IPython.core.display.HTML object>"
      ]
     },
     "metadata": {},
     "output_type": "display_data"
    },
    {
     "data": {
      "text/html": [
       "<mark>A geração de imagens humanas fotorrealistas tem aplicações que incluem a criação de avatares virtuais, provadores virtuais, transferência de movimentos e a chamada síntese de posicionamento, onde várias imagens são usadas para gerar uma imagem de um novo ponto de vista.</mark><mark>No caso de pessoas, esta tarefa é particularmente complicada para as abordagens tradicionais de processamento gráfico porque ela envolve a geometria tridimensional do corpo e das roupas; o controle das poses que é limitado pela estrutura física dos corpos e que causa deformações na forma; e a síntese de padrões de dobra que ocorrem, por exemplo, com roupas largas.</mark>Recentemente, métodos baseados em inteligência artificial mostraram resultados promissores utilizando redes generativas adversariais, mas para aplicações muito particulares, não atingindo o grau de generalização necessário para seu uso indiscriminado.<mark>Partindo destes métodos, pesquisadores da Virginia Tech, nos Estados Unidos, em parceria com a Adobe, apresentaram um sistema capaz de gerar renderizações humanas fotorrealistas em novas posições, mantendo os detalhes, a partir de uma única imagem original.</mark>O modelo usa a rede generativa chamada de StyleGAN, para transferência de estilo, mas numa abordagem condicionada pela pose.<mark>Os detalhes da imagem original são mantidos modulando a rede geradora através técnicas computacionais baseadas em superfície, que garantem a correta transferência da informação de um pixel dadas as restrições impostas pela nova posição.</mark>O desempenho do modelo foi avaliado tanto na manutenção da identidade da pessoa representada na nova posição, quanto no detalhamento presente nas roupas.A figura abaixo demonstra, no primeiro caso, o reposicionamento corporal, e no segundo, a transferência de roupa.<mark>O sistema se mostrou superior às alternativas disponíveis atualmente, representando um avanço real na tarefa de mapear os atributos físicos de uma imagem original para uma nova pose.</mark>"
      ],
      "text/plain": [
       "<IPython.core.display.HTML object>"
      ]
     },
     "metadata": {},
     "output_type": "display_data"
    }
   ],
   "source": [
    "visualiza_resumo(\"\", lista_sentencas, melhores_sentencas)"
   ]
  },
  {
   "cell_type": "code",
   "execution_count": null,
   "metadata": {},
   "outputs": [],
   "source": []
  }
 ],
 "metadata": {
  "kernelspec": {
   "display_name": "sumarizacao-texto-OdK0pdPP-py3.8",
   "language": "python",
   "name": "sumarizacao-texto-odk0pdpp-py3.8"
  },
  "language_info": {
   "codemirror_mode": {
    "name": "ipython",
    "version": 3
   },
   "file_extension": ".py",
   "mimetype": "text/x-python",
   "name": "python",
   "nbconvert_exporter": "python",
   "pygments_lexer": "ipython3",
   "version": "3.8.10"
  }
 },
 "nbformat": 4,
 "nbformat_minor": 4
}
