{
 "cells": [
  {
   "cell_type": "markdown",
   "metadata": {},
   "source": [
    "## Sumarização de textos com Processamento de linguagem natural"
   ]
  },
  {
   "cell_type": "markdown",
   "metadata": {},
   "source": [
    "## Pré-processamento do texto"
   ]
  },
  {
   "cell_type": "code",
   "execution_count": 9,
   "metadata": {},
   "outputs": [],
   "source": [
    "import re\n",
    "import nltk\n",
    "import string"
   ]
  },
  {
   "cell_type": "markdown",
   "metadata": {},
   "source": [
    "#### Baixando os pacotes do nltk"
   ]
  },
  {
   "cell_type": "code",
   "execution_count": 10,
   "metadata": {},
   "outputs": [
    {
     "name": "stderr",
     "output_type": "stream",
     "text": [
      "[nltk_data] Downloading package punkt to /home/derpy/nltk_data...\n",
      "[nltk_data]   Package punkt is already up-to-date!\n",
      "[nltk_data] Downloading package stopwords to /home/derpy/nltk_data...\n",
      "[nltk_data]   Package stopwords is already up-to-date!\n"
     ]
    },
    {
     "data": {
      "text/plain": [
       "True"
      ]
     },
     "execution_count": 10,
     "metadata": {},
     "output_type": "execute_result"
    }
   ],
   "source": [
    "nltk.download(\"punkt\")\n",
    "nltk.download(\"stopwords\")\n"
   ]
  },
  {
   "cell_type": "code",
   "execution_count": 11,
   "metadata": {},
   "outputs": [],
   "source": [
    "texto_original = \"\"\"A inteligência artificial é a inteligência similar à humana. Definem como\n",
    "o estudo de agente artificial com inteligência. Ciência e engenharia de\n",
    "produzir máquinas com inteligência. Resolver problemas e possuir\n",
    "inteligência. Relacionada ao comportamento inteligente. Construção de\n",
    "máquinas para raciocinar. Aprender com os erros e acertos. Inteligência\n",
    "artificial é raciocinar nas situações do cotidiano.\"\"\""
   ]
  },
  {
   "cell_type": "code",
   "execution_count": 12,
   "metadata": {},
   "outputs": [
    {
     "data": {
      "text/plain": [
       "'A inteligência artificial é a inteligência similar à humana. Definem como\\no estudo de agente artificial com inteligência. Ciência e engenharia de\\nproduzir máquinas com inteligência. Resolver problemas e possuir\\ninteligência. Relacionada ao comportamento inteligente. Construção de\\nmáquinas para raciocinar. Aprender com os erros e acertos. Inteligência\\nartificial é raciocinar nas situações do cotidiano.'"
      ]
     },
     "execution_count": 12,
     "metadata": {},
     "output_type": "execute_result"
    }
   ],
   "source": [
    "texto_original"
   ]
  },
  {
   "cell_type": "code",
   "execution_count": 13,
   "metadata": {},
   "outputs": [
    {
     "data": {
      "text/plain": [
       "'A inteligência artificial é a inteligência similar à humana. Definem como o estudo de agente artificial com inteligência. Ciência e engenharia de produzir máquinas com inteligência. Resolver problemas e possuir inteligência. Relacionada ao comportamento inteligente. Construção de máquinas para raciocinar. Aprender com os erros e acertos. Inteligência artificial é raciocinar nas situações do cotidiano.'"
      ]
     },
     "execution_count": 13,
     "metadata": {},
     "output_type": "execute_result"
    }
   ],
   "source": [
    "# removendo espaços em branco\n",
    "texto_original = re.sub(r'\\s+', ' ', texto_original)\n",
    "texto_original"
   ]
  },
  {
   "cell_type": "markdown",
   "metadata": {},
   "source": [
    "#### Stopwords"
   ]
  },
  {
   "cell_type": "code",
   "execution_count": 14,
   "metadata": {
    "tags": []
   },
   "outputs": [
    {
     "name": "stdout",
     "output_type": "stream",
     "text": [
      "Qtd: 204\n",
      "\n",
      " ['de', 'a', 'o', 'que', 'e', 'é', 'do', 'da', 'em', 'um', 'para', 'com', 'não', 'uma', 'os', 'no', 'se', 'na', 'por', 'mais', 'as', 'dos', 'como', 'mas', 'ao', 'ele', 'das', 'à', 'seu', 'sua', 'ou', 'quando', 'muito', 'nos', 'já', 'eu', 'também', 'só', 'pelo', 'pela', 'até', 'isso', 'ela', 'entre', 'depois', 'sem', 'mesmo', 'aos', 'seus', 'quem', 'nas', 'me', 'esse', 'eles', 'você', 'essa', 'num', 'nem', 'suas', 'meu', 'às', 'minha', 'numa', 'pelos', 'elas', 'qual', 'nós', 'lhe', 'deles', 'essas', 'esses', 'pelas', 'este', 'dele', 'tu', 'te', 'vocês', 'vos', 'lhes', 'meus', 'minhas', 'teu', 'tua', 'teus', 'tuas', 'nosso', 'nossa', 'nossos', 'nossas', 'dela', 'delas', 'esta', 'estes', 'estas', 'aquele', 'aquela', 'aqueles', 'aquelas', 'isto', 'aquilo', 'estou', 'está', 'estamos', 'estão', 'estive', 'esteve', 'estivemos', 'estiveram', 'estava', 'estávamos', 'estavam', 'estivera', 'estivéramos', 'esteja', 'estejamos', 'estejam', 'estivesse', 'estivéssemos', 'estivessem', 'estiver', 'estivermos', 'estiverem', 'hei', 'há', 'havemos', 'hão', 'houve', 'houvemos', 'houveram', 'houvera', 'houvéramos', 'haja', 'hajamos', 'hajam', 'houvesse', 'houvéssemos', 'houvessem', 'houver', 'houvermos', 'houverem', 'houverei', 'houverá', 'houveremos', 'houverão', 'houveria', 'houveríamos', 'houveriam', 'sou', 'somos', 'são', 'era', 'éramos', 'eram', 'fui', 'foi', 'fomos', 'foram', 'fora', 'fôramos', 'seja', 'sejamos', 'sejam', 'fosse', 'fôssemos', 'fossem', 'for', 'formos', 'forem', 'serei', 'será', 'seremos', 'serão', 'seria', 'seríamos', 'seriam', 'tenho', 'tem', 'temos', 'tém', 'tinha', 'tínhamos', 'tinham', 'tive', 'teve', 'tivemos', 'tiveram', 'tivera', 'tivéramos', 'tenha', 'tenhamos', 'tenham', 'tivesse', 'tivéssemos', 'tivessem', 'tiver', 'tivermos', 'tiverem', 'terei', 'terá', 'teremos', 'terão', 'teria', 'teríamos', 'teriam']\n"
     ]
    }
   ],
   "source": [
    "stopwords = nltk.corpus.stopwords.words(\"portuguese\")\n",
    "print(\"Qtd:\",len(stopwords))\n",
    "print(\"\\n\",stopwords)"
   ]
  },
  {
   "cell_type": "markdown",
   "metadata": {},
   "source": [
    "#### Função de pre-processamento"
   ]
  },
  {
   "cell_type": "code",
   "execution_count": 15,
   "metadata": {},
   "outputs": [],
   "source": [
    "\n",
    "def preprocessamento(texto):\n",
    "    stopwords = nltk.corpus.stopwords.words(\"portuguese\")\n",
    "    # deixando o texto em minusculo\n",
    "    texto_formatado = texto.lower()\n",
    "    tokens = []\n",
    "    \n",
    "    # tokenizando o texto\n",
    "    for token in nltk.word_tokenize(texto_formatado):\n",
    "        tokens.append(token)\n",
    "    # removendo as stopwords\n",
    "    tokens = [palavra for palavra in tokens if palavra not in stopwords]\n",
    "    \n",
    "    # removendo a pontuação\n",
    "    tokens = [palavra for palavra in tokens if palavra not in string.punctuation]\n",
    "    \n",
    "    # formatando a lista em string\n",
    "    texto_formatado = \" \".join([str(elemento) for elemento in tokens if not elemento.isdigit()])\n",
    "    \n",
    "    return texto_formatado"
   ]
  },
  {
   "cell_type": "code",
   "execution_count": 16,
   "metadata": {},
   "outputs": [
    {
     "data": {
      "text/plain": [
       "'inteligência artificial inteligência similar humana definem estudo agente artificial inteligência ciência engenharia produzir máquinas inteligência resolver problemas possuir inteligência relacionada comportamento inteligente construção máquinas raciocinar aprender erros acertos inteligência artificial raciocinar situações cotidiano'"
      ]
     },
     "execution_count": 16,
     "metadata": {},
     "output_type": "execute_result"
    }
   ],
   "source": [
    "texto_formatado = preprocessamento(texto_original)\n",
    "texto_formatado"
   ]
  },
  {
   "cell_type": "markdown",
   "metadata": {},
   "source": [
    "\n",
    "#### Frequência das palavras"
   ]
  },
  {
   "cell_type": "code",
   "execution_count": 17,
   "metadata": {},
   "outputs": [
    {
     "name": "stdout",
     "output_type": "stream",
     "text": [
      "{'acertos': 1,\n",
      " 'agente': 1,\n",
      " 'aprender': 1,\n",
      " 'artificial': 3,\n",
      " 'ciência': 1,\n",
      " 'comportamento': 1,\n",
      " 'construção': 1,\n",
      " 'cotidiano': 1,\n",
      " 'definem': 1,\n",
      " 'engenharia': 1,\n",
      " 'erros': 1,\n",
      " 'estudo': 1,\n",
      " 'humana': 1,\n",
      " 'inteligente': 1,\n",
      " 'inteligência': 6,\n",
      " 'máquinas': 2,\n",
      " 'possuir': 1,\n",
      " 'problemas': 1,\n",
      " 'produzir': 1,\n",
      " 'raciocinar': 2,\n",
      " 'relacionada': 1,\n",
      " 'resolver': 1,\n",
      " 'similar': 1,\n",
      " 'situações': 1}\n"
     ]
    }
   ],
   "source": [
    "from pprint import pprint\n",
    "frequencia_palavras = nltk.FreqDist(nltk.word_tokenize(texto_formatado))\n",
    "pprint(frequencia_palavras)"
   ]
  },
  {
   "cell_type": "markdown",
   "metadata": {},
   "source": [
    "#### Frequência proporcional"
   ]
  },
  {
   "cell_type": "code",
   "execution_count": 18,
   "metadata": {},
   "outputs": [
    {
     "data": {
      "text/plain": [
       "6"
      ]
     },
     "execution_count": 18,
     "metadata": {},
     "output_type": "execute_result"
    }
   ],
   "source": [
    "frequencia_maxima = max(frequencia_palavras.values())\n",
    "frequencia_maxima"
   ]
  },
  {
   "cell_type": "code",
   "execution_count": 19,
   "metadata": {},
   "outputs": [],
   "source": [
    "for palavra in frequencia_palavras.keys():\n",
    "    frequencia_palavras[palavra] = (frequencia_palavras[palavra]) / frequencia_maxima"
   ]
  },
  {
   "cell_type": "code",
   "execution_count": 20,
   "metadata": {},
   "outputs": [
    {
     "name": "stdout",
     "output_type": "stream",
     "text": [
      "{'acertos': 0.16666666666666666,\n",
      " 'agente': 0.16666666666666666,\n",
      " 'aprender': 0.16666666666666666,\n",
      " 'artificial': 0.5,\n",
      " 'ciência': 0.16666666666666666,\n",
      " 'comportamento': 0.16666666666666666,\n",
      " 'construção': 0.16666666666666666,\n",
      " 'cotidiano': 0.16666666666666666,\n",
      " 'definem': 0.16666666666666666,\n",
      " 'engenharia': 0.16666666666666666,\n",
      " 'erros': 0.16666666666666666,\n",
      " 'estudo': 0.16666666666666666,\n",
      " 'humana': 0.16666666666666666,\n",
      " 'inteligente': 0.16666666666666666,\n",
      " 'inteligência': 1.0,\n",
      " 'máquinas': 0.3333333333333333,\n",
      " 'possuir': 0.16666666666666666,\n",
      " 'problemas': 0.16666666666666666,\n",
      " 'produzir': 0.16666666666666666,\n",
      " 'raciocinar': 0.3333333333333333,\n",
      " 'relacionada': 0.16666666666666666,\n",
      " 'resolver': 0.16666666666666666,\n",
      " 'similar': 0.16666666666666666,\n",
      " 'situações': 0.16666666666666666}\n"
     ]
    }
   ],
   "source": [
    "pprint(frequencia_palavras)"
   ]
  },
  {
   "cell_type": "markdown",
   "metadata": {},
   "source": [
    "#### Tokenização das Sentenças"
   ]
  },
  {
   "cell_type": "code",
   "execution_count": 21,
   "metadata": {},
   "outputs": [
    {
     "data": {
      "text/plain": [
       "['o dr', ' joão foi para casa', ' Ele chegou cedo']"
      ]
     },
     "execution_count": 21,
     "metadata": {},
     "output_type": "execute_result"
    }
   ],
   "source": [
    "# Exemplo, abordagem errada\n",
    "frase = \"o dr. joão foi para casa. Ele chegou cedo\".split(\".\")\n",
    "frase"
   ]
  },
  {
   "cell_type": "code",
   "execution_count": 22,
   "metadata": {},
   "outputs": [
    {
     "data": {
      "text/plain": [
       "['o', 'dr.', 'joão', 'foi', 'para', 'casa', '.', 'Ele', 'chegou', 'cedo']"
      ]
     },
     "execution_count": 22,
     "metadata": {},
     "output_type": "execute_result"
    }
   ],
   "source": [
    "nltk.word_tokenize(\"o dr. joão foi para casa. Ele chegou cedo\")"
   ]
  },
  {
   "cell_type": "code",
   "execution_count": 23,
   "metadata": {},
   "outputs": [
    {
     "data": {
      "text/plain": [
       "['o dr. joão foi para casa.', 'Ele chegou cedo']"
      ]
     },
     "execution_count": 23,
     "metadata": {},
     "output_type": "execute_result"
    }
   ],
   "source": [
    "nltk.sent_tokenize(\"o dr. joão foi para casa. Ele chegou cedo\")"
   ]
  },
  {
   "cell_type": "code",
   "execution_count": 24,
   "metadata": {},
   "outputs": [
    {
     "data": {
      "text/plain": [
       "['A inteligência artificial é a inteligência similar à humana.',\n",
       " 'Definem como o estudo de agente artificial com inteligência.',\n",
       " 'Ciência e engenharia de produzir máquinas com inteligência.',\n",
       " 'Resolver problemas e possuir inteligência.',\n",
       " 'Relacionada ao comportamento inteligente.',\n",
       " 'Construção de máquinas para raciocinar.',\n",
       " 'Aprender com os erros e acertos.',\n",
       " 'Inteligência artificial é raciocinar nas situações do cotidiano.']"
      ]
     },
     "execution_count": 24,
     "metadata": {},
     "output_type": "execute_result"
    }
   ],
   "source": [
    "lista_sentenca = nltk.sent_tokenize(texto_original)\n",
    "lista_sentenca"
   ]
  },
  {
   "cell_type": "markdown",
   "metadata": {},
   "source": [
    "#### Geração do resumo(nota para as sentenças)"
   ]
  },
  {
   "cell_type": "code",
   "execution_count": 25,
   "metadata": {},
   "outputs": [
    {
     "data": {
      "text/plain": [
       "FreqDist({'inteligência': 1.0, 'artificial': 0.5, 'máquinas': 0.3333333333333333, 'raciocinar': 0.3333333333333333, 'similar': 0.16666666666666666, 'humana': 0.16666666666666666, 'definem': 0.16666666666666666, 'estudo': 0.16666666666666666, 'agente': 0.16666666666666666, 'ciência': 0.16666666666666666, ...})"
      ]
     },
     "execution_count": 25,
     "metadata": {},
     "output_type": "execute_result"
    }
   ],
   "source": [
    "frequencia_palavras"
   ]
  },
  {
   "cell_type": "code",
   "execution_count": 26,
   "metadata": {},
   "outputs": [
    {
     "data": {
      "text/plain": [
       "{'A inteligência artificial é a inteligência similar à humana.': 2.833333333333333,\n",
       " 'Definem como o estudo de agente artificial com inteligência.': 1.8333333333333333,\n",
       " 'Ciência e engenharia de produzir máquinas com inteligência.': 1.6666666666666665,\n",
       " 'Resolver problemas e possuir inteligência.': 1.3333333333333333,\n",
       " 'Relacionada ao comportamento inteligente.': 0.3333333333333333,\n",
       " 'Construção de máquinas para raciocinar.': 0.6666666666666666,\n",
       " 'Aprender com os erros e acertos.': 0.3333333333333333,\n",
       " 'Inteligência artificial é raciocinar nas situações do cotidiano.': 1.1666666666666665}"
      ]
     },
     "execution_count": 26,
     "metadata": {},
     "output_type": "execute_result"
    }
   ],
   "source": [
    "nota_sentencas = {}\n",
    "\n",
    "for sentenca in lista_sentenca:\n",
    "    for palavra in nltk.word_tokenize(sentenca):\n",
    "        if palavra in frequencia_palavras.keys():\n",
    "            if sentenca not in nota_sentencas.keys():\n",
    "                nota_sentencas[sentenca] = frequencia_palavras[palavra]\n",
    "            else:\n",
    "                nota_sentencas[sentenca] += frequencia_palavras[palavra]\n",
    "nota_sentencas"
   ]
  },
  {
   "cell_type": "markdown",
   "metadata": {},
   "source": [
    "#### As melhores sentenças"
   ]
  },
  {
   "cell_type": "code",
   "execution_count": 27,
   "metadata": {},
   "outputs": [
    {
     "data": {
      "text/plain": [
       "['A inteligência artificial é a inteligência similar à humana.',\n",
       " 'Definem como o estudo de agente artificial com inteligência.',\n",
       " 'Ciência e engenharia de produzir máquinas com inteligência.']"
      ]
     },
     "execution_count": 27,
     "metadata": {},
     "output_type": "execute_result"
    }
   ],
   "source": [
    "import heapq\n",
    "melhores_sentencas = heapq.nlargest(3,nota_sentencas, key=nota_sentencas.get)\n",
    "melhores_sentencas"
   ]
  },
  {
   "cell_type": "code",
   "execution_count": 28,
   "metadata": {},
   "outputs": [
    {
     "data": {
      "text/plain": [
       "'A inteligência artificial é a inteligência similar à humana. Definem como o estudo de agente artificial com inteligência. Ciência e engenharia de produzir máquinas com inteligência.'"
      ]
     },
     "execution_count": 28,
     "metadata": {},
     "output_type": "execute_result"
    }
   ],
   "source": [
    "resumo = \" \".join(melhores_sentencas)\n",
    "resumo"
   ]
  },
  {
   "cell_type": "markdown",
   "metadata": {},
   "source": [
    "#### Visualição do resumo"
   ]
  },
  {
   "cell_type": "code",
   "execution_count": 29,
   "metadata": {},
   "outputs": [
    {
     "data": {
      "text/html": [
       "<h1>Resumo do texto</h1>"
      ],
      "text/plain": [
       "<IPython.core.display.HTML object>"
      ]
     },
     "metadata": {},
     "output_type": "display_data"
    },
    {
     "data": {
      "text/html": [
       "<mark>A inteligência artificial é a inteligência similar à humana.</mark><mark>Definem como o estudo de agente artificial com inteligência.</mark><mark>Ciência e engenharia de produzir máquinas com inteligência.</mark>Resolver problemas e possuir inteligência.Relacionada ao comportamento inteligente.Construção de máquinas para raciocinar.Aprender com os erros e acertos.Inteligência artificial é raciocinar nas situações do cotidiano."
      ],
      "text/plain": [
       "<IPython.core.display.HTML object>"
      ]
     },
     "metadata": {},
     "output_type": "display_data"
    }
   ],
   "source": [
    "from IPython.core.display import HTML\n",
    "texto = \"\"\n",
    "\n",
    "display(HTML(f\"<h1>Resumo do texto</h1>\"))\n",
    "for sentenca in lista_sentenca:\n",
    "    if sentenca in melhores_sentencas:\n",
    "        texto += str(sentenca).replace(sentenca, f\"<mark>{sentenca}</mark>\")\n",
    "    else:\n",
    "        texto += sentenca\n",
    "display(HTML(f\"\"\"{texto}\"\"\"))"
   ]
  },
  {
   "cell_type": "markdown",
   "metadata": {},
   "source": [
    "## Extração de texto de internet"
   ]
  },
  {
   "cell_type": "code",
   "execution_count": 32,
   "metadata": {
    "collapsed": true,
    "jupyter": {
     "outputs_hidden": true
    },
    "tags": []
   },
   "outputs": [
    {
     "name": "stdout",
     "output_type": "stream",
     "text": [
      "Collecting goose3\n",
      "  Using cached goose3-3.1.10-py3-none-any.whl (86 kB)\n",
      "Collecting jieba\n",
      "  Using cached jieba-0.42.1.tar.gz (19.2 MB)\n",
      "Collecting langdetect\n",
      "  Downloading langdetect-1.0.9.tar.gz (981 kB)\n",
      "\u001b[K     |████████████████████████████████| 981 kB 1.6 MB/s eta 0:00:01\n",
      "\u001b[?25hRequirement already satisfied: requests in /home/derpy/.cache/pypoetry/virtualenvs/classificacao-de-dados-pln-ri4D_3JE-py3.8/lib/python3.8/site-packages (from goose3) (2.26.0)\n",
      "Collecting lxml\n",
      "  Downloading lxml-4.7.1-cp38-cp38-manylinux_2_17_x86_64.manylinux2014_x86_64.manylinux_2_24_x86_64.whl (6.9 MB)\n",
      "\u001b[K     |████████████████████████████████| 6.9 MB 24.8 MB/s eta 0:00:01\n",
      "\u001b[?25hRequirement already satisfied: nltk in /home/derpy/.cache/pypoetry/virtualenvs/classificacao-de-dados-pln-ri4D_3JE-py3.8/lib/python3.8/site-packages (from goose3) (3.6.5)\n",
      "Requirement already satisfied: Pillow in /home/derpy/.cache/pypoetry/virtualenvs/classificacao-de-dados-pln-ri4D_3JE-py3.8/lib/python3.8/site-packages (from goose3) (8.4.0)\n",
      "Collecting beautifulsoup4\n",
      "  Using cached beautifulsoup4-4.10.0-py3-none-any.whl (97 kB)\n",
      "Collecting cssselect\n",
      "  Using cached cssselect-1.1.0-py2.py3-none-any.whl (16 kB)\n",
      "Requirement already satisfied: python-dateutil in /home/derpy/.cache/pypoetry/virtualenvs/classificacao-de-dados-pln-ri4D_3JE-py3.8/lib/python3.8/site-packages (from goose3) (2.8.2)\n",
      "Collecting soupsieve>1.2\n",
      "  Downloading soupsieve-2.3.1-py3-none-any.whl (37 kB)\n",
      "Requirement already satisfied: six in /home/derpy/.cache/pypoetry/virtualenvs/classificacao-de-dados-pln-ri4D_3JE-py3.8/lib/python3.8/site-packages (from langdetect->goose3) (1.16.0)\n",
      "Requirement already satisfied: tqdm in /home/derpy/.cache/pypoetry/virtualenvs/classificacao-de-dados-pln-ri4D_3JE-py3.8/lib/python3.8/site-packages (from nltk->goose3) (4.62.3)\n",
      "Requirement already satisfied: joblib in /home/derpy/.cache/pypoetry/virtualenvs/classificacao-de-dados-pln-ri4D_3JE-py3.8/lib/python3.8/site-packages (from nltk->goose3) (1.1.0)\n",
      "Requirement already satisfied: regex>=2021.8.3 in /home/derpy/.cache/pypoetry/virtualenvs/classificacao-de-dados-pln-ri4D_3JE-py3.8/lib/python3.8/site-packages (from nltk->goose3) (2021.11.10)\n",
      "Requirement already satisfied: click in /home/derpy/.cache/pypoetry/virtualenvs/classificacao-de-dados-pln-ri4D_3JE-py3.8/lib/python3.8/site-packages (from nltk->goose3) (7.1.2)\n",
      "Requirement already satisfied: certifi>=2017.4.17 in /home/derpy/.cache/pypoetry/virtualenvs/classificacao-de-dados-pln-ri4D_3JE-py3.8/lib/python3.8/site-packages (from requests->goose3) (2021.10.8)\n",
      "Requirement already satisfied: urllib3<1.27,>=1.21.1 in /home/derpy/.cache/pypoetry/virtualenvs/classificacao-de-dados-pln-ri4D_3JE-py3.8/lib/python3.8/site-packages (from requests->goose3) (1.26.7)\n",
      "Requirement already satisfied: charset-normalizer~=2.0.0 in /home/derpy/.cache/pypoetry/virtualenvs/classificacao-de-dados-pln-ri4D_3JE-py3.8/lib/python3.8/site-packages (from requests->goose3) (2.0.9)\n",
      "Requirement already satisfied: idna<4,>=2.5 in /home/derpy/.cache/pypoetry/virtualenvs/classificacao-de-dados-pln-ri4D_3JE-py3.8/lib/python3.8/site-packages (from requests->goose3) (3.3)\n",
      "Building wheels for collected packages: jieba, langdetect\n",
      "  Building wheel for jieba (setup.py) ... \u001b[?25ldone\n",
      "\u001b[?25h  Created wheel for jieba: filename=jieba-0.42.1-py3-none-any.whl size=19314476 sha256=ecc6214515837c753b3836f73b454beaa31cb48b3952efb1aecbd9d5dbf4e546\n",
      "  Stored in directory: /home/derpy/.cache/pip/wheels/ca/38/d8/dfdfe73bec1d12026b30cb7ce8da650f3f0ea2cf155ea018ae\n",
      "  Building wheel for langdetect (setup.py) ... \u001b[?25ldone\n",
      "\u001b[?25h  Created wheel for langdetect: filename=langdetect-1.0.9-py3-none-any.whl size=993242 sha256=8952b25e3f3f4890df879d1652ef42e6abf329d8a9ebbcb69e3c841bbeee2a52\n",
      "  Stored in directory: /home/derpy/.cache/pip/wheels/13/c7/b0/79f66658626032e78fc1a83103690ef6797d551cb22e56e734\n",
      "Successfully built jieba langdetect\n",
      "Installing collected packages: soupsieve, lxml, langdetect, jieba, cssselect, beautifulsoup4, goose3\n",
      "Successfully installed beautifulsoup4-4.10.0 cssselect-1.1.0 goose3-3.1.10 jieba-0.42.1 langdetect-1.0.9 lxml-4.7.1 soupsieve-2.3.1\n",
      "\u001b[33mWARNING: You are using pip version 21.2.4; however, version 21.3.1 is available.\n",
      "You should consider upgrading via the '/home/derpy/.cache/pypoetry/virtualenvs/classificacao-de-dados-pln-ri4D_3JE-py3.8/bin/python -m pip install --upgrade pip' command.\u001b[0m\n"
     ]
    }
   ],
   "source": [
    "#!pip install goose3"
   ]
  },
  {
   "cell_type": "code",
   "execution_count": 34,
   "metadata": {},
   "outputs": [],
   "source": [
    "from goose3 import Goose"
   ]
  },
  {
   "cell_type": "code",
   "execution_count": 35,
   "metadata": {},
   "outputs": [],
   "source": [
    "g = Goose()"
   ]
  },
  {
   "cell_type": "code",
   "execution_count": 36,
   "metadata": {},
   "outputs": [],
   "source": [
    "artigo =g.extract(url=\"https://iaexpert.academy/2021/10/25/ia-atinge-novo-patamar-geracao-imagens-corpo-inteiro-a-partir-uma-unica-foto/\")"
   ]
  },
  {
   "cell_type": "code",
   "execution_count": 37,
   "metadata": {},
   "outputs": [
    {
     "data": {
      "text/plain": [
       "{'meta': {'description': '',\n",
       "  'lang': 'pt',\n",
       "  'keywords': '',\n",
       "  'favicon': 'https://cdn.shortpixel.ai/spai/q_+ret_img/https://iaexpert.academy/wp-content/uploads/2020/06/cropped-favicon-1-32x32.png',\n",
       "  'canonical': 'https://iaexpert.academy/2021/10/25/ia-atinge-novo-patamar-geracao-imagens-corpo-inteiro-a-partir-uma-unica-foto/',\n",
       "  'encoding': 'UTF-8'},\n",
       " 'image': None,\n",
       " 'domain': 'iaexpert.academy',\n",
       " 'title': 'IA atinge novo patamar para geração de imagens de corpo inteiro a partir de uma única foto – IA Expert Academy',\n",
       " 'cleaned_text': 'A geração de imagens humanas fotorrealistas tem aplicações que incluem a criação de avatares virtuais, provadores virtuais, transferência de movimentos e a chamada síntese de posicionamento, onde várias imagens são usadas para gerar uma imagem de um novo ponto de vista. No caso de pessoas, esta tarefa é particularmente complicada para as abordagens tradicionais de processamento gráfico porque ela envolve a geometria tridimensional do corpo e das roupas; o controle das poses que é limitado pela estrutura física dos corpos e que causa deformações na forma; e a síntese de padrões de dobra que ocorrem, por exemplo, com roupas largas. Recentemente, métodos baseados em inteligência artificial mostraram resultados promissores utilizando redes generativas adversariais, mas para aplicações muito particulares, não atingindo o grau de generalização necessário para seu uso indiscriminado.\\n\\nPartindo destes métodos, pesquisadores da Virginia Tech, nos Estados Unidos, em parceria com a Adobe, apresentaram um sistema capaz de gerar renderizações humanas fotorrealistas em novas posições, mantendo os detalhes, a partir de uma única imagem original. O modelo usa a rede generativa chamada de StyleGAN, para transferência de estilo, mas numa abordagem condicionada pela pose. Os detalhes da imagem original são mantidos modulando a rede geradora através técnicas computacionais baseadas em superfície, que garantem a correta transferência da informação de um pixel dadas as restrições impostas pela nova posição.\\n\\nO desempenho do modelo foi avaliado tanto na manutenção da identidade da pessoa representada na nova posição, quanto no detalhamento presente nas roupas. A figura abaixo demonstra, no primeiro caso, o reposicionamento corporal, e no segundo, a transferência de roupa.\\n\\nO sistema se mostrou superior às alternativas disponíveis atualmente, representando um avanço real na tarefa de mapear os atributos físicos de uma imagem original para uma nova pose.',\n",
       " 'opengraph': {},\n",
       " 'tags': [],\n",
       " 'tweets': [],\n",
       " 'movies': [],\n",
       " 'links': ['https://arxiv.org/pdf/2109.06166.pdf'],\n",
       " 'authors': ['Denny Ceccon'],\n",
       " 'publish_date': None}"
      ]
     },
     "execution_count": 37,
     "metadata": {},
     "output_type": "execute_result"
    }
   ],
   "source": [
    "artigo.infos"
   ]
  },
  {
   "cell_type": "code",
   "execution_count": 38,
   "metadata": {},
   "outputs": [
    {
     "data": {
      "text/plain": [
       "'IA atinge novo patamar para geração de imagens de corpo inteiro a partir de uma única foto – IA Expert Academy'"
      ]
     },
     "execution_count": 38,
     "metadata": {},
     "output_type": "execute_result"
    }
   ],
   "source": [
    "artigo.title"
   ]
  },
  {
   "cell_type": "code",
   "execution_count": 39,
   "metadata": {},
   "outputs": [
    {
     "data": {
      "text/plain": [
       "['https://arxiv.org/pdf/2109.06166.pdf']"
      ]
     },
     "execution_count": 39,
     "metadata": {},
     "output_type": "execute_result"
    }
   ],
   "source": [
    "artigo.links"
   ]
  },
  {
   "cell_type": "code",
   "execution_count": 40,
   "metadata": {},
   "outputs": [
    {
     "data": {
      "text/plain": [
       "1963"
      ]
     },
     "execution_count": 40,
     "metadata": {},
     "output_type": "execute_result"
    }
   ],
   "source": [
    "len(artigo.cleaned_text)"
   ]
  },
  {
   "cell_type": "markdown",
   "metadata": {},
   "source": [
    "### Pre processamento do artigo"
   ]
  },
  {
   "cell_type": "code",
   "execution_count": 41,
   "metadata": {},
   "outputs": [],
   "source": [
    "# Add artigo em uma variavel\n",
    "artigo_original = artigo.cleaned_text"
   ]
  },
  {
   "cell_type": "code",
   "execution_count": 42,
   "metadata": {},
   "outputs": [
    {
     "data": {
      "text/plain": [
       "'geração imagens humanas fotorrealistas aplicações incluem criação avatares virtuais provadores virtuais transferência movimentos chamada síntese posicionamento onde várias imagens usadas gerar imagem novo ponto vista caso pessoas tarefa particularmente complicada abordagens tradicionais processamento gráfico porque envolve geometria tridimensional corpo roupas controle poses limitado estrutura física corpos causa deformações forma síntese padrões dobra ocorrem exemplo roupas largas recentemente métodos baseados inteligência artificial mostraram resultados promissores utilizando redes generativas adversariais aplicações particulares atingindo grau generalização necessário uso indiscriminado partindo destes métodos pesquisadores virginia tech estados unidos parceria adobe apresentaram sistema capaz gerar renderizações humanas fotorrealistas novas posições mantendo detalhes partir única imagem original modelo usa rede generativa chamada stylegan transferência estilo abordagem condicionada pose detalhes imagem original mantidos modulando rede geradora através técnicas computacionais baseadas superfície garantem correta transferência informação pixel dadas restrições impostas nova posição desempenho modelo avaliado tanto manutenção identidade pessoa representada nova posição quanto detalhamento presente roupas figura abaixo demonstra primeiro caso reposicionamento corporal segundo transferência roupa sistema mostrou superior alternativas disponíveis atualmente representando avanço real tarefa mapear atributos físicos imagem original nova pose'"
      ]
     },
     "execution_count": 42,
     "metadata": {},
     "output_type": "execute_result"
    }
   ],
   "source": [
    "# aplicando função preprocessamento\n",
    "artigo_formatado = preprocessamento(artigo_original)\n",
    "artigo_formatado"
   ]
  },
  {
   "cell_type": "code",
   "execution_count": 43,
   "metadata": {},
   "outputs": [],
   "source": [
    "def sumarilzar(texto, quantidade_sentenca):\n",
    "    texto_original = texto\n",
    "    texto_formatado = preprocessamento(texto_original)\n",
    "    \n",
    "    frequencia_palavras = nltk.FreqDist(nltk.word_tokenize(texto_formatado))\n",
    "    frequencia_maxima = max(frequencia_palavras.values())\n",
    "    \n",
    "    for palavra in frequencia_palavras.keys():\n",
    "        frequencia_palavras[palavra] = (frequencia_palavras[palavra] / frequencia_maxima)\n",
    "    lista_sentencas = nltk.sent_tokenize(texto_original)\n",
    "    \n",
    "    nota_sentencas = {}\n",
    "    for sentenca in lista_sentencas:\n",
    "        for palavra in nltk.word_tokenize(sentenca):\n",
    "            if palavra in frequencia_palavras.keys():\n",
    "                if sentenca not in nota_sentencas.keys():\n",
    "                    nota_sentencas[sentenca] = frequencia_palavras[palavra]\n",
    "                else:\n",
    "                    nota_sentencas[sentenca] += frequencia_palavras[palavra]\n",
    "    melhores_sentencas = heapq.nlargest(quantidade_sentenca, nota_sentencas, key=nota_sentencas.get)\n",
    "    \n",
    "    return lista_sentencas, melhores_sentencas, frequencia_palavras, nota_sentencas\n",
    "        "
   ]
  },
  {
   "cell_type": "code",
   "execution_count": 44,
   "metadata": {},
   "outputs": [],
   "source": [
    " lista_sentencas, melhores_sentencas, frequencia_palavras, nota_sentencas = sumarilzar(artigo_original,5)"
   ]
  },
  {
   "cell_type": "code",
   "execution_count": 45,
   "metadata": {},
   "outputs": [
    {
     "data": {
      "text/plain": [
       "['A geração de imagens humanas fotorrealistas tem aplicações que incluem a criação de avatares virtuais, provadores virtuais, transferência de movimentos e a chamada síntese de posicionamento, onde várias imagens são usadas para gerar uma imagem de um novo ponto de vista.',\n",
       " 'No caso de pessoas, esta tarefa é particularmente complicada para as abordagens tradicionais de processamento gráfico porque ela envolve a geometria tridimensional do corpo e das roupas; o controle das poses que é limitado pela estrutura física dos corpos e que causa deformações na forma; e a síntese de padrões de dobra que ocorrem, por exemplo, com roupas largas.',\n",
       " 'Recentemente, métodos baseados em inteligência artificial mostraram resultados promissores utilizando redes generativas adversariais, mas para aplicações muito particulares, não atingindo o grau de generalização necessário para seu uso indiscriminado.',\n",
       " 'Partindo destes métodos, pesquisadores da Virginia Tech, nos Estados Unidos, em parceria com a Adobe, apresentaram um sistema capaz de gerar renderizações humanas fotorrealistas em novas posições, mantendo os detalhes, a partir de uma única imagem original.',\n",
       " 'O modelo usa a rede generativa chamada de StyleGAN, para transferência de estilo, mas numa abordagem condicionada pela pose.',\n",
       " 'Os detalhes da imagem original são mantidos modulando a rede geradora através técnicas computacionais baseadas em superfície, que garantem a correta transferência da informação de um pixel dadas as restrições impostas pela nova posição.',\n",
       " 'O desempenho do modelo foi avaliado tanto na manutenção da identidade da pessoa representada na nova posição, quanto no detalhamento presente nas roupas.',\n",
       " 'A figura abaixo demonstra, no primeiro caso, o reposicionamento corporal, e no segundo, a transferência de roupa.',\n",
       " 'O sistema se mostrou superior às alternativas disponíveis atualmente, representando um avanço real na tarefa de mapear os atributos físicos de uma imagem original para uma nova pose.']"
      ]
     },
     "execution_count": 45,
     "metadata": {},
     "output_type": "execute_result"
    }
   ],
   "source": [
    "lista_sentencas"
   ]
  },
  {
   "cell_type": "code",
   "execution_count": 46,
   "metadata": {},
   "outputs": [
    {
     "data": {
      "text/plain": [
       "['A geração de imagens humanas fotorrealistas tem aplicações que incluem a criação de avatares virtuais, provadores virtuais, transferência de movimentos e a chamada síntese de posicionamento, onde várias imagens são usadas para gerar uma imagem de um novo ponto de vista.',\n",
       " 'No caso de pessoas, esta tarefa é particularmente complicada para as abordagens tradicionais de processamento gráfico porque ela envolve a geometria tridimensional do corpo e das roupas; o controle das poses que é limitado pela estrutura física dos corpos e que causa deformações na forma; e a síntese de padrões de dobra que ocorrem, por exemplo, com roupas largas.',\n",
       " 'Os detalhes da imagem original são mantidos modulando a rede geradora através técnicas computacionais baseadas em superfície, que garantem a correta transferência da informação de um pixel dadas as restrições impostas pela nova posição.',\n",
       " 'Partindo destes métodos, pesquisadores da Virginia Tech, nos Estados Unidos, em parceria com a Adobe, apresentaram um sistema capaz de gerar renderizações humanas fotorrealistas em novas posições, mantendo os detalhes, a partir de uma única imagem original.',\n",
       " 'O sistema se mostrou superior às alternativas disponíveis atualmente, representando um avanço real na tarefa de mapear os atributos físicos de uma imagem original para uma nova pose.']"
      ]
     },
     "execution_count": 46,
     "metadata": {},
     "output_type": "execute_result"
    }
   ],
   "source": [
    "melhores_sentencas"
   ]
  },
  {
   "cell_type": "code",
   "execution_count": 47,
   "metadata": {
    "tags": []
   },
   "outputs": [
    {
     "name": "stdout",
     "output_type": "stream",
     "text": [
      "{'abaixo': 0.25,\n",
      " 'abordagem': 0.25,\n",
      " 'abordagens': 0.25,\n",
      " 'adobe': 0.25,\n",
      " 'adversariais': 0.25,\n",
      " 'alternativas': 0.25,\n",
      " 'aplicações': 0.5,\n",
      " 'apresentaram': 0.25,\n",
      " 'artificial': 0.25,\n",
      " 'atingindo': 0.25,\n",
      " 'através': 0.25,\n",
      " 'atributos': 0.25,\n",
      " 'atualmente': 0.25,\n",
      " 'avaliado': 0.25,\n",
      " 'avanço': 0.25,\n",
      " 'avatares': 0.25,\n",
      " 'baseadas': 0.25,\n",
      " 'baseados': 0.25,\n",
      " 'capaz': 0.25,\n",
      " 'caso': 0.5,\n",
      " 'causa': 0.25,\n",
      " 'chamada': 0.5,\n",
      " 'complicada': 0.25,\n",
      " 'computacionais': 0.25,\n",
      " 'condicionada': 0.25,\n",
      " 'controle': 0.25,\n",
      " 'corpo': 0.25,\n",
      " 'corporal': 0.25,\n",
      " 'corpos': 0.25,\n",
      " 'correta': 0.25,\n",
      " 'criação': 0.25,\n",
      " 'dadas': 0.25,\n",
      " 'deformações': 0.25,\n",
      " 'demonstra': 0.25,\n",
      " 'desempenho': 0.25,\n",
      " 'destes': 0.25,\n",
      " 'detalhamento': 0.25,\n",
      " 'detalhes': 0.5,\n",
      " 'disponíveis': 0.25,\n",
      " 'dobra': 0.25,\n",
      " 'envolve': 0.25,\n",
      " 'estados': 0.25,\n",
      " 'estilo': 0.25,\n",
      " 'estrutura': 0.25,\n",
      " 'exemplo': 0.25,\n",
      " 'figura': 0.25,\n",
      " 'forma': 0.25,\n",
      " 'fotorrealistas': 0.5,\n",
      " 'física': 0.25,\n",
      " 'físicos': 0.25,\n",
      " 'garantem': 0.25,\n",
      " 'generalização': 0.25,\n",
      " 'generativa': 0.25,\n",
      " 'generativas': 0.25,\n",
      " 'geometria': 0.25,\n",
      " 'geradora': 0.25,\n",
      " 'gerar': 0.5,\n",
      " 'geração': 0.25,\n",
      " 'grau': 0.25,\n",
      " 'gráfico': 0.25,\n",
      " 'humanas': 0.5,\n",
      " 'identidade': 0.25,\n",
      " 'imagem': 1.0,\n",
      " 'imagens': 0.5,\n",
      " 'impostas': 0.25,\n",
      " 'incluem': 0.25,\n",
      " 'indiscriminado': 0.25,\n",
      " 'informação': 0.25,\n",
      " 'inteligência': 0.25,\n",
      " 'largas': 0.25,\n",
      " 'limitado': 0.25,\n",
      " 'mantendo': 0.25,\n",
      " 'mantidos': 0.25,\n",
      " 'manutenção': 0.25,\n",
      " 'mapear': 0.25,\n",
      " 'modelo': 0.5,\n",
      " 'modulando': 0.25,\n",
      " 'mostraram': 0.25,\n",
      " 'mostrou': 0.25,\n",
      " 'movimentos': 0.25,\n",
      " 'métodos': 0.5,\n",
      " 'necessário': 0.25,\n",
      " 'nova': 0.75,\n",
      " 'novas': 0.25,\n",
      " 'novo': 0.25,\n",
      " 'ocorrem': 0.25,\n",
      " 'onde': 0.25,\n",
      " 'original': 0.75,\n",
      " 'padrões': 0.25,\n",
      " 'parceria': 0.25,\n",
      " 'particulares': 0.25,\n",
      " 'particularmente': 0.25,\n",
      " 'partindo': 0.25,\n",
      " 'partir': 0.25,\n",
      " 'pesquisadores': 0.25,\n",
      " 'pessoa': 0.25,\n",
      " 'pessoas': 0.25,\n",
      " 'pixel': 0.25,\n",
      " 'ponto': 0.25,\n",
      " 'porque': 0.25,\n",
      " 'pose': 0.5,\n",
      " 'poses': 0.25,\n",
      " 'posicionamento': 0.25,\n",
      " 'posição': 0.5,\n",
      " 'posições': 0.25,\n",
      " 'presente': 0.25,\n",
      " 'primeiro': 0.25,\n",
      " 'processamento': 0.25,\n",
      " 'promissores': 0.25,\n",
      " 'provadores': 0.25,\n",
      " 'quanto': 0.25,\n",
      " 'real': 0.25,\n",
      " 'recentemente': 0.25,\n",
      " 'rede': 0.5,\n",
      " 'redes': 0.25,\n",
      " 'renderizações': 0.25,\n",
      " 'reposicionamento': 0.25,\n",
      " 'representada': 0.25,\n",
      " 'representando': 0.25,\n",
      " 'restrições': 0.25,\n",
      " 'resultados': 0.25,\n",
      " 'roupa': 0.25,\n",
      " 'roupas': 0.75,\n",
      " 'segundo': 0.25,\n",
      " 'sistema': 0.5,\n",
      " 'stylegan': 0.25,\n",
      " 'superfície': 0.25,\n",
      " 'superior': 0.25,\n",
      " 'síntese': 0.5,\n",
      " 'tanto': 0.25,\n",
      " 'tarefa': 0.5,\n",
      " 'tech': 0.25,\n",
      " 'tradicionais': 0.25,\n",
      " 'transferência': 1.0,\n",
      " 'tridimensional': 0.25,\n",
      " 'técnicas': 0.25,\n",
      " 'unidos': 0.25,\n",
      " 'usa': 0.25,\n",
      " 'usadas': 0.25,\n",
      " 'uso': 0.25,\n",
      " 'utilizando': 0.25,\n",
      " 'virginia': 0.25,\n",
      " 'virtuais': 0.5,\n",
      " 'vista': 0.25,\n",
      " 'várias': 0.25,\n",
      " 'única': 0.25}\n"
     ]
    }
   ],
   "source": [
    "from pprint import pprint\n",
    "pprint(frequencia_palavras)"
   ]
  },
  {
   "cell_type": "code",
   "execution_count": 48,
   "metadata": {},
   "outputs": [
    {
     "data": {
      "text/plain": [
       "{'A geração de imagens humanas fotorrealistas tem aplicações que incluem a criação de avatares virtuais, provadores virtuais, transferência de movimentos e a chamada síntese de posicionamento, onde várias imagens são usadas para gerar uma imagem de um novo ponto de vista.': 10.25,\n",
       " 'No caso de pessoas, esta tarefa é particularmente complicada para as abordagens tradicionais de processamento gráfico porque ela envolve a geometria tridimensional do corpo e das roupas; o controle das poses que é limitado pela estrutura física dos corpos e que causa deformações na forma; e a síntese de padrões de dobra que ocorrem, por exemplo, com roupas largas.': 9.5,\n",
       " 'Recentemente, métodos baseados em inteligência artificial mostraram resultados promissores utilizando redes generativas adversariais, mas para aplicações muito particulares, não atingindo o grau de generalização necessário para seu uso indiscriminado.': 5.25,\n",
       " 'Partindo destes métodos, pesquisadores da Virginia Tech, nos Estados Unidos, em parceria com a Adobe, apresentaram um sistema capaz de gerar renderizações humanas fotorrealistas em novas posições, mantendo os detalhes, a partir de uma única imagem original.': 7.5,\n",
       " 'O modelo usa a rede generativa chamada de StyleGAN, para transferência de estilo, mas numa abordagem condicionada pela pose.': 4.25,\n",
       " 'Os detalhes da imagem original são mantidos modulando a rede geradora através técnicas computacionais baseadas em superfície, que garantem a correta transferência da informação de um pixel dadas as restrições impostas pela nova posição.': 8.75,\n",
       " 'O desempenho do modelo foi avaliado tanto na manutenção da identidade da pessoa representada na nova posição, quanto no detalhamento presente nas roupas.': 5.0,\n",
       " 'A figura abaixo demonstra, no primeiro caso, o reposicionamento corporal, e no segundo, a transferência de roupa.': 3.5,\n",
       " 'O sistema se mostrou superior às alternativas disponíveis atualmente, representando um avanço real na tarefa de mapear os atributos físicos de uma imagem original para uma nova pose.': 6.75}"
      ]
     },
     "execution_count": 48,
     "metadata": {},
     "output_type": "execute_result"
    }
   ],
   "source": [
    "nota_sentencas"
   ]
  },
  {
   "cell_type": "code",
   "execution_count": 49,
   "metadata": {},
   "outputs": [],
   "source": [
    "def visualiza_resumo(titulo, lista_sentencas, melhores_sentencas):\n",
    "\n",
    "    from IPython.core.display import HTML\n",
    "    texto = \"\"\n",
    "\n",
    "    display(HTML(f\"<h1>Resumo do texto</h1>\"))\n",
    "    for sentenca in lista_sentencas:\n",
    "        if sentenca in melhores_sentencas:\n",
    "            texto += str(sentenca).replace(sentenca, f\"<mark>{sentenca}</mark>\")\n",
    "        else:\n",
    "            texto += sentenca\n",
    "    display(HTML(f\"\"\"{texto}\"\"\"))"
   ]
  },
  {
   "cell_type": "code",
   "execution_count": 50,
   "metadata": {},
   "outputs": [
    {
     "data": {
      "text/html": [
       "<h1>Resumo do texto</h1>"
      ],
      "text/plain": [
       "<IPython.core.display.HTML object>"
      ]
     },
     "metadata": {},
     "output_type": "display_data"
    },
    {
     "data": {
      "text/html": [
       "<mark>A geração de imagens humanas fotorrealistas tem aplicações que incluem a criação de avatares virtuais, provadores virtuais, transferência de movimentos e a chamada síntese de posicionamento, onde várias imagens são usadas para gerar uma imagem de um novo ponto de vista.</mark><mark>No caso de pessoas, esta tarefa é particularmente complicada para as abordagens tradicionais de processamento gráfico porque ela envolve a geometria tridimensional do corpo e das roupas; o controle das poses que é limitado pela estrutura física dos corpos e que causa deformações na forma; e a síntese de padrões de dobra que ocorrem, por exemplo, com roupas largas.</mark>Recentemente, métodos baseados em inteligência artificial mostraram resultados promissores utilizando redes generativas adversariais, mas para aplicações muito particulares, não atingindo o grau de generalização necessário para seu uso indiscriminado.<mark>Partindo destes métodos, pesquisadores da Virginia Tech, nos Estados Unidos, em parceria com a Adobe, apresentaram um sistema capaz de gerar renderizações humanas fotorrealistas em novas posições, mantendo os detalhes, a partir de uma única imagem original.</mark>O modelo usa a rede generativa chamada de StyleGAN, para transferência de estilo, mas numa abordagem condicionada pela pose.<mark>Os detalhes da imagem original são mantidos modulando a rede geradora através técnicas computacionais baseadas em superfície, que garantem a correta transferência da informação de um pixel dadas as restrições impostas pela nova posição.</mark>O desempenho do modelo foi avaliado tanto na manutenção da identidade da pessoa representada na nova posição, quanto no detalhamento presente nas roupas.A figura abaixo demonstra, no primeiro caso, o reposicionamento corporal, e no segundo, a transferência de roupa.<mark>O sistema se mostrou superior às alternativas disponíveis atualmente, representando um avanço real na tarefa de mapear os atributos físicos de uma imagem original para uma nova pose.</mark>"
      ],
      "text/plain": [
       "<IPython.core.display.HTML object>"
      ]
     },
     "metadata": {},
     "output_type": "display_data"
    }
   ],
   "source": [
    "visualiza_resumo(\"\", lista_sentencas, melhores_sentencas)"
   ]
  },
  {
   "cell_type": "markdown",
   "metadata": {},
   "source": [
    "# Mais exemplos"
   ]
  },
  {
   "cell_type": "code",
   "execution_count": 69,
   "metadata": {},
   "outputs": [],
   "source": [
    "\n",
    "lista_artigos = [\"https://iaexpert.academy/2021/11/22/ia-para-anotacao-de-comportamento-animal-a-partir-de-videos-de-longa-duracao/\",\n",
    "             \"https://iaexpert.academy/2021/11/23/redes-neurais-e-deep-learning-trilha-de-aprendizagem/\",\n",
    "             \"https://iaexpert.academy/2021/11/18/classificacao-binaria-com-pytorch/\"]\n"
   ]
  },
  {
   "cell_type": "code",
   "execution_count": 52,
   "metadata": {},
   "outputs": [
    {
     "data": {
      "text/html": [
       "<h1>Resumo do texto</h1>"
      ],
      "text/plain": [
       "<IPython.core.display.HTML object>"
      ]
     },
     "metadata": {},
     "output_type": "display_data"
    },
    {
     "data": {
      "text/html": [
       "A etiologia é a área da ciência que busca entender os fatores genéticos, de desenvolvimento, ecológicos e sociais que afetam o comportamento animal.<mark>Mensurar o comportamento é uma forma eficiente de analisar, por exemplo, como fatores externos como a atividade humana afetam a dinâmica individual e coletiva de animais selvagens.</mark>Entretanto, quantificar o comportamento é um trabalhoso oneroso, já que os animais devem ser observados em seu hábitat com a mínima interferência possível.Na prática, isso é feito com a filmagem não intrusiva, mas então técnicos devem assistir a longas horas de para construir um perfil comportamental com valor informacional para os estudos.Neste sentido, o atual estado da inteligência artificial chamou a atenção de um grupo de pesquisadores da Universidade de Oxford, no Reino Unido.Eles avaliaram se seria possível analisar os vídeos se valendo da tecnologia, para tanto automatizar quanto acelerar o processo de sua anotação.<mark>Em um trabalho publicado este mês, eles detalham como construíram um sistema baseado em visão computacional e reconhecimento sonoro para detectar e acompanhar duas atividades comuns de chimpanzés, a quebra de nozes e a produção de sons batendo as palmas das mãos nos nós de árvores, que lembra a utilização de tambores.</mark>Este é o primeiro trabalho publicado que faz o reconhecimento automático de comportamento selvagem usando tanto áudio quanto vídeo.<mark>Os dois canais de informação são importantes por sua complementaridade, já que às vezes o áudio pode estar misturado com outros sons ambientes, ou o vídeo pode estar parcialmente ocluso.</mark>O modelo implementado foi uma versão de rede neural convolucional capaz de analisar áudio e vídeo.O corpo dos animais é detectado e acompanhado ao longo dos frames, e integrado ao sinal sonoro após pré-processamento convolucional.Foram analisadas cerca de 40 horas de vídeos contendo mais de 2400 eventos de quebra de nozes, e quase 11 horas com cerca de 1250 sequências de tamborilamento.<mark>Na identificação das ações realizadas por chimpanzés individuais, o sistema atingiu precisão média de cerca de 77% na quebra de nozes e 86% no tamborilamento, que é considerada alta dada a dificuldade da tarefa.</mark><mark>Os pesquisadores comentam que, no caso dos chimpanzés, que têm comportamentos complexos, o sistema deve permitir comparações nas variações sutis entre grupos, fornecendo insights sobre a evolução comportamental ao longo do tempo em uma escala e profundidade até então impossíveis.</mark><mark>Além disso, o sistema não é limitado a estes animais nem a estes comportamentos, e pode ser prontamente treinado para reconhecer outros paradigmas experimentais.</mark><mark>O novo método deve encontrar aplicação imediata, já que é muito comum atualmente usar câmeras escondidas para monitorar animais selvagens, e além disso há uma imensidão de arquivos disponíveis cuja análise deve fornecer informações inéditas sobre dados já coletados.</mark><mark>Além de aumentar nossa literatura científica sobre os animais, isto deve auxiliar medidas de conservação, que poderão analisar o impacto de alterações ambientais de forma praticamente imediata.</mark>"
      ],
      "text/plain": [
       "<IPython.core.display.HTML object>"
      ]
     },
     "metadata": {},
     "output_type": "display_data"
    },
    {
     "data": {
      "text/html": [
       "<h1>Resumo do texto</h1>"
      ],
      "text/plain": [
       "<IPython.core.display.HTML object>"
      ]
     },
     "metadata": {},
     "output_type": "display_data"
    },
    {
     "data": {
      "text/html": [
       "<mark>Esta trilha visa fornecer ao aluno os subsídios necessários para desenvolver redes neurais artificiais simples e redes neurais profundas para resolução de problemas reais do dia a dia, aplicados tanto no âmbito acadêmico como empresarial.</mark><mark>Todos os cursos da trilha estão disponíveis para assinantes IA Expert Academy.</mark>"
      ],
      "text/plain": [
       "<IPython.core.display.HTML object>"
      ]
     },
     "metadata": {},
     "output_type": "display_data"
    },
    {
     "data": {
      "text/html": [
       "<h1>Resumo do texto</h1>"
      ],
      "text/plain": [
       "<IPython.core.display.HTML object>"
      ]
     },
     "metadata": {},
     "output_type": "display_data"
    },
    {
     "data": {
      "text/html": [
       "<mark>Veja nesta aula noções sobre classificação binária com PyTorch.</mark><mark>A aula faz parte do curso “Deep Learning de A à Z com PyTorch e Python”.</mark><mark>O curso está disponível para assinantes IA Expert Academy.</mark>"
      ],
      "text/plain": [
       "<IPython.core.display.HTML object>"
      ]
     },
     "metadata": {},
     "output_type": "display_data"
    }
   ],
   "source": [
    "\n",
    "for url in lista_artigos:\n",
    "    g = Goose()\n",
    "    artigo = g.extract(url)\n",
    "    lista_sentencas, melhores_sentencas, _, _ = sumarilzar(artigo.cleaned_text, 8)\n",
    "    visualiza_resumo(artigo.title, lista_sentencas, melhores_sentencas)"
   ]
  },
  {
   "cell_type": "code",
   "execution_count": null,
   "metadata": {},
   "outputs": [],
   "source": []
  },
  {
   "cell_type": "markdown",
   "metadata": {},
   "source": [
    "# Exercicio de Lematização\n"
   ]
  },
  {
   "cell_type": "code",
   "execution_count": 53,
   "metadata": {},
   "outputs": [],
   "source": [
    "import spacy"
   ]
  },
  {
   "cell_type": "code",
   "execution_count": 54,
   "metadata": {},
   "outputs": [],
   "source": [
    "pln= spacy.load(\"pt_core_news_sm\")"
   ]
  },
  {
   "cell_type": "code",
   "execution_count": 55,
   "metadata": {},
   "outputs": [
    {
     "name": "stdout",
     "output_type": "stream",
     "text": [
      "inteligentes --- inteligente\n",
      "inteligente --- inteligente\n",
      "inteligência --- inteligência\n",
      "corrida --- corrido\n",
      "corrido --- correr\n",
      "correr --- correr\n",
      "correndo --- correr\n",
      "correstes --- correr\n"
     ]
    }
   ],
   "source": [
    "# Exemplo usando lematização\n",
    "documento = \"inteligentes inteligente inteligência corrida corrido correr correndo correstes\"\n",
    "doc = pln(documento)\n",
    "for token in doc:\n",
    "    print(token.text, \"---\", token.lemma_)\n"
   ]
  },
  {
   "cell_type": "code",
   "execution_count": 66,
   "metadata": {},
   "outputs": [],
   "source": [
    "def preprocesamento_lematizacao(texto):\n",
    "    stopwords = nltk.corpus.stopwords.words(\"portuguese\")\n",
    "    # deixando o texto em minusculo\n",
    "    texto = texto.lower()\n",
    "    # removendo espaços extras\n",
    "    texto = re.sub(r\"\\s+\", \" \", texto)\n",
    "    \n",
    "    doc = pln(texto)\n",
    "    tokens = []\n",
    "    for token in doc:\n",
    "        tokens.append(token.lemma_)\n",
    "    \n",
    "    # removendo as stopwords\n",
    "    tokens = [palavra for palavra in tokens if palavra not in stopwords]\n",
    "    \n",
    "    # removendo a pontuação\n",
    "    tokens = [palavra for palavra in tokens if palavra not in string.punctuation]\n",
    "    \n",
    "    # formatando a lista em string\n",
    "    texto_formatado = \" \".join([str(elemento) for elemento in tokens if not elemento.isdigit()])\n",
    "    \n",
    "    return texto_formatado"
   ]
  },
  {
   "cell_type": "code",
   "execution_count": 67,
   "metadata": {},
   "outputs": [
    {
     "data": {
      "text/plain": [
       "'inteligência artificial ser inteligência similar humano definir comer estudar agente artificial inteligência ciência engenhar produzir máquina inteligência resolver problema possuir inteligência relacionar comportamento inteligente construção máquina parir raciocinar aprender erro acerto inteligência artificial ser raciocinar situação cotidiano'"
      ]
     },
     "execution_count": 67,
     "metadata": {},
     "output_type": "execute_result"
    }
   ],
   "source": [
    "preprocesamento_lematizacao(texto_original)"
   ]
  },
  {
   "cell_type": "code",
   "execution_count": 68,
   "metadata": {},
   "outputs": [
    {
     "data": {
      "text/plain": [
       "'A inteligência artificial é a inteligência similar à humana. Definem como o estudo de agente artificial com inteligência. Ciência e engenharia de produzir máquinas com inteligência. Resolver problemas e possuir inteligência. Relacionada ao comportamento inteligente. Construção de máquinas para raciocinar. Aprender com os erros e acertos. Inteligência artificial é raciocinar nas situações do cotidiano.'"
      ]
     },
     "execution_count": 68,
     "metadata": {},
     "output_type": "execute_result"
    }
   ],
   "source": [
    "texto_original"
   ]
  },
  {
   "cell_type": "code",
   "execution_count": 57,
   "metadata": {},
   "outputs": [],
   "source": [
    "def sumarilzar_lematizado(texto, quantidade_sentenca):\n",
    "    texto_original = texto\n",
    "    texto_formatado = preprocesamento_lematizacao(texto_original)\n",
    "    \n",
    "    frequencia_palavras = nltk.FreqDist(nltk.word_tokenize(texto_formatado))\n",
    "    frequencia_maxima = max(frequencia_palavras.values())\n",
    "    \n",
    "    for palavra in frequencia_palavras.keys():\n",
    "        frequencia_palavras[palavra] = (frequencia_palavras[palavra] / frequencia_maxima)\n",
    "    lista_sentencas = nltk.sent_tokenize(texto_original)\n",
    "    \n",
    "    nota_sentencas = {}\n",
    "    for sentenca in lista_sentencas:\n",
    "        for palavra in nltk.word_tokenize(sentenca):\n",
    "            if palavra in frequencia_palavras.keys():\n",
    "                if sentenca not in nota_sentencas.keys():\n",
    "                    nota_sentencas[sentenca] = frequencia_palavras[palavra]\n",
    "                else:\n",
    "                    nota_sentencas[sentenca] += frequencia_palavras[palavra]\n",
    "    melhores_sentencas = heapq.nlargest(quantidade_sentenca, nota_sentencas, key=nota_sentencas.get)\n",
    "    \n",
    "    return lista_sentencas, melhores_sentencas, frequencia_palavras, nota_sentencas\n",
    "        "
   ]
  },
  {
   "cell_type": "code",
   "execution_count": 70,
   "metadata": {},
   "outputs": [
    {
     "data": {
      "text/html": [
       "<h1>Resumo do texto</h1>"
      ],
      "text/plain": [
       "<IPython.core.display.HTML object>"
      ]
     },
     "metadata": {},
     "output_type": "display_data"
    },
    {
     "data": {
      "text/html": [
       "A etiologia é a área da ciência que busca entender os fatores genéticos, de desenvolvimento, ecológicos e sociais que afetam o comportamento animal.<mark>Mensurar o comportamento é uma forma eficiente de analisar, por exemplo, como fatores externos como a atividade humana afetam a dinâmica individual e coletiva de animais selvagens.</mark><mark>Entretanto, quantificar o comportamento é um trabalhoso oneroso, já que os animais devem ser observados em seu hábitat com a mínima interferência possível.</mark>Na prática, isso é feito com a filmagem não intrusiva, mas então técnicos devem assistir a longas horas de para construir um perfil comportamental com valor informacional para os estudos.Neste sentido, o atual estado da inteligência artificial chamou a atenção de um grupo de pesquisadores da Universidade de Oxford, no Reino Unido.Eles avaliaram se seria possível analisar os vídeos se valendo da tecnologia, para tanto automatizar quanto acelerar o processo de sua anotação.<mark>Em um trabalho publicado este mês, eles detalham como construíram um sistema baseado em visão computacional e reconhecimento sonoro para detectar e acompanhar duas atividades comuns de chimpanzés, a quebra de nozes e a produção de sons batendo as palmas das mãos nos nós de árvores, que lembra a utilização de tambores.</mark><mark>Este é o primeiro trabalho publicado que faz o reconhecimento automático de comportamento selvagem usando tanto áudio quanto vídeo.</mark><mark>Os dois canais de informação são importantes por sua complementaridade, já que às vezes o áudio pode estar misturado com outros sons ambientes, ou o vídeo pode estar parcialmente ocluso.</mark><mark>O modelo implementado foi uma versão de rede neural convolucional capaz de analisar áudio e vídeo.</mark>O corpo dos animais é detectado e acompanhado ao longo dos frames, e integrado ao sinal sonoro após pré-processamento convolucional.Foram analisadas cerca de 40 horas de vídeos contendo mais de 2400 eventos de quebra de nozes, e quase 11 horas com cerca de 1250 sequências de tamborilamento.Na identificação das ações realizadas por chimpanzés individuais, o sistema atingiu precisão média de cerca de 77% na quebra de nozes e 86% no tamborilamento, que é considerada alta dada a dificuldade da tarefa.Os pesquisadores comentam que, no caso dos chimpanzés, que têm comportamentos complexos, o sistema deve permitir comparações nas variações sutis entre grupos, fornecendo insights sobre a evolução comportamental ao longo do tempo em uma escala e profundidade até então impossíveis.<mark>Além disso, o sistema não é limitado a estes animais nem a estes comportamentos, e pode ser prontamente treinado para reconhecer outros paradigmas experimentais.</mark><mark>O novo método deve encontrar aplicação imediata, já que é muito comum atualmente usar câmeras escondidas para monitorar animais selvagens, e além disso há uma imensidão de arquivos disponíveis cuja análise deve fornecer informações inéditas sobre dados já coletados.</mark>Além de aumentar nossa literatura científica sobre os animais, isto deve auxiliar medidas de conservação, que poderão analisar o impacto de alterações ambientais de forma praticamente imediata."
      ],
      "text/plain": [
       "<IPython.core.display.HTML object>"
      ]
     },
     "metadata": {},
     "output_type": "display_data"
    },
    {
     "data": {
      "text/html": [
       "<h1>Resumo do texto</h1>"
      ],
      "text/plain": [
       "<IPython.core.display.HTML object>"
      ]
     },
     "metadata": {},
     "output_type": "display_data"
    },
    {
     "data": {
      "text/html": [
       "<mark>Esta trilha visa fornecer ao aluno os subsídios necessários para desenvolver redes neurais artificiais simples e redes neurais profundas para resolução de problemas reais do dia a dia, aplicados tanto no âmbito acadêmico como empresarial.</mark>Todos os cursos da trilha estão disponíveis para assinantes IA Expert Academy."
      ],
      "text/plain": [
       "<IPython.core.display.HTML object>"
      ]
     },
     "metadata": {},
     "output_type": "display_data"
    },
    {
     "data": {
      "text/html": [
       "<h1>Resumo do texto</h1>"
      ],
      "text/plain": [
       "<IPython.core.display.HTML object>"
      ]
     },
     "metadata": {},
     "output_type": "display_data"
    },
    {
     "data": {
      "text/html": [
       "<mark>Veja nesta aula noções sobre classificação binária com PyTorch.</mark><mark>A aula faz parte do curso “Deep Learning de A à Z com PyTorch e Python”.</mark><mark>O curso está disponível para assinantes IA Expert Academy.</mark>"
      ],
      "text/plain": [
       "<IPython.core.display.HTML object>"
      ]
     },
     "metadata": {},
     "output_type": "display_data"
    }
   ],
   "source": [
    "\n",
    "for url in lista_artigos:\n",
    "    g = Goose()\n",
    "    artigo = g.extract(url)\n",
    "    lista_sentencas, melhores_sentencas, _, _ = sumarilzar_lematizado(artigo.cleaned_text, 8)\n",
    "    visualiza_resumo(artigo.title, lista_sentencas, melhores_sentencas)"
   ]
  },
  {
   "cell_type": "code",
   "execution_count": null,
   "metadata": {},
   "outputs": [],
   "source": []
  }
 ],
 "metadata": {
  "kernelspec": {
   "display_name": "Python 3.8.10 64-bit ('classificacao-de-dados-pln-ri4D_3JE-py3.8': poetry)",
   "language": "python",
   "name": "python3810jvsc74a57bd0d15d06e0b4f8c7339e03d8a52ec615cc5c2c11d6eff72b41b29fe9d431380b8d"
  },
  "language_info": {
   "codemirror_mode": {
    "name": "ipython",
    "version": 3
   },
   "file_extension": ".py",
   "mimetype": "text/x-python",
   "name": "python",
   "nbconvert_exporter": "python",
   "pygments_lexer": "ipython3",
   "version": "3.8.10"
  }
 },
 "nbformat": 4,
 "nbformat_minor": 4
}
