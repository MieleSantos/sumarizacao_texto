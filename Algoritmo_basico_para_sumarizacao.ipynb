{
 "cells": [
  {
   "cell_type": "markdown",
   "metadata": {},
   "source": [
    "## Sumarização de textos com Processamento de linguagem natural"
   ]
  },
  {
   "cell_type": "markdown",
   "metadata": {},
   "source": [
    "## Pré-processamento do texto"
   ]
  },
  {
   "cell_type": "code",
   "execution_count": 1,
   "metadata": {},
   "outputs": [],
   "source": [
    "import re\n",
    "import nltk\n",
    "import string"
   ]
  },
  {
   "cell_type": "markdown",
   "metadata": {},
   "source": [
    "#### Baixando os pacotes do nltk"
   ]
  },
  {
   "cell_type": "code",
   "execution_count": 24,
   "metadata": {},
   "outputs": [
    {
     "name": "stderr",
     "output_type": "stream",
     "text": [
      "[nltk_data] Downloading package punkt to /home/derpy/nltk_data...\n",
      "[nltk_data]   Package punkt is already up-to-date!\n",
      "[nltk_data] Downloading package stopwords to /home/derpy/nltk_data...\n",
      "[nltk_data]   Package stopwords is already up-to-date!\n"
     ]
    },
    {
     "data": {
      "text/plain": [
       "True"
      ]
     },
     "execution_count": 24,
     "metadata": {},
     "output_type": "execute_result"
    }
   ],
   "source": [
    "nltk.download(\"punkt\")\n",
    "nltk.download(\"stopwords\")\n"
   ]
  },
  {
   "cell_type": "code",
   "execution_count": 2,
   "metadata": {},
   "outputs": [],
   "source": [
    "texto_original = \"\"\"A inteligência artificial é a inteligência similar à humana. Definem como\n",
    "o estudo de agente artificial com inteligência. Ciência e engenharia de\n",
    "produzir máquinas com inteligência. Resolver problemas e possuir\n",
    "inteligência. Relacionada ao comportamento inteligente. Construção de\n",
    "máquinas para raciocinar. Aprender com os erros e acertos. Inteligência\n",
    "artificial é raciocinar nas situações do cotidiano.\"\"\""
   ]
  },
  {
   "cell_type": "code",
   "execution_count": 3,
   "metadata": {},
   "outputs": [
    {
     "data": {
      "text/plain": [
       "'A inteligência artificial é a inteligência similar à humana. Definem como\\no estudo de agente artificial com inteligência. Ciência e engenharia de\\nproduzir máquinas com inteligência. Resolver problemas e possuir\\ninteligência. Relacionada ao comportamento inteligente. Construção de\\nmáquinas para raciocinar. Aprender com os erros e acertos. Inteligência\\nartificial é raciocinar nas situações do cotidiano.'"
      ]
     },
     "execution_count": 3,
     "metadata": {},
     "output_type": "execute_result"
    }
   ],
   "source": [
    "texto_original"
   ]
  },
  {
   "cell_type": "code",
   "execution_count": 4,
   "metadata": {},
   "outputs": [
    {
     "data": {
      "text/plain": [
       "'A inteligência artificial é a inteligência similar à humana. Definem como o estudo de agente artificial com inteligência. Ciência e engenharia de produzir máquinas com inteligência. Resolver problemas e possuir inteligência. Relacionada ao comportamento inteligente. Construção de máquinas para raciocinar. Aprender com os erros e acertos. Inteligência artificial é raciocinar nas situações do cotidiano.'"
      ]
     },
     "execution_count": 4,
     "metadata": {},
     "output_type": "execute_result"
    }
   ],
   "source": [
    "# removendo espaços em branco\n",
    "texto_original = re.sub(r'\\s+', ' ', texto_original)\n",
    "texto_original"
   ]
  },
  {
   "cell_type": "markdown",
   "metadata": {},
   "source": [
    "#### Stopwords"
   ]
  },
  {
   "cell_type": "code",
   "execution_count": 5,
   "metadata": {
    "tags": []
   },
   "outputs": [
    {
     "name": "stdout",
     "output_type": "stream",
     "text": [
      "Qtd: 204\n",
      "\n",
      " ['de', 'a', 'o', 'que', 'e', 'é', 'do', 'da', 'em', 'um', 'para', 'com', 'não', 'uma', 'os', 'no', 'se', 'na', 'por', 'mais', 'as', 'dos', 'como', 'mas', 'ao', 'ele', 'das', 'à', 'seu', 'sua', 'ou', 'quando', 'muito', 'nos', 'já', 'eu', 'também', 'só', 'pelo', 'pela', 'até', 'isso', 'ela', 'entre', 'depois', 'sem', 'mesmo', 'aos', 'seus', 'quem', 'nas', 'me', 'esse', 'eles', 'você', 'essa', 'num', 'nem', 'suas', 'meu', 'às', 'minha', 'numa', 'pelos', 'elas', 'qual', 'nós', 'lhe', 'deles', 'essas', 'esses', 'pelas', 'este', 'dele', 'tu', 'te', 'vocês', 'vos', 'lhes', 'meus', 'minhas', 'teu', 'tua', 'teus', 'tuas', 'nosso', 'nossa', 'nossos', 'nossas', 'dela', 'delas', 'esta', 'estes', 'estas', 'aquele', 'aquela', 'aqueles', 'aquelas', 'isto', 'aquilo', 'estou', 'está', 'estamos', 'estão', 'estive', 'esteve', 'estivemos', 'estiveram', 'estava', 'estávamos', 'estavam', 'estivera', 'estivéramos', 'esteja', 'estejamos', 'estejam', 'estivesse', 'estivéssemos', 'estivessem', 'estiver', 'estivermos', 'estiverem', 'hei', 'há', 'havemos', 'hão', 'houve', 'houvemos', 'houveram', 'houvera', 'houvéramos', 'haja', 'hajamos', 'hajam', 'houvesse', 'houvéssemos', 'houvessem', 'houver', 'houvermos', 'houverem', 'houverei', 'houverá', 'houveremos', 'houverão', 'houveria', 'houveríamos', 'houveriam', 'sou', 'somos', 'são', 'era', 'éramos', 'eram', 'fui', 'foi', 'fomos', 'foram', 'fora', 'fôramos', 'seja', 'sejamos', 'sejam', 'fosse', 'fôssemos', 'fossem', 'for', 'formos', 'forem', 'serei', 'será', 'seremos', 'serão', 'seria', 'seríamos', 'seriam', 'tenho', 'tem', 'temos', 'tém', 'tinha', 'tínhamos', 'tinham', 'tive', 'teve', 'tivemos', 'tiveram', 'tivera', 'tivéramos', 'tenha', 'tenhamos', 'tenham', 'tivesse', 'tivéssemos', 'tivessem', 'tiver', 'tivermos', 'tiverem', 'terei', 'terá', 'teremos', 'terão', 'teria', 'teríamos', 'teriam']\n"
     ]
    }
   ],
   "source": [
    "stopwords = nltk.corpus.stopwords.words(\"portuguese\")\n",
    "print(\"Qtd:\",len(stopwords))\n",
    "print(\"\\n\",stopwords)"
   ]
  },
  {
   "cell_type": "markdown",
   "metadata": {},
   "source": [
    "#### Função de pre-processamento"
   ]
  },
  {
   "cell_type": "code",
   "execution_count": 6,
   "metadata": {},
   "outputs": [],
   "source": [
    "\n",
    "def preprocessamento(texto):\n",
    "    # deixando o texto em minusculo\n",
    "    texto_formatado = texto.lower()\n",
    "    tokens = []\n",
    "    \n",
    "    # tokenizando o texto\n",
    "    for token in nltk.word_tokenize(texto_formatado):\n",
    "        tokens.append(token)\n",
    "    # removendo as stopwords\n",
    "    tokens = [palavra for palavra in tokens if palavra not in stopwords]\n",
    "    \n",
    "    # removendo a pontuação\n",
    "    tokens = [palavra for palavra in tokens if palavra not in string.punctuation]\n",
    "    \n",
    "    # formatando a lista em string\n",
    "    texto_formatado = \" \".join([str(elemento) for elemento in tokens])\n",
    "    \n",
    "    return texto_formatado"
   ]
  },
  {
   "cell_type": "code",
   "execution_count": 7,
   "metadata": {},
   "outputs": [
    {
     "data": {
      "text/plain": [
       "'inteligência artificial inteligência similar humana definem estudo agente artificial inteligência ciência engenharia produzir máquinas inteligência resolver problemas possuir inteligência relacionada comportamento inteligente construção máquinas raciocinar aprender erros acertos inteligência artificial raciocinar situações cotidiano'"
      ]
     },
     "execution_count": 7,
     "metadata": {},
     "output_type": "execute_result"
    }
   ],
   "source": [
    "texto_formatado = preprocessamento(texto_original)\n",
    "texto_formatado"
   ]
  },
  {
   "cell_type": "markdown",
   "metadata": {},
   "source": [
    "\n",
    "#### Frequência das palavras"
   ]
  },
  {
   "cell_type": "code",
   "execution_count": 11,
   "metadata": {},
   "outputs": [
    {
     "name": "stdout",
     "output_type": "stream",
     "text": [
      "{'acertos': 1,\n",
      " 'agente': 1,\n",
      " 'aprender': 1,\n",
      " 'artificial': 3,\n",
      " 'ciência': 1,\n",
      " 'comportamento': 1,\n",
      " 'construção': 1,\n",
      " 'cotidiano': 1,\n",
      " 'definem': 1,\n",
      " 'engenharia': 1,\n",
      " 'erros': 1,\n",
      " 'estudo': 1,\n",
      " 'humana': 1,\n",
      " 'inteligente': 1,\n",
      " 'inteligência': 6,\n",
      " 'máquinas': 2,\n",
      " 'possuir': 1,\n",
      " 'problemas': 1,\n",
      " 'produzir': 1,\n",
      " 'raciocinar': 2,\n",
      " 'relacionada': 1,\n",
      " 'resolver': 1,\n",
      " 'similar': 1,\n",
      " 'situações': 1}\n"
     ]
    }
   ],
   "source": [
    "from pprint import pprint\n",
    "frequencia_palavras = nltk.FreqDist(nltk.word_tokenize(texto_formatado))\n",
    "pprint(frequencia_palavras)"
   ]
  },
  {
   "cell_type": "markdown",
   "metadata": {},
   "source": [
    "#### Frequência proporcional"
   ]
  },
  {
   "cell_type": "code",
   "execution_count": 14,
   "metadata": {},
   "outputs": [
    {
     "data": {
      "text/plain": [
       "6"
      ]
     },
     "execution_count": 14,
     "metadata": {},
     "output_type": "execute_result"
    }
   ],
   "source": [
    "frequencia_maxima = max(frequencia_palavras.values())\n",
    "frequencia_maxima"
   ]
  },
  {
   "cell_type": "code",
   "execution_count": 16,
   "metadata": {},
   "outputs": [],
   "source": [
    "for palavra in frequencia_palavras.keys():\n",
    "    frequencia_palavras[palavra] = (frequencia_palavras[palavra]) / frequencia_maxima"
   ]
  },
  {
   "cell_type": "code",
   "execution_count": 19,
   "metadata": {},
   "outputs": [
    {
     "name": "stdout",
     "output_type": "stream",
     "text": [
      "{'acertos': 0.16666666666666666,\n",
      " 'agente': 0.16666666666666666,\n",
      " 'aprender': 0.16666666666666666,\n",
      " 'artificial': 0.5,\n",
      " 'ciência': 0.16666666666666666,\n",
      " 'comportamento': 0.16666666666666666,\n",
      " 'construção': 0.16666666666666666,\n",
      " 'cotidiano': 0.16666666666666666,\n",
      " 'definem': 0.16666666666666666,\n",
      " 'engenharia': 0.16666666666666666,\n",
      " 'erros': 0.16666666666666666,\n",
      " 'estudo': 0.16666666666666666,\n",
      " 'humana': 0.16666666666666666,\n",
      " 'inteligente': 0.16666666666666666,\n",
      " 'inteligência': 1.0,\n",
      " 'máquinas': 0.3333333333333333,\n",
      " 'possuir': 0.16666666666666666,\n",
      " 'problemas': 0.16666666666666666,\n",
      " 'produzir': 0.16666666666666666,\n",
      " 'raciocinar': 0.3333333333333333,\n",
      " 'relacionada': 0.16666666666666666,\n",
      " 'resolver': 0.16666666666666666,\n",
      " 'similar': 0.16666666666666666,\n",
      " 'situações': 0.16666666666666666}\n"
     ]
    }
   ],
   "source": [
    "pprint(frequencia_palavras)"
   ]
  },
  {
   "cell_type": "markdown",
   "metadata": {},
   "source": [
    "#### Tokenização das Sentenças"
   ]
  },
  {
   "cell_type": "code",
   "execution_count": 22,
   "metadata": {},
   "outputs": [
    {
     "data": {
      "text/plain": [
       "['o dr', ' joão foi para casa', ' Ele chegou cedo']"
      ]
     },
     "execution_count": 22,
     "metadata": {},
     "output_type": "execute_result"
    }
   ],
   "source": [
    "# Exemplo, abordagem errada\n",
    "frase = \"o dr. joão foi para casa. Ele chegou cedo\".split(\".\")\n",
    "frase"
   ]
  },
  {
   "cell_type": "code",
   "execution_count": 24,
   "metadata": {},
   "outputs": [
    {
     "data": {
      "text/plain": [
       "['o', 'dr.', 'joão', 'foi', 'para', 'casa', '.', 'Ele', 'chegou', 'cedo']"
      ]
     },
     "execution_count": 24,
     "metadata": {},
     "output_type": "execute_result"
    }
   ],
   "source": [
    "nltk.word_tokenize(\"o dr. joão foi para casa. Ele chegou cedo\")"
   ]
  },
  {
   "cell_type": "code",
   "execution_count": 25,
   "metadata": {},
   "outputs": [
    {
     "data": {
      "text/plain": [
       "['o dr. joão foi para casa.', 'Ele chegou cedo']"
      ]
     },
     "execution_count": 25,
     "metadata": {},
     "output_type": "execute_result"
    }
   ],
   "source": [
    "nltk.sent_tokenize(\"o dr. joão foi para casa. Ele chegou cedo\")"
   ]
  },
  {
   "cell_type": "code",
   "execution_count": 38,
   "metadata": {},
   "outputs": [
    {
     "data": {
      "text/plain": [
       "'Processo Nº ROT-0024063-97.2018.5.24.0056, Relator FRANCISCO DAS CHAGAS LIMA FILHO RECORRENTE TAQUIONS TURISMO LTDA ADVOGADO Claudemir Liuti júnior(OAB: 10636/MS) RECORRIDO MACIEL ALVES PEREIRA ADVOGADO ROBINSON CASTILHO VIEIRA(OAB: 19713/MS) Intimado(s)/Citado(s): - MACIEL ALVES PEREIRA PODER JUDICIÁRIO JUSTIÇA DO TRABALHO Recurso de Revista Recorrente(s): MACIEL ALVES PEREIRA Advogado(a)(s): ROBINSON CASTILHO VIEIRA Recorrido(a)(s): TAQUIONS TURISMO LTDA Advogado(a)(s): CLAUDEMIR LIUTI JÚNIOR Registre-se, inicialmente, que os pressupostos de admissibilidade serão analisados de acordo com os novos parâmetros estabelecidos pela Lei n$1.015/2014, regulamentada pelo Tribunal Superior do Trabalho por meio do Ato n$1/14, e pela Lei n$1.467/2017 (publicada no DOU de 14.7.2017, com vigência a partir de 11.11.2017, nos termos do artigo 6º, da referida Lei). Registre-se, ainda, que o presente recurso foi interposto em face de decisão proferida a partir da entrada em vigor da Lei n$1.467/2017, com vigência a partir de 11.11.2017, conforme solicitado pelo Colendo Tribunal Superior do Trabalho, por meio do OFÍCIO-CIRCULAR SEGJUD.GP N$1, de 16 de fevereiro de 2018. PRESSUPOSTOS EXTRÍNSECOS Tempestivo o recurso (acórdão publicado em 30/07/2019 - f$1 - Lei 11.419/2006, art$1º, § 3º); interposto em 08/08/2019 - f$1, por meio do Sistema PJe. Regular a representação, f$1. Dispensado o preparo. Beneficiário(a) da Justiça Gratuita, conforme f$1. PRESSUPOSTOS INTRÍNSECOS Código para aferir autenticidade deste caderno: 145553 2889/2020 Tribunal Regional do Trabalho da 24ª Região 2 Data da Disponibilização: Quinta-feira, 09 de Janeiro de 2020 Duração do Trabalho / Turno Ininterrupto de Revezamento Responsabilidade Civil do Empregador/Empregado / Indenização por Dano Moral Alegação(ões): - violação aos artigos 5º, XXXVI, e 7º, XIV, da CF; - violação do artigo 482, \"e\", da CLT; - divergência jurisprudencial. Nestes tópicos, as insurgências encontram-se desfundamentadas, porquanto o recorrente não se reporta aos pressupostos específicos do recurso de revista, nos termos do art$1 da CLT. Dispõe o artigo 896, §1º-A, da CLT, com redação dada pela Lei n$1.015/2014: \"Sob pena de não conhecimento, é ônus da parte: I - indicar o trecho da decisão recorrida que consubstancia o prequestionamento da controvérsia objeto do recurso de revista. (...) III - expor as razões do pedido de reforma, impugnando todos os fundamentos jurídicos da decisão recorrida, inclusive mediante demonstração analítica de cada dispositivo de lei, da Constituição Federal, de súmula ou orientação jurisprudencial cuja contrariedade aponte.\" No caso, a parte recorrente, quanto aos capítulos impugnados do acórdão, não transcreveu, \"in litteris\", os trechos da decisão recorrida que consubstanciam o prequestionamento da controvérsia, objeto do recurso de revista, ou indicou, topograficamente, a localização das partes da decisão que se pretende modificar, o que impede a exata verificação das questões controvertidas. Ressalte-se que a transcrição de trechos do acórdão trazida no início das razões recursais não supre a necessidade de transcrevê- lo, novamente, no respectivo capítulo recursal com o cotejo analítico entre o decidido pela Turma e a argumentação trazida pela parte recorrente. Nesse sentido é a jurisprudência iterativa, notória e atual do Colendo TST: AIRR 24241-76.2016.5.24.0004, Ac$1ª T., Rel. Min. Alberto Luiz Bresciani de Fontan Pereira, in DEJT 07.12.2018; AIRR 24027-41.2017.5.24.0072, Ac$1ª T., Rel. Min. Alexandre de Souza Agra Belmonte, in DEJT 15.03.2019; RR 24437-23.2014.5.24.0002, Ac$1ª T., Rel. Min. Augusto César Leite de Carvalho, in DEJT 29.03.2019; Ag-AIRR 161600-38.2013.5.17.0014, Ac$1ª T., Rel. Min. Cláudio Mascarenhas Brandão, in DEJT 03.05.2019. Não preenchido, portanto, pressuposto específico do recurso de revista. CONCLUSÃO DENEGO seguimento ao recurso de revista. Inclua-se o indicador \"Lei 13.015/2014\", conforme ofício circular SEGJUD/TST n$1/2014. Inclua-se o indicador \"Lei 13.467/2017\", conforme solicitado pelo C. TST, por meio do OFÍCIO-CIRCULAR SEGJUD.GP N$1, de 16 de fevereiro de 2018. Publique-se e intime-se. CAMPO GRANDE, 28 de Novembro de 2019 NICANOR DE ARAUJO LIMA Desembargador Federal do Trabalho Código para aferir autenticidade deste caderno: 145553 2889/2020 Tribunal Regional do Trabalho da 24ª Região 3 Data da Disponibilização: Quinta-feira, 09 de Janeiro de 2020 1ª Vara do Trabalho de Campo Grande Edital Edital'"
      ]
     },
     "execution_count": 38,
     "metadata": {},
     "output_type": "execute_result"
    }
   ],
   "source": [
    "# outro exemplo\n",
    "texto =  \"Processo Nº ROT-0024063-97.2018.5.24.0056,\\nRelator FRANCISCO DAS CHAGAS LIMA\\nFILHO\\nRECORRENTE TAQUIONS TURISMO LTDA\\nADVOGADO Claudemir Liuti júnior(OAB: 10636/MS)\\nRECORRIDO MACIEL ALVES PEREIRA\\nADVOGADO ROBINSON CASTILHO VIEIRA(OAB:\\n19713/MS)\\nIntimado(s)/Citado(s):\\n- MACIEL ALVES PEREIRA\\nPODER JUDICIÁRIO\\nJUSTIÇA DO TRABALHO\\nRecurso de Revista\\nRecorrente(s): MACIEL ALVES PEREIRA\\nAdvogado(a)(s): ROBINSON CASTILHO VIEIRA\\nRecorrido(a)(s): TAQUIONS TURISMO LTDA\\nAdvogado(a)(s): CLAUDEMIR LIUTI JÚNIOR\\nRegistre-se, inicialmente, que os pressupostos de admissibilidade\\nserão analisados de acordo com os novos parâmetros\\nestabelecidos pela Lei n. 13.015/2014, regulamentada pelo Tribunal\\nSuperior do Trabalho por meio do Ato n. 491/14, e pela Lei n.\\n13.467/2017 (publicada no DOU de 14.7.2017, com vigência a partir\\nde 11.11.2017, nos termos do artigo 6º, da referida Lei).\\nRegistre-se, ainda, que o presente recurso foi interposto em face de\\ndecisão proferida a partir da entrada em vigor da Lei n.\\n13.467/2017, com vigência a partir de 11.11.2017, conforme\\nsolicitado pelo Colendo Tribunal Superior do Trabalho, por meio do\\nOFÍCIO-CIRCULAR SEGJUD.GP N. 003, de 16 de fevereiro de\\n2018.\\nPRESSUPOSTOS EXTRÍNSECOS\\nTempestivo o recurso (acórdão publicado em 30/07/2019 - f. 540 -\\nLei 11.419/2006, art. 4º, § 3º); interposto em 08/08/2019 - f. 524, por\\nmeio do Sistema PJe.\\nRegular a representação, f. 20.\\nDispensado o preparo. Beneficiário(a) da Justiça Gratuita, conforme\\nf. 501.\\nPRESSUPOSTOS INTRÍNSECOS\\nCódigo para aferir autenticidade deste caderno: 145553\\n2889/2020 Tribunal Regional do Trabalho da 24ª Região 2\\nData da Disponibilização: Quinta-feira, 09 de Janeiro de 2020\\nDuração do Trabalho / Turno Ininterrupto de Revezamento\\nResponsabilidade Civil do Empregador/Empregado /\\nIndenização por Dano Moral\\nAlegação(ões):\\n- violação aos artigos 5º, XXXVI, e 7º, XIV, da CF;\\n- violação do artigo 482, \\\"e\\\", da CLT;\\n- divergência jurisprudencial.\\nNestes tópicos, as insurgências encontram-se desfundamentadas,\\nporquanto o recorrente não se reporta aos pressupostos específicos\\ndo recurso de revista, nos termos do art. 896 da CLT.\\nDispõe o artigo 896, §1º-A, da CLT, com redação dada pela Lei n.\\n13.015/2014:\\n\\\"Sob pena de não conhecimento, é ônus da parte:\\nI - indicar o trecho da decisão recorrida que consubstancia o\\nprequestionamento da controvérsia objeto do recurso de revista.\\n(...)\\nIII - expor as razões do pedido de reforma, impugnando todos os\\nfundamentos jurídicos da decisão recorrida, inclusive mediante\\ndemonstração analítica de cada dispositivo de lei, da Constituição\\nFederal, de súmula ou orientação jurisprudencial cuja contrariedade\\naponte.\\\"\\nNo caso, a parte recorrente, quanto aos capítulos impugnados do\\nacórdão, não transcreveu, \\\"in litteris\\\", os trechos da decisão\\nrecorrida que consubstanciam o prequestionamento da\\ncontrovérsia, objeto do recurso de revista, ou indicou,\\ntopograficamente, a localização das partes da decisão que se\\npretende modificar, o que impede a exata verificação das questões\\ncontrovertidas.\\nRessalte-se que a transcrição de trechos do acórdão trazida no\\ninício das razões recursais não supre a necessidade de transcrevê-\\nlo, novamente, no respectivo capítulo recursal com o cotejo analítico\\nentre o decidido pela Turma e a argumentação trazida pela parte\\nrecorrente.\\nNesse sentido é a jurisprudência iterativa, notória e atual do\\nColendo TST: AIRR 24241-76.2016.5.24.0004, Ac. 3ª T., Rel. Min.\\nAlberto Luiz Bresciani de Fontan Pereira, in DEJT 07.12.2018; AIRR\\n24027-41.2017.5.24.0072, Ac. 3ª T., Rel. Min. Alexandre de Souza\\nAgra Belmonte, in DEJT 15.03.2019; RR 24437-23.2014.5.24.0002,\\nAc. 6ª T., Rel. Min. Augusto César Leite de Carvalho, in DEJT\\n29.03.2019; Ag-AIRR 161600-38.2013.5.17.0014, Ac. 7ª T., Rel.\\nMin. Cláudio Mascarenhas Brandão, in DEJT 03.05.2019.\\nNão preenchido, portanto, pressuposto específico do recurso de\\nrevista.\\nCONCLUSÃO\\nDENEGO seguimento ao recurso de revista.\\nInclua-se o indicador \\\"Lei 13.015/2014\\\", conforme ofício\\ncircular SEGJUD/TST n. 051/2014.\\nInclua-se o indicador \\\"Lei 13.467/2017\\\", conforme solicitado\\npelo C. TST, por meio do OFÍCIO-CIRCULAR SEGJUD.GP N.\\n003, de 16 de fevereiro de 2018.\\nPublique-se e intime-se.\\nCAMPO GRANDE, 28 de Novembro de 2019\\nNICANOR DE ARAUJO LIMA\\nDesembargador Federal do Trabalho\\nCódigo para aferir autenticidade deste caderno: 145553\\n2889/2020 Tribunal Regional do Trabalho da 24ª Região 3\\nData da Disponibilização: Quinta-feira, 09 de Janeiro de 2020\\n1ª Vara do Trabalho de Campo Grande\\nEdital\\nEdital\"\n",
    "texto = texto.replace(\"\\n\", \" \")\n",
    "texto = re.sub(r\"\\.(\\s)\\d+\", \"$1\", texto)\n",
    "texto"
   ]
  },
  {
   "cell_type": "code",
   "execution_count": 40,
   "metadata": {
    "tags": []
   },
   "outputs": [
    {
     "data": {
      "text/plain": [
       "['Processo Nº ROT-0024063-97.2018.5.24.0056, Relator FRANCISCO DAS CHAGAS LIMA FILHO RECORRENTE TAQUIONS TURISMO LTDA ADVOGADO Claudemir Liuti júnior(OAB: 10636/MS) RECORRIDO MACIEL ALVES PEREIRA ADVOGADO ROBINSON CASTILHO VIEIRA(OAB: 19713/MS) Intimado(s)/Citado(s): - MACIEL ALVES PEREIRA PODER JUDICIÁRIO JUSTIÇA DO TRABALHO Recurso de Revista Recorrente(s): MACIEL ALVES PEREIRA Advogado(a)(s): ROBINSON CASTILHO VIEIRA Recorrido(a)(s): TAQUIONS TURISMO LTDA Advogado(a)(s): CLAUDEMIR LIUTI JÚNIOR Registre-se, inicialmente, que os pressupostos de admissibilidade serão analisados de acordo com os novos parâmetros estabelecidos pela Lei n$1.015/2014, regulamentada pelo Tribunal Superior do Trabalho por meio do Ato n$1/14, e pela Lei n$1.467/2017 (publicada no DOU de 14.7.2017, com vigência a partir de 11.11.2017, nos termos do artigo 6º, da referida Lei).',\n",
       " 'Registre-se, ainda, que o presente recurso foi interposto em face de decisão proferida a partir da entrada em vigor da Lei n$1.467/2017, com vigência a partir de 11.11.2017, conforme solicitado pelo Colendo Tribunal Superior do Trabalho, por meio do OFÍCIO-CIRCULAR SEGJUD.GP N$1, de 16 de fevereiro de 2018.',\n",
       " 'PRESSUPOSTOS EXTRÍNSECOS Tempestivo o recurso (acórdão publicado em 30/07/2019 - f$1 - Lei 11.419/2006, art$1º, § 3º); interposto em 08/08/2019 - f$1, por meio do Sistema PJe.',\n",
       " 'Regular a representação, f$1.',\n",
       " 'Dispensado o preparo.',\n",
       " 'Beneficiário(a) da Justiça Gratuita, conforme f$1.',\n",
       " 'PRESSUPOSTOS INTRÍNSECOS Código para aferir autenticidade deste caderno: 145553 2889/2020 Tribunal Regional do Trabalho da 24ª Região 2 Data da Disponibilização: Quinta-feira, 09 de Janeiro de 2020 Duração do Trabalho / Turno Ininterrupto de Revezamento Responsabilidade Civil do Empregador/Empregado / Indenização por Dano Moral Alegação(ões): - violação aos artigos 5º, XXXVI, e 7º, XIV, da CF; - violação do artigo 482, \"e\", da CLT; - divergência jurisprudencial.',\n",
       " 'Nestes tópicos, as insurgências encontram-se desfundamentadas, porquanto o recorrente não se reporta aos pressupostos específicos do recurso de revista, nos termos do art$1 da CLT.',\n",
       " 'Dispõe o artigo 896, §1º-A, da CLT, com redação dada pela Lei n$1.015/2014: \"Sob pena de não conhecimento, é ônus da parte: I - indicar o trecho da decisão recorrida que consubstancia o prequestionamento da controvérsia objeto do recurso de revista.',\n",
       " '(...) III - expor as razões do pedido de reforma, impugnando todos os fundamentos jurídicos da decisão recorrida, inclusive mediante demonstração analítica de cada dispositivo de lei, da Constituição Federal, de súmula ou orientação jurisprudencial cuja contrariedade aponte.\"',\n",
       " 'No caso, a parte recorrente, quanto aos capítulos impugnados do acórdão, não transcreveu, \"in litteris\", os trechos da decisão recorrida que consubstanciam o prequestionamento da controvérsia, objeto do recurso de revista, ou indicou, topograficamente, a localização das partes da decisão que se pretende modificar, o que impede a exata verificação das questões controvertidas.',\n",
       " 'Ressalte-se que a transcrição de trechos do acórdão trazida no início das razões recursais não supre a necessidade de transcrevê- lo, novamente, no respectivo capítulo recursal com o cotejo analítico entre o decidido pela Turma e a argumentação trazida pela parte recorrente.',\n",
       " 'Nesse sentido é a jurisprudência iterativa, notória e atual do Colendo TST: AIRR 24241-76.2016.5.24.0004, Ac$1ª T., Rel.',\n",
       " 'Min.',\n",
       " 'Alberto Luiz Bresciani de Fontan Pereira, in DEJT 07.12.2018; AIRR 24027-41.2017.5.24.0072, Ac$1ª T., Rel.',\n",
       " 'Min.',\n",
       " 'Alexandre de Souza Agra Belmonte, in DEJT 15.03.2019; RR 24437-23.2014.5.24.0002, Ac$1ª T., Rel.',\n",
       " 'Min.',\n",
       " 'Augusto César Leite de Carvalho, in DEJT 29.03.2019; Ag-AIRR 161600-38.2013.5.17.0014, Ac$1ª T., Rel.',\n",
       " 'Min.',\n",
       " 'Cláudio Mascarenhas Brandão, in DEJT 03.05.2019.',\n",
       " 'Não preenchido, portanto, pressuposto específico do recurso de revista.',\n",
       " 'CONCLUSÃO DENEGO seguimento ao recurso de revista.',\n",
       " 'Inclua-se o indicador \"Lei 13.015/2014\", conforme ofício circular SEGJUD/TST n$1/2014.',\n",
       " 'Inclua-se o indicador \"Lei 13.467/2017\", conforme solicitado pelo C. TST, por meio do OFÍCIO-CIRCULAR SEGJUD.GP N$1, de 16 de fevereiro de 2018.',\n",
       " 'Publique-se e intime-se.',\n",
       " 'CAMPO GRANDE, 28 de Novembro de 2019 NICANOR DE ARAUJO LIMA Desembargador Federal do Trabalho Código para aferir autenticidade deste caderno: 145553 2889/2020 Tribunal Regional do Trabalho da 24ª Região 3 Data da Disponibilização: Quinta-feira, 09 de Janeiro de 2020 1ª Vara do Trabalho de Campo Grande Edital Edital']"
      ]
     },
     "execution_count": 40,
     "metadata": {},
     "output_type": "execute_result"
    }
   ],
   "source": [
    "nltk.sent_tokenize(texto)"
   ]
  },
  {
   "cell_type": "code",
   "execution_count": 41,
   "metadata": {},
   "outputs": [
    {
     "data": {
      "text/plain": [
       "['A inteligência artificial é a inteligência similar à humana.',\n",
       " 'Definem como o estudo de agente artificial com inteligência.',\n",
       " 'Ciência e engenharia de produzir máquinas com inteligência.',\n",
       " 'Resolver problemas e possuir inteligência.',\n",
       " 'Relacionada ao comportamento inteligente.',\n",
       " 'Construção de máquinas para raciocinar.',\n",
       " 'Aprender com os erros e acertos.',\n",
       " 'Inteligência artificial é raciocinar nas situações do cotidiano.']"
      ]
     },
     "execution_count": 41,
     "metadata": {},
     "output_type": "execute_result"
    }
   ],
   "source": [
    "lista_sentenca = nltk.sent_tokenize(texto_original)\n",
    "lista_sentenca"
   ]
  },
  {
   "cell_type": "markdown",
   "metadata": {},
   "source": [
    "#### Geração do resumo(nota para as sentenças)"
   ]
  },
  {
   "cell_type": "code",
   "execution_count": 43,
   "metadata": {},
   "outputs": [
    {
     "data": {
      "text/plain": [
       "FreqDist({'inteligência': 1.0, 'artificial': 0.5, 'máquinas': 0.3333333333333333, 'raciocinar': 0.3333333333333333, 'similar': 0.16666666666666666, 'humana': 0.16666666666666666, 'definem': 0.16666666666666666, 'estudo': 0.16666666666666666, 'agente': 0.16666666666666666, 'ciência': 0.16666666666666666, ...})"
      ]
     },
     "execution_count": 43,
     "metadata": {},
     "output_type": "execute_result"
    }
   ],
   "source": [
    "frequencia_palavras"
   ]
  },
  {
   "cell_type": "code",
   "execution_count": 46,
   "metadata": {},
   "outputs": [
    {
     "data": {
      "text/plain": [
       "{'A inteligência artificial é a inteligência similar à humana.': 2.833333333333333,\n",
       " 'Definem como o estudo de agente artificial com inteligência.': 1.8333333333333333,\n",
       " 'Ciência e engenharia de produzir máquinas com inteligência.': 1.6666666666666665,\n",
       " 'Resolver problemas e possuir inteligência.': 1.3333333333333333,\n",
       " 'Relacionada ao comportamento inteligente.': 0.3333333333333333,\n",
       " 'Construção de máquinas para raciocinar.': 0.6666666666666666,\n",
       " 'Aprender com os erros e acertos.': 0.3333333333333333,\n",
       " 'Inteligência artificial é raciocinar nas situações do cotidiano.': 1.1666666666666665}"
      ]
     },
     "execution_count": 46,
     "metadata": {},
     "output_type": "execute_result"
    }
   ],
   "source": [
    "nota_sentencas = {}\n",
    "\n",
    "for sentenca in lista_sentenca:\n",
    "    for palavra in nltk.word_tokenize(sentenca):\n",
    "        if palavra in frequencia_palavras.keys():\n",
    "            if sentenca not in nota_sentencas.keys():\n",
    "                nota_sentencas[sentenca] = frequencia_palavras[palavra]\n",
    "            else:\n",
    "                nota_sentencas[sentenca] += frequencia_palavras[palavra]\n",
    "nota_sentencas"
   ]
  },
  {
   "cell_type": "markdown",
   "metadata": {},
   "source": [
    "#### As melhores sentenças"
   ]
  },
  {
   "cell_type": "code",
   "execution_count": 49,
   "metadata": {},
   "outputs": [
    {
     "data": {
      "text/plain": [
       "['A inteligência artificial é a inteligência similar à humana.',\n",
       " 'Definem como o estudo de agente artificial com inteligência.',\n",
       " 'Ciência e engenharia de produzir máquinas com inteligência.']"
      ]
     },
     "execution_count": 49,
     "metadata": {},
     "output_type": "execute_result"
    }
   ],
   "source": [
    "import heapq\n",
    "melhores_sentencas = heapq.nlargest(3,nota_sentencas, key=nota_sentencas.get)\n",
    "melhores_sentencas"
   ]
  },
  {
   "cell_type": "code",
   "execution_count": 50,
   "metadata": {},
   "outputs": [
    {
     "data": {
      "text/plain": [
       "'A inteligência artificial é a inteligência similar à humana. Definem como o estudo de agente artificial com inteligência. Ciência e engenharia de produzir máquinas com inteligência.'"
      ]
     },
     "execution_count": 50,
     "metadata": {},
     "output_type": "execute_result"
    }
   ],
   "source": [
    "resumo = \" \".join(melhores_sentencas)\n",
    "resumo"
   ]
  }
 ],
 "metadata": {
  "kernelspec": {
   "display_name": "classificacao-de-dados-pln-ri4D_3JE-py3.8",
   "language": "python",
   "name": "classificacao-de-dados-pln-ri4d_3je-py3.8"
  },
  "language_info": {
   "codemirror_mode": {
    "name": "ipython",
    "version": 3
   },
   "file_extension": ".py",
   "mimetype": "text/x-python",
   "name": "python",
   "nbconvert_exporter": "python",
   "pygments_lexer": "ipython3",
   "version": "3.8.10"
  }
 },
 "nbformat": 4,
 "nbformat_minor": 4
}
