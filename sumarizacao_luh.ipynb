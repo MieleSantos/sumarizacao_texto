{
 "cells": [
  {
   "cell_type": "markdown",
   "metadata": {},
   "source": [
    "# Sumarização com algoritimo LUHN"
   ]
  },
  {
   "cell_type": "markdown",
   "metadata": {},
   "source": [
    "O algoritmo de LUHN\n",
    "- Seleciona palavras de amiro importancia baseado na frequencia\n",
    "- Pesos maiores são associados á palavras no inicio do documento\n",
    "- Para calcular a nota de uma sentença: 4 elevado 2/6=2,7"
   ]
  },
  {
   "cell_type": "code",
   "execution_count": 1,
   "metadata": {},
   "outputs": [],
   "source": [
    "import re\n",
    "import nltk\n",
    "import string\n",
    "import heapq"
   ]
  },
  {
   "cell_type": "code",
   "execution_count": 2,
   "metadata": {},
   "outputs": [
    {
     "name": "stderr",
     "output_type": "stream",
     "text": [
      "[nltk_data] Downloading package punkt to /home/derpy/nltk_data...\n",
      "[nltk_data]   Package punkt is already up-to-date!\n",
      "[nltk_data] Downloading package stopwords to /home/derpy/nltk_data...\n",
      "[nltk_data]   Package stopwords is already up-to-date!\n"
     ]
    },
    {
     "data": {
      "text/plain": [
       "True"
      ]
     },
     "execution_count": 2,
     "metadata": {},
     "output_type": "execute_result"
    }
   ],
   "source": [
    "nltk.download(\"punkt\")\n",
    "nltk.download(\"stopwords\")\n"
   ]
  },
  {
   "cell_type": "code",
   "execution_count": 3,
   "metadata": {},
   "outputs": [],
   "source": [
    "\n",
    "def preprocessamento(texto):\n",
    "    stopwords = nltk.corpus.stopwords.words(\"portuguese\")\n",
    "    # deixando o texto em minusculo\n",
    "    texto_formatado = texto.lower()\n",
    "    tokens = []\n",
    "    \n",
    "    # tokenizando o texto\n",
    "    for token in nltk.word_tokenize(texto_formatado):\n",
    "        tokens.append(token)\n",
    "    # removendo as stopwords\n",
    "    tokens = [palavra for palavra in tokens if palavra not in stopwords]\n",
    "    \n",
    "    # removendo a pontuação\n",
    "    tokens = [palavra for palavra in tokens if palavra not in string.punctuation]\n",
    "    \n",
    "    # formatando a lista em string\n",
    "    texto_formatado = \" \".join([str(elemento) for elemento in tokens if not elemento.isdigit()])\n",
    "    \n",
    "    return texto_formatado"
   ]
  },
  {
   "cell_type": "markdown",
   "metadata": {},
   "source": [
    "#### Função para calcular a nota das sentenças"
   ]
  },
  {
   "cell_type": "code",
   "execution_count": 4,
   "metadata": {},
   "outputs": [],
   "source": [
    "def calcular_nota_sentenca(sentencas,palavras_importantes, distancia):\n",
    "    notas = []\n",
    "    indice_sentenca = 0\n",
    "    \n",
    "    for sentenca in [nltk.word_tokenize(sentenca.lower()) for sentenca in sentencas]:\n",
    "        # print(\"-------\")\n",
    "        # print(sentenca)\n",
    "        indice_palavra = []\n",
    "        for palavras in palavras_importantes:\n",
    "            try:\n",
    "                indice_palavra. append(sentenca.index(palavras))\n",
    "            except ValueError:\n",
    "                pass\n",
    "        indice_palavra.sort()\n",
    "        # print(indice_palavra)\n",
    "        if len(indice_palavra) == 0:\n",
    "            continue\n",
    "        lista_grupos = []\n",
    "        grupo = [indice_palavra[0]]\n",
    "        i = 1\n",
    "        while i< len(indice_palavra):\n",
    "            if indice_palavra[i] - indice_palavra[i - 1] < distancia:\n",
    "                grupo.append(indice_palavra[i])\n",
    "                # print(\"grupo: \", grupo)\n",
    "            else:\n",
    "                lista_grupos.append(grupo[:])\n",
    "                grupo = [indice_palavra[i]]\n",
    "                # print(\"grupo: \", grupo)\n",
    "            i += 1\n",
    "            lista_grupos.append(grupo)\n",
    "            # print(\"todos os grupos: \", lista_grupos)\n",
    "            nota_maxima_grupo = 0\n",
    "            \n",
    "            for g in lista_grupos:\n",
    "                # print(g)\n",
    "                palavras_importantes_grupo = len(g)\n",
    "                total_palavras_grupo = g[-1] - g[0] + 1\n",
    "                # print(\"palavras_importantes: \" , palavras_importantes_grupo)\n",
    "                # print(\"total_palavras: \", total_palavras_grupo)\n",
    "                nota = 1.0 * palavras_importantes_grupo**2 / total_palavras_grupo\n",
    "                # print(\"Nota grupo: \", nota)\n",
    "                \n",
    "                if nota > nota_maxima_grupo:\n",
    "                    nota_maxima_grupo = nota\n",
    "            notas.append((nota_maxima_grupo, indice_sentenca))\n",
    "            indice_sentenca+= 1\n",
    "    #print(\"notas finais: \", notas)\n",
    "    return notas"
   ]
  },
  {
   "cell_type": "code",
   "execution_count": null,
   "metadata": {},
   "outputs": [],
   "source": []
  },
  {
   "cell_type": "markdown",
   "metadata": {},
   "source": [
    "#### Função pra sumarizar os textos"
   ]
  },
  {
   "cell_type": "code",
   "execution_count": 5,
   "metadata": {},
   "outputs": [],
   "source": [
    "def sumarizar(texto, top_n_palavra, distancia,quantidade_sentencas):\n",
    "    sentencas_originais = [sentenca for sentenca in nltk.sent_tokenize(texto)]\n",
    "    sentencas_formatadas = [preprocessamento(sentenca) for sentenca in sentencas_originais]\n",
    "  \n",
    "    palavra = [palavra for sentenca in sentencas_formatadas for palavra in nltk.word_tokenize(sentenca)]\n",
    "    frequencia = nltk.FreqDist(palavra)\n",
    " \n",
    "    top_palavras = [palavra[0] for palavra in frequencia.most_common(top_n_palavra)]\n",
    "    notas_sentencas = calcular_nota_sentenca(sentencas_formatadas, top_palavras, distancia)\n",
    "    \n",
    "    melhores_sentencas = heapq.nlargest(quantidade_sentencas,notas_sentencas)\n",
    "    melhores_sentencas = [sentencas_originais[i] for (nota, i) in melhores_sentencas]\n",
    "    return sentencas_originais, melhores_sentencas, notas_sentencas, # top_palavras"
   ]
  },
  {
   "cell_type": "code",
   "execution_count": 6,
   "metadata": {},
   "outputs": [],
   "source": [
    "texto_original = \"\"\"A inteligência artificial é a inteligência similar à humana. Definem como\n",
    "o estudo de agente artificial com inteligência. Ciência e engenharia de\n",
    "produzir máquinas com inteligência. Resolver problemas e possuir\n",
    "inteligência. Relacionada ao comportamento inteligente. Construção de\n",
    "máquinas para raciocinar. Aprender com os erros e acertos. Inteligência\n",
    "artificial é raciocinar nas situações do cotidiano.\"\"\"\n"
   ]
  },
  {
   "cell_type": "code",
   "execution_count": 7,
   "metadata": {},
   "outputs": [],
   "source": [
    "sentencas_originais, melhores_sentencas, notas_sentencas =  sumarizar(texto_original,5, 3, 3)"
   ]
  },
  {
   "cell_type": "code",
   "execution_count": 8,
   "metadata": {},
   "outputs": [
    {
     "data": {
      "text/plain": [
       "['A inteligência artificial é a inteligência similar à humana.',\n",
       " 'Definem como\\no estudo de agente artificial com inteligência.',\n",
       " 'Ciência e engenharia de\\nproduzir máquinas com inteligência.',\n",
       " 'Resolver problemas e possuir\\ninteligência.',\n",
       " 'Relacionada ao comportamento inteligente.',\n",
       " 'Construção de\\nmáquinas para raciocinar.',\n",
       " 'Aprender com os erros e acertos.',\n",
       " 'Inteligência\\nartificial é raciocinar nas situações do cotidiano.']"
      ]
     },
     "execution_count": 8,
     "metadata": {},
     "output_type": "execute_result"
    }
   ],
   "source": [
    "sentencas_originais"
   ]
  },
  {
   "cell_type": "code",
   "execution_count": 9,
   "metadata": {},
   "outputs": [
    {
     "data": {
      "text/plain": [
       "['Aprender com os erros e acertos.',\n",
       " 'Definem como\\no estudo de agente artificial com inteligência.',\n",
       " 'Construção de\\nmáquinas para raciocinar.']"
      ]
     },
     "execution_count": 9,
     "metadata": {},
     "output_type": "execute_result"
    }
   ],
   "source": [
    "melhores_sentencas"
   ]
  },
  {
   "cell_type": "code",
   "execution_count": 10,
   "metadata": {},
   "outputs": [
    {
     "data": {
      "text/plain": [
       "[(2.0, 0), (2.25, 1), (2.0, 2), (2.0, 3), (2.0, 4), (2.0, 5), (3.0, 6)]"
      ]
     },
     "execution_count": 10,
     "metadata": {},
     "output_type": "execute_result"
    }
   ],
   "source": [
    "notas_sentencas"
   ]
  },
  {
   "cell_type": "markdown",
   "metadata": {},
   "source": [
    "# Visualização do Resumo"
   ]
  },
  {
   "cell_type": "code",
   "execution_count": 11,
   "metadata": {},
   "outputs": [],
   "source": [
    "def visualiza_resumo(titulo, lista_sentencas, melhores_sentencas):\n",
    "\n",
    "    from IPython.core.display import HTML\n",
    "    texto = \"\"\n",
    "\n",
    "    display(HTML(f\"<h1>Resumo do texto</h1>\"))\n",
    "    for sentenca in lista_sentencas:\n",
    "        if sentenca in melhores_sentencas:\n",
    "            texto += str(sentenca).replace(sentenca, f\"<mark>{sentenca}</mark>\")\n",
    "        else:\n",
    "            texto += sentenca\n",
    "    display(HTML(f\"\"\"{texto}\"\"\"))"
   ]
  },
  {
   "cell_type": "code",
   "execution_count": 12,
   "metadata": {},
   "outputs": [
    {
     "data": {
      "text/html": [
       "<h1>Resumo do texto</h1>"
      ],
      "text/plain": [
       "<IPython.core.display.HTML object>"
      ]
     },
     "metadata": {},
     "output_type": "display_data"
    },
    {
     "data": {
      "text/html": [
       "A inteligência artificial é a inteligência similar à humana.<mark>Definem como\n",
       "o estudo de agente artificial com inteligência.</mark>Ciência e engenharia de\n",
       "produzir máquinas com inteligência.Resolver problemas e possuir\n",
       "inteligência.Relacionada ao comportamento inteligente.<mark>Construção de\n",
       "máquinas para raciocinar.</mark><mark>Aprender com os erros e acertos.</mark>Inteligência\n",
       "artificial é raciocinar nas situações do cotidiano."
      ],
      "text/plain": [
       "<IPython.core.display.HTML object>"
      ]
     },
     "metadata": {},
     "output_type": "display_data"
    }
   ],
   "source": [
    "visualiza_resumo(\"teste\", sentencas_originais, melhores_sentencas)"
   ]
  },
  {
   "cell_type": "markdown",
   "metadata": {},
   "source": [
    "# Extraindo texto da internet"
   ]
  },
  {
   "cell_type": "code",
   "execution_count": 13,
   "metadata": {},
   "outputs": [],
   "source": [
    "from goose3 import Goose"
   ]
  },
  {
   "cell_type": "code",
   "execution_count": 15,
   "metadata": {},
   "outputs": [],
   "source": [
    "g = Goose()\n",
    "artigo = g.extract(url=\"https://iaexpert.academy/2021/10/25/ia-atinge-novo-patamar-geracao-imagens-corpo-inteiro-a-partir-uma-unica-foto/\")"
   ]
  },
  {
   "cell_type": "code",
   "execution_count": 16,
   "metadata": {},
   "outputs": [
    {
     "data": {
      "text/plain": [
       "'A geração de imagens humanas fotorrealistas tem aplicações que incluem a criação de avatares virtuais, provadores virtuais, transferência de movimentos e a chamada síntese de posicionamento, onde várias imagens são usadas para gerar uma imagem de um novo ponto de vista. No caso de pessoas, esta tarefa é particularmente complicada para as abordagens tradicionais de processamento gráfico porque ela envolve a geometria tridimensional do corpo e das roupas; o controle das poses que é limitado pela estrutura física dos corpos e que causa deformações na forma; e a síntese de padrões de dobra que ocorrem, por exemplo, com roupas largas. Recentemente, métodos baseados em inteligência artificial mostraram resultados promissores utilizando redes generativas adversariais, mas para aplicações muito particulares, não atingindo o grau de generalização necessário para seu uso indiscriminado.\\n\\nPartindo destes métodos, pesquisadores da Virginia Tech, nos Estados Unidos, em parceria com a Adobe, apresentaram um sistema capaz de gerar renderizações humanas fotorrealistas em novas posições, mantendo os detalhes, a partir de uma única imagem original. O modelo usa a rede generativa chamada de StyleGAN, para transferência de estilo, mas numa abordagem condicionada pela pose. Os detalhes da imagem original são mantidos modulando a rede geradora através técnicas computacionais baseadas em superfície, que garantem a correta transferência da informação de um pixel dadas as restrições impostas pela nova posição.\\n\\nO desempenho do modelo foi avaliado tanto na manutenção da identidade da pessoa representada na nova posição, quanto no detalhamento presente nas roupas. A figura abaixo demonstra, no primeiro caso, o reposicionamento corporal, e no segundo, a transferência de roupa.\\n\\nO sistema se mostrou superior às alternativas disponíveis atualmente, representando um avanço real na tarefa de mapear os atributos físicos de uma imagem original para uma nova pose.'"
      ]
     },
     "execution_count": 16,
     "metadata": {},
     "output_type": "execute_result"
    }
   ],
   "source": [
    "artigo.cleaned_text"
   ]
  },
  {
   "cell_type": "code",
   "execution_count": 24,
   "metadata": {},
   "outputs": [],
   "source": [
    "sentencas_originais, melhores_sentencas, notas_sentencas =  sumarizar(artigo.cleaned_text,10, 10, 3)"
   ]
  },
  {
   "cell_type": "code",
   "execution_count": 25,
   "metadata": {},
   "outputs": [
    {
     "data": {
      "text/plain": [
       "['A geração de imagens humanas fotorrealistas tem aplicações que incluem a criação de avatares virtuais, provadores virtuais, transferência de movimentos e a chamada síntese de posicionamento, onde várias imagens são usadas para gerar uma imagem de um novo ponto de vista.',\n",
       " 'No caso de pessoas, esta tarefa é particularmente complicada para as abordagens tradicionais de processamento gráfico porque ela envolve a geometria tridimensional do corpo e das roupas; o controle das poses que é limitado pela estrutura física dos corpos e que causa deformações na forma; e a síntese de padrões de dobra que ocorrem, por exemplo, com roupas largas.',\n",
       " 'Recentemente, métodos baseados em inteligência artificial mostraram resultados promissores utilizando redes generativas adversariais, mas para aplicações muito particulares, não atingindo o grau de generalização necessário para seu uso indiscriminado.',\n",
       " 'Partindo destes métodos, pesquisadores da Virginia Tech, nos Estados Unidos, em parceria com a Adobe, apresentaram um sistema capaz de gerar renderizações humanas fotorrealistas em novas posições, mantendo os detalhes, a partir de uma única imagem original.',\n",
       " 'O modelo usa a rede generativa chamada de StyleGAN, para transferência de estilo, mas numa abordagem condicionada pela pose.',\n",
       " 'Os detalhes da imagem original são mantidos modulando a rede geradora através técnicas computacionais baseadas em superfície, que garantem a correta transferência da informação de um pixel dadas as restrições impostas pela nova posição.',\n",
       " 'O desempenho do modelo foi avaliado tanto na manutenção da identidade da pessoa representada na nova posição, quanto no detalhamento presente nas roupas.',\n",
       " 'A figura abaixo demonstra, no primeiro caso, o reposicionamento corporal, e no segundo, a transferência de roupa.',\n",
       " 'O sistema se mostrou superior às alternativas disponíveis atualmente, representando um avanço real na tarefa de mapear os atributos físicos de uma imagem original para uma nova pose.']"
      ]
     },
     "execution_count": 25,
     "metadata": {},
     "output_type": "execute_result"
    }
   ],
   "source": [
    "sentencas_originais"
   ]
  },
  {
   "cell_type": "code",
   "execution_count": 26,
   "metadata": {},
   "outputs": [
    {
     "data": {
      "text/plain": [
       "['Recentemente, métodos baseados em inteligência artificial mostraram resultados promissores utilizando redes generativas adversariais, mas para aplicações muito particulares, não atingindo o grau de generalização necessário para seu uso indiscriminado.',\n",
       " 'Os detalhes da imagem original são mantidos modulando a rede geradora através técnicas computacionais baseadas em superfície, que garantem a correta transferência da informação de um pixel dadas as restrições impostas pela nova posição.',\n",
       " 'O modelo usa a rede generativa chamada de StyleGAN, para transferência de estilo, mas numa abordagem condicionada pela pose.']"
      ]
     },
     "execution_count": 26,
     "metadata": {},
     "output_type": "execute_result"
    }
   ],
   "source": [
    "melhores_sentencas"
   ]
  },
  {
   "cell_type": "code",
   "execution_count": 27,
   "metadata": {},
   "outputs": [
    {
     "data": {
      "text/plain": [
       "[(2.0, 0),\n",
       " (3.0, 1),\n",
       " (4.0, 2),\n",
       " (3.125, 3),\n",
       " (3.272727272727273, 4),\n",
       " (3.272727272727273, 5),\n",
       " (2.0, 6),\n",
       " (1.0, 7),\n",
       " (1.6, 8),\n",
       " (2.0, 9),\n",
       " (2.0, 10),\n",
       " (2.0, 11),\n",
       " (0.6666666666666666, 12),\n",
       " (2.0, 13),\n",
       " (3.0, 14)]"
      ]
     },
     "execution_count": 27,
     "metadata": {},
     "output_type": "execute_result"
    }
   ],
   "source": [
    "notas_sentencas"
   ]
  },
  {
   "cell_type": "code",
   "execution_count": 28,
   "metadata": {},
   "outputs": [
    {
     "data": {
      "text/html": [
       "<h1>Resumo do texto</h1>"
      ],
      "text/plain": [
       "<IPython.core.display.HTML object>"
      ]
     },
     "metadata": {},
     "output_type": "display_data"
    },
    {
     "data": {
      "text/html": [
       "A geração de imagens humanas fotorrealistas tem aplicações que incluem a criação de avatares virtuais, provadores virtuais, transferência de movimentos e a chamada síntese de posicionamento, onde várias imagens são usadas para gerar uma imagem de um novo ponto de vista.No caso de pessoas, esta tarefa é particularmente complicada para as abordagens tradicionais de processamento gráfico porque ela envolve a geometria tridimensional do corpo e das roupas; o controle das poses que é limitado pela estrutura física dos corpos e que causa deformações na forma; e a síntese de padrões de dobra que ocorrem, por exemplo, com roupas largas.<mark>Recentemente, métodos baseados em inteligência artificial mostraram resultados promissores utilizando redes generativas adversariais, mas para aplicações muito particulares, não atingindo o grau de generalização necessário para seu uso indiscriminado.</mark>Partindo destes métodos, pesquisadores da Virginia Tech, nos Estados Unidos, em parceria com a Adobe, apresentaram um sistema capaz de gerar renderizações humanas fotorrealistas em novas posições, mantendo os detalhes, a partir de uma única imagem original.<mark>O modelo usa a rede generativa chamada de StyleGAN, para transferência de estilo, mas numa abordagem condicionada pela pose.</mark><mark>Os detalhes da imagem original são mantidos modulando a rede geradora através técnicas computacionais baseadas em superfície, que garantem a correta transferência da informação de um pixel dadas as restrições impostas pela nova posição.</mark>O desempenho do modelo foi avaliado tanto na manutenção da identidade da pessoa representada na nova posição, quanto no detalhamento presente nas roupas.A figura abaixo demonstra, no primeiro caso, o reposicionamento corporal, e no segundo, a transferência de roupa.O sistema se mostrou superior às alternativas disponíveis atualmente, representando um avanço real na tarefa de mapear os atributos físicos de uma imagem original para uma nova pose."
      ],
      "text/plain": [
       "<IPython.core.display.HTML object>"
      ]
     },
     "metadata": {},
     "output_type": "display_data"
    }
   ],
   "source": [
    "visualiza_resumo(\"teste\", sentencas_originais, melhores_sentencas)"
   ]
  },
  {
   "cell_type": "code",
   "execution_count": null,
   "metadata": {},
   "outputs": [],
   "source": []
  },
  {
   "cell_type": "code",
   "execution_count": null,
   "metadata": {},
   "outputs": [],
   "source": []
  }
 ],
 "metadata": {
  "kernelspec": {
   "display_name": "Python 3.8.10 64-bit ('classificacao-de-dados-pln-ri4D_3JE-py3.8': poetry)",
   "language": "python",
   "name": "python3810jvsc74a57bd0d15d06e0b4f8c7339e03d8a52ec615cc5c2c11d6eff72b41b29fe9d431380b8d"
  },
  "language_info": {
   "codemirror_mode": {
    "name": "ipython",
    "version": 3
   },
   "file_extension": ".py",
   "mimetype": "text/x-python",
   "name": "python",
   "nbconvert_exporter": "python",
   "pygments_lexer": "ipython3",
   "version": "3.8.10"
  }
 },
 "nbformat": 4,
 "nbformat_minor": 4
}
