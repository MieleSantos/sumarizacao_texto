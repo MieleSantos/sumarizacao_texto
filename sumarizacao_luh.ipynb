{
 "cells": [
  {
   "cell_type": "markdown",
   "metadata": {},
   "source": [
    "# Sumarização com algoritimo LUHN"
   ]
  },
  {
   "cell_type": "markdown",
   "metadata": {},
   "source": [
    "O algoritmo de LUHN\n",
    "- Seleciona palavras de amiro importancia baseado na frequencia\n",
    "- Pesos maiores são associados á palavras no inicio do documento\n",
    "- Para calcular a nota de uma sentença: 4 elevado 2/6=2,7"
   ]
  },
  {
   "cell_type": "code",
   "execution_count": null,
   "metadata": {},
   "outputs": [],
   "source": []
  },
  {
   "cell_type": "code",
   "execution_count": 1,
   "metadata": {},
   "outputs": [],
   "source": [
    "import re\n",
    "import nltk\n",
    "import string"
   ]
  },
  {
   "cell_type": "code",
   "execution_count": 2,
   "metadata": {},
   "outputs": [
    {
     "name": "stderr",
     "output_type": "stream",
     "text": [
      "[nltk_data] Downloading package punkt to /home/derpy/nltk_data...\n",
      "[nltk_data]   Package punkt is already up-to-date!\n",
      "[nltk_data] Downloading package stopwords to /home/derpy/nltk_data...\n",
      "[nltk_data]   Package stopwords is already up-to-date!\n"
     ]
    },
    {
     "data": {
      "text/plain": [
       "True"
      ]
     },
     "execution_count": 2,
     "metadata": {},
     "output_type": "execute_result"
    }
   ],
   "source": [
    "nltk.download(\"punkt\")\n",
    "nltk.download(\"stopwords\")\n"
   ]
  },
  {
   "cell_type": "code",
   "execution_count": null,
   "metadata": {},
   "outputs": [],
   "source": []
  },
  {
   "cell_type": "code",
   "execution_count": 7,
   "metadata": {},
   "outputs": [],
   "source": [
    "\n",
    "def preprocessamento(texto):\n",
    "    stopwords = nltk.corpus.stopwords.words(\"portuguese\")\n",
    "    # deixando o texto em minusculo\n",
    "    texto_formatado = texto.lower()\n",
    "    tokens = []\n",
    "    \n",
    "    # tokenizando o texto\n",
    "    for token in nltk.word_tokenize(texto_formatado):\n",
    "        tokens.append(token)\n",
    "    # removendo as stopwords\n",
    "    tokens = [palavra for palavra in tokens if palavra not in stopwords]\n",
    "    \n",
    "    # removendo a pontuação\n",
    "    tokens = [palavra for palavra in tokens if palavra not in string.punctuation]\n",
    "    \n",
    "    # formatando a lista em string\n",
    "    texto_formatado = \" \".join([str(elemento) for elemento in tokens if not elemento.isdigit()])\n",
    "    \n",
    "    return texto_formatado"
   ]
  },
  {
   "cell_type": "markdown",
   "metadata": {},
   "source": [
    "#### Função para calcular a nota das sentenças"
   ]
  },
  {
   "cell_type": "code",
   "execution_count": 42,
   "metadata": {},
   "outputs": [],
   "source": [
    "def calcular_nota_sentenca(sentencas,palavras_importantes, distancia):\n",
    "    notas = []\n",
    "    indice_sentenca = 0\n",
    "    \n",
    "    for sentenca in [nltk.word_tokenize(sentenca.lower()) for sentenca in sentencas]:\n",
    "        print(\"-------\")\n",
    "        print(sentenca)\n",
    "        indice_palavra = []\n",
    "        for palavras in palavras_importantes:\n",
    "            try:\n",
    "                indice_palavra.append(sentenca.index(palavras))\n",
    "            except ValueError:\n",
    "                pass\n",
    "        indice_palavra.sort()\n",
    "        print(indice_palavra)"
   ]
  },
  {
   "cell_type": "markdown",
   "metadata": {},
   "source": [
    "#### Função pra sumarizar os textos"
   ]
  },
  {
   "cell_type": "code",
   "execution_count": 32,
   "metadata": {},
   "outputs": [],
   "source": [
    "def sumarizar(texto, top_n_palavra, distancia):\n",
    "    sentencas_originais = [sentenca for sentenca in nltk.sent_tokenize(texto)]\n",
    "    sentencas_formatadas = [preprocessamento(sentenca) for sentenca in sentencas_originais]\n",
    "  \n",
    "    palavra = [palavra for sentenca in sentencas_formatadas for palavra in nltk.word_tokenize(sentenca)]\n",
    "    frequencia = nltk.FreqDist(palavra)\n",
    " \n",
    "    top_palavras = [palavra[0] for palavra in frequencia.most_common(top_n_palavra)]\n",
    "    calcular_nota_sentenca(sentencas_formatadas, top_palavras, distancia)\n",
    "    return top_palavras"
   ]
  },
  {
   "cell_type": "code",
   "execution_count": 33,
   "metadata": {},
   "outputs": [],
   "source": [
    "texto_original = \"\"\"A inteligência artificial é a inteligência similar à humana. Definem como\n",
    "o estudo de agente artificial com inteligência. Ciência e engenharia de\n",
    "produzir máquinas com inteligência. Resolver problemas e possuir\n",
    "inteligência. Relacionada ao comportamento inteligente. Construção de\n",
    "máquinas para raciocinar. Aprender com os erros e acertos. Inteligência\n",
    "artificial é raciocinar nas situações do cotidiano.\"\"\"\n"
   ]
  },
  {
   "cell_type": "code",
   "execution_count": 43,
   "metadata": {},
   "outputs": [
    {
     "name": "stdout",
     "output_type": "stream",
     "text": [
      "-------\n",
      "['inteligência', 'artificial', 'inteligência', 'similar', 'humana']\n",
      "[0, 1, 3]\n",
      "-------\n",
      "['definem', 'estudo', 'agente', 'artificial', 'inteligência']\n",
      "[3, 4]\n",
      "-------\n",
      "['ciência', 'engenharia', 'produzir', 'máquinas', 'inteligência']\n",
      "[3, 4]\n",
      "-------\n",
      "['resolver', 'problemas', 'possuir', 'inteligência']\n",
      "[3]\n",
      "-------\n",
      "['relacionada', 'comportamento', 'inteligente']\n",
      "[]\n",
      "-------\n",
      "['construção', 'máquinas', 'raciocinar']\n",
      "[1, 2]\n",
      "-------\n",
      "['aprender', 'erros', 'acertos']\n",
      "[]\n",
      "-------\n",
      "['inteligência', 'artificial', 'raciocinar', 'situações', 'cotidiano']\n",
      "[0, 1, 2]\n"
     ]
    },
    {
     "data": {
      "text/plain": [
       "['inteligência', 'artificial', 'máquinas', 'raciocinar', 'similar']"
      ]
     },
     "execution_count": 43,
     "metadata": {},
     "output_type": "execute_result"
    }
   ],
   "source": [
    "sumarizar(texto_original,5, 3)"
   ]
  },
  {
   "cell_type": "code",
   "execution_count": null,
   "metadata": {},
   "outputs": [],
   "source": []
  }
 ],
 "metadata": {
  "kernelspec": {
   "display_name": "classificacao-de-dados-pln-ri4D_3JE-py3.8",
   "language": "python",
   "name": "classificacao-de-dados-pln-ri4d_3je-py3.8"
  },
  "language_info": {
   "codemirror_mode": {
    "name": "ipython",
    "version": 3
   },
   "file_extension": ".py",
   "mimetype": "text/x-python",
   "name": "python",
   "nbconvert_exporter": "python",
   "pygments_lexer": "ipython3",
   "version": "3.8.10"
  }
 },
 "nbformat": 4,
 "nbformat_minor": 4
}
